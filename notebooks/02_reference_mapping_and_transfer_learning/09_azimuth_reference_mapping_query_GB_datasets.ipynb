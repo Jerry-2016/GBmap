{
 "cells": [
  {
   "cell_type": "markdown",
   "id": "2f5f82c5-2c87-4c91-9daa-f4185d803ccd",
   "metadata": {},
   "source": [
    "R environment"
   ]
  },
  {
   "cell_type": "code",
   "execution_count": null,
   "id": "39df14a2",
   "metadata": {
    "scrolled": true,
    "tags": []
   },
   "outputs": [
    {
     "name": "stderr",
     "output_type": "stream",
     "text": [
      "Warning message:\n",
      "“Strategy 'multiprocess' is deprecated in future (>= 1.20.0). Instead, explicitly specify either 'multisession' or 'multicore'. In the current R session, 'multiprocess' equals 'multicore'.”\n"
     ]
    }
   ],
   "source": [
    "suppressPackageStartupMessages({\n",
    "    library(Seurat)\n",
    "    library(dplyr)\n",
    "    library(future)\n",
    "    plan(\"multiprocess\", workers = 12)\n",
    "    options(future.globals.maxSize = 1000 * 1024^8)\n",
    "    options(stringsAsFactors = FALSE)\n",
    "    set.seed(123)\n",
    "})"
   ]
  },
  {
   "cell_type": "code",
   "execution_count": null,
   "id": "a97fd308",
   "metadata": {},
   "outputs": [],
   "source": [
    "reference <- readRDS('data/core_GBmap.rds')"
   ]
  },
  {
   "cell_type": "markdown",
   "id": "e90867d4",
   "metadata": {},
   "source": [
    "### Load query"
   ]
  },
  {
   "cell_type": "code",
   "execution_count": null,
   "id": "46e27f5d-65ca-4c2f-8450-86e344ea2f63",
   "metadata": {},
   "outputs": [],
   "source": [
    "use_condaenv(\"scarches\")\n",
    "sc <- import(\"scanpy\")"
   ]
  },
  {
   "cell_type": "code",
   "execution_count": null,
   "id": "53c67f62-abda-4254-889d-3c8283c4f5b8",
   "metadata": {},
   "outputs": [],
   "source": [
    "gbm <- readRDS('data/query_GB_datasets.rds')"
   ]
  },
  {
   "cell_type": "code",
   "execution_count": null,
   "id": "25228ac4-a698-49a1-8082-2039bbb9d37d",
   "metadata": {},
   "outputs": [
    {
     "data": {
      "text/plain": [
       "An object of class Seurat \n",
       "91847 features across 797113 samples within 3 assays \n",
       "Active assay: RNA (91773 features, 2000 variable features)\n",
       " 2 other assays present: prediction.score.high_hierarchy, prediction.score.low_hierarchy\n",
       " 2 dimensional reductions calculated: pca, ref.pca"
      ]
     },
     "metadata": {},
     "output_type": "display_data"
    }
   ],
   "source": [
    "gbm"
   ]
  },
  {
   "cell_type": "code",
   "execution_count": null,
   "id": "081a2bdf",
   "metadata": {
    "scrolled": true,
    "tags": []
   },
   "outputs": [
    {
     "name": "stderr",
     "output_type": "stream",
     "text": [
      "Centering and scaling data matrix\n",
      "\n",
      "PC_ 1 \n",
      "Positive:  CTSD, S100A4, CCL4L2, IL1B, CCL3L1, HMOX1, CTSL, CXCL8, S100A6, PLIN2 \n",
      "\t   LYZ, NDUFB2, S100A9, HLA-DRB5, FCGBP, CFD, GPNMB, PLTP, IFITM3, TGFBI \n",
      "\t   MT2A, S100A8, TAGLN2, CH25H, G0S2, ZNF331, HAMP, TIMP1, LY6E, APOC2 \n",
      "Negative:  LSAMP, CADM2, PPP2R2B, DLG2, LRP1B, NCAM2, IL1RAPL1, AKAP6, PTPRD, CTNNA2 \n",
      "\t   DNM3, ANKS1B, FRMD5, KAZN, ERBB4, NRXN1, SOX5, DMD, LRRC4C, PTPRK \n",
      "\t   DLGAP1, CSMD1, NRXN3, SOX6, GRIK2, SNTG1, LHFPL3, DSCAML1, GALNT13, ASTN2 \n",
      "PC_ 2 \n",
      "Positive:  SOX5, SNTG1, SOX6, NRXN1, SLC35F1, MMP16, KCND2, DLGAP1, LHFPL3, GLIS3 \n",
      "\t   NKAIN3, THSD7A, BRINP3, KALRN, PLCB1, GRIK2, EGFR, ROBO2, EGFEM1P, SLC4A4 \n",
      "\t   FGF14, DCLK1, GRIA1, RGS6, TNC, SLC1A2, CACNB2, FAT3, OPCML, NXPH1 \n",
      "Negative:  SPOCK3, MOG, ST18, CNDP1, EDIL3, ENPP2, TF, AK5, PCSK6, MOBP \n",
      "\t   TMEM144, NKAIN2, SLC24A2, PLEKHH1, PEX5L, CNTNAP4, MAP7, C10orf90, GRM3, SLC5A11 \n",
      "\t   DOCK5, LRP2, SH3GL3, KLHL32, MBP, PIEZO2, MAG, CTNNA3, PLP1, FGFR2 \n",
      "PC_ 3 \n",
      "Positive:  FRMD4A, ST6GAL1, ELL2, KCNQ3, FMN1, ZNF331, CCL4L2, IL1B, PDE3B, CCL3L1 \n",
      "\t   PELI1, HMOX1, FCGBP, HLA-DRB5, SYTL3, ARHGAP25, CXCL8, PRKCH, TNS3, SH3RF3 \n",
      "\t   KYNU, PADI2, S100A4, PDK4, GLDN, ABCC4, LINC00513, LYZ, IPCEF1, PLIN2 \n",
      "Negative:  IGFBP2, CLU, FABP7, MT3, S100B, S100A16, METRN, SPARC, MDK, PMP2 \n",
      "\t   GAP43, RBP1, CALD1, CAMK2N1, SEC61G, AGT, SPARCL1, CSRP2, HOPX, BCAN \n",
      "\t   TMEM158, IGFBP5, MT2A, PDLIM4, UCHL1, CRIP2, FJX1, IGFBP7, GADD45A, CRYAB \n",
      "PC_ 4 \n",
      "Positive:  CA10, TNR, BCAN, PCDH15, OPCML, NXPH1, C1QL1, CSMD3, SMOC1, DLL3 \n",
      "\t   FERMT1, MDGA2, FGF12, FGF14, PDGFRA, CNTN1, MEGF11, SOX4, DSCAM, XKR4 \n",
      "\t   HES6, RIMS1, NKAIN4, PCDH11X, HECW1, S100B, METRN, TMEM132B, RAB3C, ARPP21 \n",
      "Negative:  COL8A1, LAMA2, PLA2R1, IGFBP7, CP, WWTR1, JPH1, ARSJ, RMST, RYR3 \n",
      "\t   AL596087.2, SVIL, NPAS2, SEMA3A, AL591686.2, SLC4A4, SCN7A, LINC00299, CHSY3, AP000787.1 \n",
      "\t   EFNA5, RORB, LINC01876, AC004470.2, ITGA2, SPON1, SHROOM3, NECTIN3, AC064875.1, CPNE4 \n",
      "PC_ 5 \n",
      "Positive:  EGFR, SOX2-OT, EGFEM1P, AC064875.1, SLC4A4, LHFPL3, MIR100HG, AGMO, SEMA5A, AL589740.1 \n",
      "\t   AC124254.2, MT-RNR2, SOX5, MT-RNR1, RGS6, AC004470.2, SOX6, RMST, SHROOM3, SLC35F1 \n",
      "\t   NKAIN3, CDH4, AC007402.1, PPP2R2B, CEROX1, SLC1A2, LANCL2, PARD3B, AC114971.1, LSAMP \n",
      "Negative:  CACNA1B, GABRG3, ATP8A2, KSR2, DLGAP2, MTUS2, HCN1, SYN2, RYR2, CDH18 \n",
      "\t   CCSER1, LRFN5, KHDRBS2, GRIN2A, CNTN4, CCDC3, ZNF385B, CELF4, GABRB2, CACNA2D3 \n",
      "\t   CNTN5, ADGRF5, RALYL, SRRM4, KCNC2, FSTL4, CLDN5, ESAM, RBFOX3, LINGO2 \n",
      "\n"
     ]
    },
    {
     "data": {
      "text/plain": [
       "An object of class Seurat \n",
       "91773 features across 797113 samples within 1 assay \n",
       "Active assay: RNA (91773 features, 2000 variable features)\n",
       " 1 dimensional reduction calculated: pca"
      ]
     },
     "metadata": {},
     "output_type": "display_data"
    }
   ],
   "source": [
    "gbm <- NormalizeData(gbm)%>%FindVariableFeatures()%>%ScaleData()%>%RunPCA()\n",
    "gbm"
   ]
  },
  {
   "cell_type": "markdown",
   "id": "2e64802e",
   "metadata": {},
   "source": [
    "### Reference mapping"
   ]
  },
  {
   "cell_type": "code",
   "execution_count": null,
   "id": "7b2fc3af",
   "metadata": {
    "scrolled": true
   },
   "outputs": [],
   "source": [
    "reference <- FindVariableFeatures(reference, selection.method = \"vst\", nfeatures = 2000)\n",
    "reference <- ScaleData(reference, features = VariableFeatures(object = reference), verbose = FALSE)\n",
    "reference <- RunPCA(reference, features = VariableFeatures(object = reference), verbose = FALSE)"
   ]
  },
  {
   "cell_type": "code",
   "execution_count": null,
   "id": "8a8987ff",
   "metadata": {},
   "outputs": [
    {
     "name": "stderr",
     "output_type": "stream",
     "text": [
      "Projecting cell embeddings\n",
      "\n",
      "Finding neighborhoods\n",
      "\n",
      "Finding anchors\n",
      "\n",
      "\tFound 265885 anchors\n",
      "\n",
      "Filtering anchors\n",
      "\n",
      "\tRetained 38658 anchors\n",
      "\n"
     ]
    }
   ],
   "source": [
    "anchors <- FindTransferAnchors(\n",
    "  reference = reference,\n",
    "  query = gbm,\n",
    "  features = rownames(reference[[\"RNA\"]]),\n",
    "  normalization.method = \"LogNormalize\",\n",
    "  reference.reduction = \"pca\",\n",
    "  dims = 1:50\n",
    ")"
   ]
  },
  {
   "cell_type": "markdown",
   "id": "62781b2a",
   "metadata": {},
   "source": [
    "`Map Query` functions run separately"
   ]
  },
  {
   "cell_type": "code",
   "execution_count": null,
   "id": "87769c0c-b182-421f-b465-e5437b61c9b0",
   "metadata": {
    "tags": []
   },
   "outputs": [
    {
     "name": "stderr",
     "output_type": "stream",
     "text": [
      "Finding integration vectors\n",
      "\n",
      "Finding integration vector weights\n",
      "\n",
      "Predicting cell labels\n",
      "\n",
      "Warning message:\n",
      "“Keys should be one or more alphanumeric characters followed by an underscore, setting key from predictionscorehigh_hierarchy_ to predictionscorehighhierarchy_”\n",
      "Predicting cell labels\n",
      "\n",
      "Warning message:\n",
      "“Keys should be one or more alphanumeric characters followed by an underscore, setting key from predictionscorelow_hierarchy_ to predictionscorelowhierarchy_”\n"
     ]
    }
   ],
   "source": [
    "gbm <- TransferData(\n",
    "  anchorset = anchors, \n",
    "  reference = reference,\n",
    "  query = gbm,\n",
    "  refdata = list(\n",
    "      high_hierarchy = 'annotation_level_3',\n",
    "      low_hierarchy = 'annotation_level_4'\n",
    "  ),\n",
    ")"
   ]
  },
  {
   "cell_type": "code",
   "execution_count": null,
   "id": "1d021219",
   "metadata": {},
   "outputs": [
    {
     "name": "stderr",
     "output_type": "stream",
     "text": [
      "\n",
      "Integrating dataset 2 with reference dataset\n",
      "\n",
      "Finding integration vectors\n",
      "\n",
      "Integrating data\n",
      "\n",
      "Warning message:\n",
      "“UNRELIABLE VALUE: One of the ‘future.apply’ iterations (‘future_lapply-1’) unexpectedly generated random numbers without declaring so. There is a risk that those random numbers are not statistically sound and the overall results might be invalid. To fix this, specify 'future.seed=TRUE'. This ensures that proper, parallel-safe random numbers are produced via the L'Ecuyer-CMRG method. To disable this check, use 'future.seed = NULL', or set option 'future.rng.onMisuse' to \"ignore\".”\n"
     ]
    }
   ],
   "source": [
    "gbm <- IntegrateEmbeddings(\n",
    "  anchorset = anchors,\n",
    "  reference = reference,\n",
    "  query = gbm, \n",
    "  new.reduction.name = \"ref.pca\"\n",
    ")"
   ]
  },
  {
   "cell_type": "code",
   "execution_count": null,
   "id": "83dcb1db-8f9c-44e5-990a-d8c9180766a9",
   "metadata": {},
   "outputs": [],
   "source": [
    "saveRDS(gbm, 'data/mapped_query_GB_datasets.rds')"
   ]
  }
 ],
 "metadata": {
  "kernelspec": {
   "display_name": "R",
   "language": "R",
   "name": "ir"
  },
  "language_info": {
   "codemirror_mode": "r",
   "file_extension": ".r",
   "mimetype": "text/x-r-source",
   "name": "R",
   "pygments_lexer": "r",
   "version": "4.0.3"
  }
 },
 "nbformat": 4,
 "nbformat_minor": 5
}
