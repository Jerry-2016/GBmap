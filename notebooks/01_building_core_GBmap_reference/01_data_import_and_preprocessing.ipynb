{
 "cells": [
  {
   "cell_type": "markdown",
   "metadata": {},
   "source": [
    "R environment"
   ]
  },
  {
   "cell_type": "code",
   "execution_count": null,
   "metadata": {
    "scrolled": true,
    "tags": []
   },
   "outputs": [],
   "source": [
    "library(tidyverse)\n",
    "library(Seurat)\n",
    "library(stringr)\n",
    "library(tibble)\n",
    "library(data.table)\n",
    "library(DoubletFinder)\n",
    "library(KernSmooth)\n",
    "library(Matrix)\n",
    "library(dplyr)\n",
    "library(future)\n",
    "library(cluster)\n",
    "library(HGNChelper)\n",
    "library(parallel)\n",
    "source(\"helper_functions_v1.R\")\n",
    "library(future)\n",
    "set.seed(1)\n",
    "plan(\"multiprocess\", workers = 8)\n",
    "options(future.globals.maxSize = 1000 * 1024^6)"
   ]
  },
  {
   "cell_type": "markdown",
   "metadata": {},
   "source": [
    "Filtering criteria: <br>\n",
    "- min.cells = 1000 per study <br>\n",
    "- min.gene = 500 <br>\n",
    "- min.umi = 1000 <br>\n",
    "- max.MT = 30 <br>"
   ]
  },
  {
   "cell_type": "code",
   "execution_count": null,
   "metadata": {},
   "outputs": [],
   "source": [
    "path.dir = '/hpc/pmc_stunnenberg/cruiz/scRNA/markers-and-databases/GBM_public-data/'"
   ]
  },
  {
   "cell_type": "markdown",
   "metadata": {},
   "source": [
    "Clinical data abbreviations\n",
    "\n",
    "__WT__=wild type  <br>\n",
    "__NT__=not tested  <br>\n",
    "__M__=promoter methylated  <br> \n",
    "__NM__=promoter not methylated"
   ]
  },
  {
   "cell_type": "markdown",
   "metadata": {},
   "source": [
    "## Studies focused on malignant cells"
   ]
  },
  {
   "cell_type": "markdown",
   "metadata": {},
   "source": [
    "### Yuan2018\n",
    "Raw counts matrices <br>\n",
    "Microwell-seq (custom platform) <br>\n",
    "Unkwon whether Matrices were filtered cells by QC (using TISHC metadata for filtering)"
   ]
  },
  {
   "cell_type": "code",
   "execution_count": null,
   "metadata": {
    "code_folding": []
   },
   "outputs": [],
   "source": [
    "tidy.tables <- function(filename) {\n",
    "    dat=data.table::fread(filename)\n",
    "    dat <- as.data.frame(dat[,-1])\n",
    "    dat <- dat[!duplicated(dat$V2), ]\n",
    "    rownames(dat) <- NULL\n",
    "    dat <- column_to_rownames(dat, 'V2')\n",
    "    colnames(dat) <- seq(0, length(colnames(dat))-1)\n",
    "    dat <- as.matrix(dat)\n",
    "}"
   ]
  },
  {
   "cell_type": "code",
   "execution_count": null,
   "metadata": {
    "cell_style": "split",
    "scrolled": true
   },
   "outputs": [],
   "source": [
    "tmp <- list.files(paste0(path.dir, \"Yuan2018\"),\n",
    "               pattern = \"*.txt.gz\", \n",
    "               full.names = T)\n",
    "myfiles = lapply(tmp, tidy.tables)"
   ]
  },
  {
   "cell_type": "code",
   "execution_count": null,
   "metadata": {
    "cell_style": "split",
    "scrolled": true
   },
   "outputs": [],
   "source": [
    "labels <- str_sub(tmp, start = 92, end=str_locate(tmp,\"filtered\")[,1]-2)\n",
    "names(myfiles) <- labels"
   ]
  },
  {
   "cell_type": "code",
   "execution_count": null,
   "metadata": {
    "cell_style": "center",
    "scrolled": true
   },
   "outputs": [],
   "source": [
    "Yuan2018 <- list()\n",
    "for (i in 1:length(myfiles)) {\n",
    "    seu_obj <- CreateSeuratObject(myfiles[[i]], min.features = 500, min.cells = 5,\n",
    "                                  project = names(myfiles[i]))\n",
    "    Yuan2018 <- append(Yuan2018, seu_obj)\n",
    "}"
   ]
  },
  {
   "cell_type": "code",
   "execution_count": null,
   "metadata": {
    "cell_style": "center",
    "scrolled": true
   },
   "outputs": [],
   "source": [
    "Yuan2018_final <- merge(Yuan2018[[1]], y = unlist(Yuan2018[2:length(Yuan2018)]), \n",
    "             add.cell.ids = labels, project = \"Yuan2018\", merge.data = T)"
   ]
  },
  {
   "cell_type": "code",
   "execution_count": null,
   "metadata": {},
   "outputs": [],
   "source": [
    "Yuan2018_final <- PercentageFeatureSet(Yuan2018_final, pattern = \"^MT-\", col.name = \"percent.MT\")\n",
    "Yuan2018_final <- subset(Yuan2018_final, subset = percent.MT < 30 & nCount_RNA > 1000)"
   ]
  },
  {
   "cell_type": "code",
   "execution_count": null,
   "metadata": {},
   "outputs": [],
   "source": [
    "# clinical metadata\n",
    "Yuan2018_clinical <- subset(data.table::fread(paste0(path.dir, 'Yuan2018/clinical_data.txt')),\n",
    "                               select = -c(IDH, `Diagnosis`))\n",
    "Yuan2018_clinical <- Yuan2018_clinical %>% subset(!(Patient == 'PJ016' | # this patient is IDH mutant\n",
    "                                         Patient == 'PJ030')) # this patient had anaplastic astrocytoma"
   ]
  },
  {
   "cell_type": "code",
   "execution_count": null,
   "metadata": {
    "cell_style": "split",
    "scrolled": true
   },
   "outputs": [],
   "source": [
    "# no original metadata available\n",
    "Yuan2018_meta <- subset(data.table::fread(paste0(path.dir, 'Yuan2018/GBM_GSE103224_CellMetainfo_table.tsv')),\n",
    "                        select = -c(UMAP_1,UMAP_2,Cluster))\n",
    "Yuan2018_meta <- Yuan2018_meta %>% subset(!(Patient == 'PJ016' | # this patient is IDH mutant\n",
    "                                         Patient == 'PJ030')) # this patient had anaplastic astrocytoma"
   ]
  },
  {
   "cell_type": "code",
   "execution_count": null,
   "metadata": {
    "cell_style": "split",
    "scrolled": true
   },
   "outputs": [],
   "source": [
    "Yuan2018_meta <- merge(Yuan2018_meta, Yuan2018_clinical, by= \"Patient\")\n",
    "Yuan2018_meta$Platform <- 'Microwell-seq'\n",
    "Yuan2018_meta$Method <- 'cell'"
   ]
  },
  {
   "cell_type": "code",
   "execution_count": null,
   "metadata": {
    "scrolled": true
   },
   "outputs": [],
   "source": [
    "Yuan2018_matrix <- GetAssayData(Yuan2018_final, slot = 'counts')[,colnames(Yuan2018_final) %in% Yuan2018_meta$Cell]"
   ]
  },
  {
   "cell_type": "code",
   "execution_count": null,
   "metadata": {
    "scrolled": true,
    "tags": []
   },
   "outputs": [],
   "source": [
    "gene.names <- checkGeneSymbols(rownames(Yuan2018_matrix), unmapped.as.na=FALSE)\n",
    "rownames(Yuan2018_matrix) <- make.unique(gene.names$Suggested.Symbol)"
   ]
  },
  {
   "cell_type": "markdown",
   "metadata": {},
   "source": [
    "### Neftel2019"
   ]
  },
  {
   "cell_type": "markdown",
   "metadata": {},
   "source": [
    "#### Smart-seq2 - log2(TPM/10+1) values <br>\n",
    "Matrices include only filtered cells by QC"
   ]
  },
  {
   "cell_type": "code",
   "execution_count": null,
   "metadata": {
    "cell_style": "split"
   },
   "outputs": [],
   "source": [
    "Neftel2019_smart <- data.table::fread(paste0(path.dir, 'Neftel2019/IDHwtGBM.processed.SS2.logTPM.txt.gz')) %>% \n",
    "                    column_to_rownames('GENE')"
   ]
  },
  {
   "cell_type": "code",
   "execution_count": null,
   "metadata": {
    "cell_style": "split",
    "scrolled": true
   },
   "outputs": [],
   "source": [
    "# convert from log2(TPM/10+1) to TPM\n",
    "matrix <- as.matrix(Neftel2019_smart)\n",
    "converted_matrix <- (2^matrix-1) * 10\n",
    "original_matrix <- log2(converted_matrix/10 + 1)\n",
    "all.equal(matrix,original_matrix) # verify that the conversion gives the expected results\n",
    "Neftel2019_smart <- round(converted_matrix)"
   ]
  },
  {
   "cell_type": "code",
   "execution_count": null,
   "metadata": {
    "scrolled": true
   },
   "outputs": [],
   "source": [
    "Neftel2019_smart_final <- CreateSeuratObject(Neftel2019_smart, min.features = 500, min.cells = 5, \n",
    "                                  project = 'Neftel2019_smart')"
   ]
  },
  {
   "cell_type": "code",
   "execution_count": null,
   "metadata": {},
   "outputs": [],
   "source": [
    "Neftel2019_smart_final <- PercentageFeatureSet(Neftel2019_smart_final, pattern = \"^MT-\", col.name = \"percent.MT\")\n",
    "Neftel2019_smart_final <- subset(Neftel2019_smart_final, subset = percent.MT < 30)"
   ]
  },
  {
   "cell_type": "code",
   "execution_count": null,
   "metadata": {
    "cell_style": "split",
    "scrolled": true
   },
   "outputs": [],
   "source": [
    "# clinical metadata\n",
    "Neftel2019_clinical <- subset(data.table::fread(paste0(path.dir, 'Neftel2019/clinical_data.txt')),\n",
    "                             select = -c(IDH, `Other mutations`))\n",
    "Neftel2019_clinical$EGFR[Neftel2019_clinical$EGFR == \"Positive\"] <- \"amplified\"\n",
    "Neftel2019_clinical[Neftel2019_clinical == \"Methylated\"] <- \"M\"\n",
    "colnames(Neftel2019_clinical)[1] <- 'Patient'"
   ]
  },
  {
   "cell_type": "code",
   "execution_count": null,
   "metadata": {
    "cell_style": "split"
   },
   "outputs": [],
   "source": [
    "Neftel2019_smart_meta <- data.table::fread(paste0(path.dir, 'Neftel2019/GBM_GSE131928_Smartseq2_CellMetainfo_table.tsv'))"
   ]
  },
  {
   "cell_type": "code",
   "execution_count": null,
   "metadata": {
    "cell_style": "split",
    "scrolled": true
   },
   "outputs": [],
   "source": [
    "Neftel2019_smart_meta <- Neftel2019_smart_meta %>% filter(AgeGroup == 'Adult') # do not include pediatric samples\n",
    "Neftel2019_smart_meta <- subset(Neftel2019_smart_meta, select = -c(UMAP_1,UMAP_2,Cluster, AgeGroup))"
   ]
  },
  {
   "cell_type": "code",
   "execution_count": null,
   "metadata": {
    "cell_style": "split",
    "scrolled": true
   },
   "outputs": [],
   "source": [
    "Neftel2019_smart_meta <- merge(Neftel2019_smart_meta, Neftel2019_clinical, by= \"Patient\")\n",
    "Neftel2019_smart_meta$Platform <- 'Smart-seq2'\n",
    "Neftel2019_smart_meta$Method <- 'cell'"
   ]
  },
  {
   "cell_type": "code",
   "execution_count": null,
   "metadata": {
    "cell_style": "center",
    "scrolled": true
   },
   "outputs": [],
   "source": [
    "Neftel2019_smart_matrix <- GetAssayData(Neftel2019_smart_final, slot = 'counts')[,colnames(Neftel2019_smart_final) %in%  Neftel2019_smart_meta$Cell]"
   ]
  },
  {
   "cell_type": "code",
   "execution_count": null,
   "metadata": {
    "scrolled": true,
    "tags": []
   },
   "outputs": [],
   "source": [
    "gene.names <- checkGeneSymbols(rownames(Neftel2019_smart_matrix), unmapped.as.na=FALSE)\n",
    "rownames(Neftel2019_smart_matrix) <- make.unique(gene.names$Suggested.Symbol)"
   ]
  },
  {
   "cell_type": "markdown",
   "metadata": {},
   "source": [
    "#### 10x genomics - raw counts <br>\n",
    "Matrices include only filtered cells by QC"
   ]
  },
  {
   "cell_type": "code",
   "execution_count": null,
   "metadata": {
    "scrolled": true
   },
   "outputs": [],
   "source": [
    "Neftel2019_10x_1 <- CreateSeuratObject(Read10X(paste0(path.dir, '/Neftel2019/scRNA_10x/IDHwtGBM_1/')),\n",
    "                                       min.features = 500, min.cells = 5, project = 'Neftel2019_10x_1')\n",
    "Neftel2019_10x_2 <- CreateSeuratObject(Read10X(paste0(path.dir, '/Neftel2019/scRNA_10x/IDHwtGBM_2/')), \n",
    "                                       min.features = 500, min.cells = 5, project = 'Neftel2019_10x_2')\n",
    "merged_Neftel <- merge(Neftel2019_10x_1, Neftel2019_10x_2)"
   ]
  },
  {
   "cell_type": "code",
   "execution_count": null,
   "metadata": {},
   "outputs": [],
   "source": [
    "# matrices contain different samples. First, they are split by orig.ident\n",
    "seu.list <- list()\n",
    "for(i in 1:length(table(merged_Neftel@meta.data$orig.ident))){\n",
    "    seu_obj <- subset(merged_Neftel, subset = orig.ident == names(table(merged_Neftel@meta.data$orig.ident))[[i]])\n",
    "    seu.list <- append(seu.list, seu_obj)\n",
    "    }"
   ]
  },
  {
   "cell_type": "code",
   "execution_count": null,
   "metadata": {
    "scrolled": true
   },
   "outputs": [],
   "source": [
    "for(i in 1:length(seu.list)){\n",
    "  cat(' #####################################\\n',\n",
    "      '### Processing dataset number ', i, '###\\n',\n",
    "      '#####################################\\n')\n",
    "  # add %MT\n",
    "  seu.list[[i]][[\"percent.MT\"]]  <- PercentageFeatureSet(seu.list[[i]], pattern = \"^MT-\") \n",
    "  \n",
    "  # Filter out low quality cells according to the metrics defined above\n",
    "  seu.list[[i]] <- subset(seu.list[[i]],\n",
    "                           subset = percent.MT < 30 &\n",
    "                             nCount_RNA > 1000\n",
    "  )\n",
    "  # Only mito and floor filtering; trying to find doublets\n",
    "}\n",
    "\n",
    "# preprocess each dataset individually\n",
    "seu.list <- lapply(seu.list, seuPreProcess)"
   ]
  },
  {
   "cell_type": "code",
   "execution_count": null,
   "metadata": {
    "scrolled": true
   },
   "outputs": [],
   "source": [
    "# https://github.com/mckellardw/scMuscle/blob/main/R_scripts/scMuscle_github_v1.R\n",
    "\n",
    "bcmvn <- list()\n",
    "pK <- list()\n",
    "homotypic.prop <- list()\n",
    "nExp_poi <- list()\n",
    "nExp_poi.adj <- list()\n",
    "\n",
    "# Estimated Doublet Rate for each dataset\n",
    "edr <- estimateDoubletRate.DWM(seur.list = seu.list)/100 #use your own known EDR here\n",
    "\n",
    "for(i in 1:length(seu.list)){\n",
    "  cat(' ############################################\\n',\n",
    "      '### DoubletFinder for dataset number ', i, '###\\n',\n",
    "      '############################################\\n')\n",
    "  \n",
    "  ## pK Identification (no ground-truth)\n",
    "  bcmvn[[i]]<- paramSweep_v3(\n",
    "    seu=seu.list[[i]],\n",
    "    PCs = 1:seu.list[[i]]@reductions$umap_RNA@misc$n.pcs.used, \n",
    "    num.cores = 8\n",
    "  ) %>% summarizeSweep(\n",
    "    GT = FALSE\n",
    "  ) %>% find.pK() \n",
    "  \n",
    "  # Pull out max of bcmvn\n",
    "  pK[[i]] <- as.numeric(as.character(bcmvn[[i]]$pK[bcmvn[[i]]$BCmetric==max(bcmvn[[i]]$BCmetric)])) # ugly, but functional...\n",
    "  \n",
    "  ## Homotypic Doublet Proportion Estimate\n",
    "  homotypic.prop[[i]] <- modelHomotypic(seu.list[[i]]$seurat_clusters) \n",
    "  \n",
    "  nExp_poi[[i]] <- round(edr[[i]]*length(colnames(seu.list[[i]])))  \n",
    "  nExp_poi.adj[[i]] <- round(nExp_poi[[i]]*(1-homotypic.prop[[i]]))\n",
    "}"
   ]
  },
  {
   "cell_type": "code",
   "execution_count": null,
   "metadata": {
    "scrolled": true
   },
   "outputs": [],
   "source": [
    "# Run DoubletFinder\n",
    "for(i in 1:length(seu.list)){\n",
    "  seu.list[[i]] <- \n",
    "    doubletFinder_V3.DWM_v2( # just changed it so the output metadata column name is customizable\n",
    "      seu=seu.list[[i]], \n",
    "      PCs = 1:seu.list[[i]]@reductions$umap_RNA@misc$n.pcs.used, \n",
    "      pN = 0.25, #default value\n",
    "      pK= pK[[i]], \n",
    "      nExp = nExp_poi.adj[[i]],  \n",
    "      reuse.pANN = F, \n",
    "      classification.name='DF.individual', \n",
    "      pANN.name='DF.pANN.individual'\n",
    "    )\n",
    "}"
   ]
  },
  {
   "cell_type": "code",
   "execution_count": null,
   "metadata": {
    "scrolled": true
   },
   "outputs": [],
   "source": [
    "Neftel2019_10x_final <- merge(seu.list[[1]], y = unlist(seu.list[2:length(seu.list)]), \n",
    "              project = \"Neftel2019_10x\", merge.data = T) # it is not necessary to add cell IDs here because they are already in the name of each cell"
   ]
  },
  {
   "cell_type": "code",
   "execution_count": null,
   "metadata": {},
   "outputs": [],
   "source": [
    "# filter doublets\n",
    "Neftel2019_10x_final <- subset(Neftel2019_10x_final, subset = DF.individual == 'Singlet')"
   ]
  },
  {
   "cell_type": "code",
   "execution_count": null,
   "metadata": {
    "cell_style": "split",
    "scrolled": true
   },
   "outputs": [],
   "source": [
    "Neftel2019_10x_meta <- subset(data.table::fread(paste0(path.dir, 'Neftel2019/GBM_GSE131928_10X_CellMetainfo_table.tsv')),\n",
    "                              select = -c(UMAP_1,UMAP_2,Cluster))"
   ]
  },
  {
   "cell_type": "code",
   "execution_count": null,
   "metadata": {
    "scrolled": true
   },
   "outputs": [],
   "source": [
    "Neftel2019_10x_meta <- merge(Neftel2019_10x_meta, Neftel2019_clinical, \n",
    "                             by= \"Patient\", all = TRUE)\n",
    "Neftel2019_10x_meta[Neftel2019_10x_meta$Cell %in% colnames(Neftel2019_10x_final) ,]\n",
    "Neftel2019_10x_meta$Platform <- '10x_v2'\n",
    "Neftel2019_10x_meta$Method <- 'cell'"
   ]
  },
  {
   "cell_type": "code",
   "execution_count": null,
   "metadata": {
    "scrolled": true
   },
   "outputs": [],
   "source": [
    "Neftel2019_10x_matrix <- GetAssayData(Neftel2019_10x_final, slot = 'counts')[,colnames(Neftel2019_10x_final) %in%  Neftel2019_10x_meta$Cell]"
   ]
  },
  {
   "cell_type": "code",
   "execution_count": null,
   "metadata": {
    "scrolled": true,
    "tags": []
   },
   "outputs": [],
   "source": [
    "gene.names <- checkGeneSymbols(rownames(Neftel2019_10x_matrix), unmapped.as.na=FALSE)\n",
    "rownames(Neftel2019_10x_matrix) <- make.unique(gene.names$Suggested.Symbol)"
   ]
  },
  {
   "cell_type": "markdown",
   "metadata": {},
   "source": [
    "### Wang2019\n",
    "Raw counts matrices<br>\n",
    "10x Genomics platform"
   ]
  },
  {
   "cell_type": "code",
   "execution_count": null,
   "metadata": {
    "cell_style": "split",
    "scrolled": true
   },
   "outputs": [],
   "source": [
    "tmp <- list.files(path = paste0(path.dir, \"Wang2019\"), pattern = \"^SF\",\n",
    "               full.names = T)"
   ]
  },
  {
   "cell_type": "code",
   "execution_count": null,
   "metadata": {
    "cell_style": "split"
   },
   "outputs": [],
   "source": [
    "labels <- str_sub(tmp, start = 81) \n",
    "names(tmp) <- labels"
   ]
  },
  {
   "cell_type": "code",
   "execution_count": null,
   "metadata": {
    "scrolled": true
   },
   "outputs": [],
   "source": [
    "Wang2019 <- list()\n",
    "for (i in 1:length(tmp)) {\n",
    "    seu_obj.data <- Read10X(data.dir = tmp[[i]], gene.column = 1)\n",
    "    seu_obj <- CreateSeuratObject(seu_obj.data, min.features = 0, min.cells = 5, \n",
    "                                  project = names(tmp[i]))\n",
    "    Wang2019 <- append(Wang2019, seu_obj)\n",
    "}"
   ]
  },
  {
   "cell_type": "code",
   "execution_count": null,
   "metadata": {
    "scrolled": true
   },
   "outputs": [],
   "source": [
    "# preprocess each dataset individually\n",
    "Wang2019 <- lapply(Wang2019, seuPreProcess)"
   ]
  },
  {
   "cell_type": "code",
   "execution_count": null,
   "metadata": {
    "scrolled": true
   },
   "outputs": [],
   "source": [
    "# https://github.com/mckellardw/scMuscle/blob/main/R_scripts/scMuscle_github_v1.R\n",
    "\n",
    "bcmvn <- list()\n",
    "pK <- list()\n",
    "homotypic.prop <- list()\n",
    "nExp_poi <- list()\n",
    "nExp_poi.adj <- list()\n",
    "\n",
    "# Estimated Doublet Rate for each dataset\n",
    "edr <- estimateDoubletRate.DWM(seur.list = Wang2019)/100 #use your own known EDR here\n",
    "\n",
    "for(i in 1:length(Wang2019)){\n",
    "  cat(' ############################################\\n',\n",
    "      '### DoubletFinder for dataset number ', i, '###\\n',\n",
    "      '############################################\\n')\n",
    "  \n",
    "  ## pK Identification (no ground-truth)\n",
    "  bcmvn[[i]]<- paramSweep_v3(\n",
    "    seu=Wang2019[[i]],\n",
    "    PCs = 1:Wang2019[[i]]@reductions$umap_RNA@misc$n.pcs.used, \n",
    "    num.cores = 8\n",
    "  ) %>% summarizeSweep(\n",
    "    GT = FALSE\n",
    "  ) %>% find.pK() \n",
    "  \n",
    "  # Pull out max of bcmvn\n",
    "  pK[[i]] <- as.numeric(as.character(bcmvn[[i]]$pK[bcmvn[[i]]$BCmetric==max(bcmvn[[i]]$BCmetric)])) # ugly, but functional...\n",
    "  \n",
    "  ## Homotypic Doublet Proportion Estimate\n",
    "  homotypic.prop[[i]] <- modelHomotypic(Wang2019[[i]]$seurat_clusters) \n",
    "  \n",
    "  nExp_poi[[i]] <- round(edr[[i]]*length(colnames(Wang2019[[i]])))  \n",
    "  nExp_poi.adj[[i]] <- round(nExp_poi[[i]]*(1-homotypic.prop[[i]]))\n",
    "}"
   ]
  },
  {
   "cell_type": "code",
   "execution_count": null,
   "metadata": {
    "scrolled": true
   },
   "outputs": [],
   "source": [
    "# Run DoubletFinder\n",
    "for(i in 1:length(Wang2019)){\n",
    "  Wang2019[[i]] <- \n",
    "    doubletFinder_V3.DWM_v2( # just changed it so the output metadata column name is customizable\n",
    "      seu=Wang2019[[i]], \n",
    "      PCs = 1:Wang2019[[i]]@reductions$umap_RNA@misc$n.pcs.used, \n",
    "      pN = 0.25, #default value\n",
    "      pK= pK[[i]], \n",
    "      nExp = nExp_poi.adj[[i]],  \n",
    "      reuse.pANN = F, \n",
    "      classification.name='DF.individual', \n",
    "      pANN.name='DF.pANN.individual'\n",
    "    )\n",
    "}"
   ]
  },
  {
   "cell_type": "code",
   "execution_count": null,
   "metadata": {
    "scrolled": true
   },
   "outputs": [],
   "source": [
    "Wang2019_final <- merge(Wang2019[[1]], y = unlist(Wang2019[2:length(Wang2019)]), \n",
    "              add.cell.ids = labels, project = \"Wang2019\", merge.data = T)"
   ]
  },
  {
   "cell_type": "code",
   "execution_count": null,
   "metadata": {},
   "outputs": [],
   "source": [
    "Wang2019_final <- PercentageFeatureSet(Wang2019_final, pattern = \"^MT-\", col.name = \"percent.MT\")\n",
    "Wang2019_final <- subset(Wang2019_final, subset = percent.MT < 30 & nCount_RNA > 1000 & nFeature_RNA > 500)"
   ]
  },
  {
   "cell_type": "code",
   "execution_count": null,
   "metadata": {},
   "outputs": [],
   "source": [
    "# filter doublets\n",
    "Wang2019_final <- subset(Wang2019_final, subset = DF.individual == 'Singlet')"
   ]
  },
  {
   "cell_type": "code",
   "execution_count": null,
   "metadata": {
    "cell_style": "split"
   },
   "outputs": [],
   "source": [
    "# clinical metadata\n",
    "Wang2019_clinical <- subset(data.table::fread(paste0(path.dir, 'Wang2019/clinical_data.txt')),\n",
    "                            select = -c(`IDH status`))"
   ]
  },
  {
   "cell_type": "code",
   "execution_count": null,
   "metadata": {
    "cell_style": "split",
    "scrolled": true
   },
   "outputs": [],
   "source": [
    "# TISCH included several samples that were not GBM IDHwt (Oligodendroglioma, astrocytoma)\n",
    "# metadata paper here https://cancerdiscovery.aacrjournals.org/content/9/12/1708.figures-only\n",
    "\n",
    "Wang2019_meta <- data.table::fread(paste0(path.dir, 'Wang2019/GBM_GSE138794_CellMetainfo_table.tsv'))\n",
    "table(as.factor(Wang2019_meta$Patient))\n",
    "Wang2019_meta$Cell <- gsub('@', '_', Wang2019_meta$Cell) # change characters to match cell names\n",
    "Wang2019_meta <- subset(Wang2019_meta, select = -c(UMAP_1,UMAP_2,Cluster)) %>% filter(Patient == 'SF11956' |\n",
    "                                                                                     Patient == 'SF11977' |\n",
    "                                                                                     Patient == 'SF11644' |\n",
    "                                                                                     Patient == 'SF11979' )\n",
    "                # Filter patients that are only GBM IDHwt"
   ]
  },
  {
   "cell_type": "code",
   "execution_count": null,
   "metadata": {
    "cell_style": "split",
    "scrolled": true
   },
   "outputs": [],
   "source": [
    "# there is only metadata for the single nuclei profiles (not single cells)\n",
    "Wang2019_meta_original <- data.table::fread(paste0(path.dir, 'Wang2019/GSE138794_snRNA_Seq_cell_types.txt'),\n",
    "                                           header = F)\n",
    "colnames(Wang2019_meta_original) <- c('Cell', 'Celltype (original)')"
   ]
  },
  {
   "cell_type": "code",
   "execution_count": null,
   "metadata": {
    "cell_style": "split",
    "scrolled": true
   },
   "outputs": [],
   "source": [
    "patients <- str_sub(Wang2019_meta_original$Cell, start = 0, end=str_locate(Wang2019_meta_original$Cell,\"_\")[,1]-1)\n",
    "Wang2019_meta_original$Patient <- patients"
   ]
  },
  {
   "cell_type": "code",
   "execution_count": null,
   "metadata": {
    "cell_style": "split",
    "scrolled": true
   },
   "outputs": [],
   "source": [
    "Wang2019_meta <- Wang2019_meta %>% full_join(Wang2019_meta_original, by = c(\"Cell\", \"Patient\"))\n",
    "Wang2019_meta <- Wang2019_meta %>% filter(!Patient == 'SF12090' & !Patient == 'SF12286') # SF12286 does not exists (neither in raw data nor supp metadata)"
   ]
  },
  {
   "cell_type": "code",
   "execution_count": null,
   "metadata": {
    "scrolled": true
   },
   "outputs": [],
   "source": [
    "Wang2019_meta <- merge(Wang2019_meta, Wang2019_clinical, by= \"Patient\")\n",
    "Wang2019_meta$Platform <- '10x_v2'"
   ]
  },
  {
   "cell_type": "code",
   "execution_count": null,
   "metadata": {
    "scrolled": true
   },
   "outputs": [],
   "source": [
    "Wang2019_matrix <- GetAssayData(Wang2019_final,  slot = 'counts')[,colnames(Wang2019_final) %in% Wang2019_meta$Cell]"
   ]
  },
  {
   "cell_type": "code",
   "execution_count": null,
   "metadata": {
    "scrolled": true,
    "tags": []
   },
   "outputs": [],
   "source": [
    "gene.names <- checkGeneSymbols(rownames(Wang2019_matrix), unmapped.as.na=FALSE)\n",
    "rownames(Wang2019_matrix) <- make.unique(gene.names$Suggested.Symbol)"
   ]
  },
  {
   "cell_type": "markdown",
   "metadata": {},
   "source": [
    "### Wang2020\n",
    "10x Genomics - Raw counts matrices <br>\n",
    "Unkwon whether Matrices were filtered cells by QC (using TISHC metadata for filtering)"
   ]
  },
  {
   "cell_type": "code",
   "execution_count": null,
   "metadata": {
    "cell_style": "center",
    "code_folding": []
   },
   "outputs": [],
   "source": [
    "tidy.tables <- function(filename) {\n",
    "    dat <- read.table(filename, sep = \",\") %>% t()\n",
    "    colnames(dat) <- dat[1, ]\n",
    "    colnames(dat) <- make.names(colnames(dat), unique = TRUE)\n",
    "    dat <- as.data.frame(dat)\n",
    "    dat <- dat[!duplicated(dat$NA.), ]\n",
    "    dat <- dat[-1:-2, ]\n",
    "    rownames(dat) <- NULL\n",
    "    dat <- column_to_rownames(dat, \"NA.\")\n",
    "    cols <- gsub(\"e.\", \"e+\", colnames(dat))\n",
    "    colnames(dat) <- cols\n",
    "    dat <- as.matrix(dat)\n",
    "}"
   ]
  },
  {
   "cell_type": "code",
   "execution_count": null,
   "metadata": {
    "cell_style": "split",
    "scrolled": true
   },
   "outputs": [],
   "source": [
    "tmp <- list.files(path = paste0(path.dir, \"Wang2020\"),\n",
    "               pattern = \"*.csv.gz\", \n",
    "               full.names = T)\n",
    "myfiles = lapply(tmp, tidy.tables))"
   ]
  },
  {
   "cell_type": "code",
   "execution_count": null,
   "metadata": {
    "cell_style": "split",
    "scrolled": true
   },
   "outputs": [],
   "source": [
    "labels <- str_sub(tmp, start = 81, end=str_locate(tmp,\"dense\")[,1]-8)\n",
    "names(myfiles) <- labels"
   ]
  },
  {
   "cell_type": "code",
   "execution_count": null,
   "metadata": {},
   "outputs": [],
   "source": [
    "Wang2020 <- list()\n",
    "for (i in 1:length(myfiles)) {\n",
    "    seu_obj <- CreateSeuratObject(myfiles[[i]], min.features = 500, min.cells = 5,\n",
    "                                  project = names(myfiles[i]))\n",
    "    Wang2020 <- append(Wang2020, seu_obj)\n",
    "}"
   ]
  },
  {
   "cell_type": "code",
   "execution_count": null,
   "metadata": {
    "scrolled": true
   },
   "outputs": [],
   "source": [
    "for(i in 1:length(Wang2020)){\n",
    "  cat(' #####################################\\n',\n",
    "      '### Processing dataset number ', i, '###\\n',\n",
    "      '#####################################\\n')\n",
    "  # add %MT\n",
    "  Wang2020[[i]][[\"percent.MT\"]]  <- PercentageFeatureSet(Wang2020[[i]], pattern = \"^MT-\") \n",
    "  \n",
    "  # Filter out low quality cells according to the metrics defined above\n",
    "  Wang2020[[i]] <- subset(Wang2020[[i]],\n",
    "                           subset = percent.MT < 30 &\n",
    "                             nCount_RNA > 1000\n",
    "  )\n",
    "  # Only mito and floor filtering; trying to find doublets\n",
    "}\n",
    "\n",
    "# preprocess each dataset individually\n",
    "Wang2020 <- lapply(Wang2020, seuPreProcess)"
   ]
  },
  {
   "cell_type": "code",
   "execution_count": null,
   "metadata": {
    "scrolled": true
   },
   "outputs": [],
   "source": [
    "# https://github.com/mckellardw/scMuscle/blob/main/R_scripts/scMuscle_github_v1.R\n",
    "\n",
    "bcmvn <- list()\n",
    "pK <- list()\n",
    "homotypic.prop <- list()\n",
    "nExp_poi <- list()\n",
    "nExp_poi.adj <- list()\n",
    "\n",
    "# Estimated Doublet Rate for each dataset\n",
    "edr <- estimateDoubletRate.DWM(seur.list = Wang2020)/100 #use your own known EDR here\n",
    "\n",
    "for(i in 1:length(Wang2020)){\n",
    "  cat(' ############################################\\n',\n",
    "      '### DoubletFinder for dataset number ', i, '###\\n',\n",
    "      '############################################\\n')\n",
    "  \n",
    "  ## pK Identification (no ground-truth)\n",
    "  bcmvn[[i]]<- paramSweep_v3(\n",
    "    seu=Wang2020[[i]],\n",
    "    PCs = 1:Wang2020[[i]]@reductions$umap_RNA@misc$n.pcs.used, \n",
    "    num.cores = 8\n",
    "  ) %>% summarizeSweep(\n",
    "    GT = FALSE\n",
    "  ) %>% find.pK() \n",
    "  \n",
    "  # Pull out max of bcmvn\n",
    "  pK[[i]] <- as.numeric(as.character(bcmvn[[i]]$pK[bcmvn[[i]]$BCmetric==max(bcmvn[[i]]$BCmetric)])) # ugly, but functional...\n",
    "  \n",
    "  ## Homotypic Doublet Proportion Estimate\n",
    "  homotypic.prop[[i]] <- modelHomotypic(Wang2020[[i]]$seurat_clusters) \n",
    "  \n",
    "  nExp_poi[[i]] <- round(edr[[i]]*length(colnames(Wang2020[[i]])))  \n",
    "  nExp_poi.adj[[i]] <- round(nExp_poi[[i]]*(1-homotypic.prop[[i]]))\n",
    "}"
   ]
  },
  {
   "cell_type": "code",
   "execution_count": null,
   "metadata": {
    "scrolled": true
   },
   "outputs": [],
   "source": [
    "# Run DoubletFinder\n",
    "for(i in 1:length(Wang2020)){\n",
    "  Wang2020[[i]] <- \n",
    "    doubletFinder_V3.DWM_v2( # just changed it so the output metadata column name is customizable\n",
    "      seu=Wang2020[[i]], \n",
    "      PCs = 1:Wang2020[[i]]@reductions$umap_RNA@misc$n.pcs.used, \n",
    "      pN = 0.25, #default value\n",
    "      pK= pK[[i]], \n",
    "      nExp = nExp_poi.adj[[i]],  \n",
    "      reuse.pANN = F, \n",
    "      classification.name='DF.individual', \n",
    "      pANN.name='DF.pANN.individual'\n",
    "    )\n",
    "}"
   ]
  },
  {
   "cell_type": "code",
   "execution_count": null,
   "metadata": {
    "scrolled": true
   },
   "outputs": [],
   "source": [
    "Wang2020_final <- merge(Wang2020[[1]], y = unlist(Wang2020[2:length(Wang2020)]), \n",
    "             add.cell.ids = labels, project = \"Wang2020\", merge.data = T)"
   ]
  },
  {
   "cell_type": "code",
   "execution_count": null,
   "metadata": {},
   "outputs": [],
   "source": [
    "# filter doublets\n",
    "Wang2020_final <- subset(Wang2020_final, subset = DF.individual == 'Singlet')"
   ]
  },
  {
   "cell_type": "code",
   "execution_count": null,
   "metadata": {
    "cell_style": "split"
   },
   "outputs": [],
   "source": [
    "# clinical metadata (created based on the Supp figure 1 -  There is no IDH mutation desribed, they are considered IDHwt)\n",
    "Wang2020_clinical <- subset(data.table::fread(paste0(path.dir, 'Wang2020/clinical_data.txt')),\n",
    "                            select = -c(IDH))\n",
    "Wang2020_clinical$Age <- as.integer(Wang2020_clinical$Age)"
   ]
  },
  {
   "cell_type": "code",
   "execution_count": null,
   "metadata": {
    "cell_style": "split",
    "scrolled": true
   },
   "outputs": [],
   "source": [
    "# no original metadata available\n",
    "Wang2020_meta <- subset(data.table::fread(paste0(path.dir, \n",
    "                                                 'Wang2020/GBM_GSE139448_CellMetainfo_table.tsv')),\n",
    "                          select = -c(UMAP_1,UMAP_2,Cluster))\n",
    "Wang2020_meta$Cell <- gsub('@', '_X', Wang2020_meta$Cell) #change characters to macth metadata"
   ]
  },
  {
   "cell_type": "code",
   "execution_count": null,
   "metadata": {
    "scrolled": true
   },
   "outputs": [],
   "source": [
    "Wang2020_meta <- merge(Wang2020_meta, Wang2020_clinical, by= \"Patient\")\n",
    "Wang2020_meta$Platform <- '10x_v2'\n",
    "Wang2020_meta$Method <- 'cell'"
   ]
  },
  {
   "cell_type": "code",
   "execution_count": null,
   "metadata": {
    "scrolled": true
   },
   "outputs": [],
   "source": [
    "Wang2020_matrix <- GetAssayData(Wang2020_final, slot = 'counts')[,colnames(Wang2020_final) %in% Wang2020_meta$Cell]"
   ]
  },
  {
   "cell_type": "code",
   "execution_count": null,
   "metadata": {
    "scrolled": true,
    "tags": []
   },
   "outputs": [],
   "source": [
    "gene.names <- checkGeneSymbols(rownames(Wang2020_matrix), unmapped.as.na=FALSE)\n",
    "rownames(Wang2020_matrix) <- make.unique(gene.names$Suggested.Symbol)"
   ]
  },
  {
   "cell_type": "markdown",
   "metadata": {},
   "source": [
    "### Zhao2020\n",
    "Microwell-seq - Raw counts matrices"
   ]
  },
  {
   "cell_type": "code",
   "execution_count": null,
   "metadata": {},
   "outputs": [],
   "source": [
    "tidy.tables <- function(filename) {\n",
    "    dat=data.table::fread(filename)\n",
    "    dat <- as.data.frame(dat[,-1])\n",
    "    dat <- dat[!duplicated(dat$gene), ]\n",
    "    rownames(dat) <- NULL\n",
    "    dat <- column_to_rownames(dat, 'gene')\n",
    "    dat <- as.matrix(dat)\n",
    "}"
   ]
  },
  {
   "cell_type": "markdown",
   "metadata": {},
   "source": [
    "Note: Patient 031 does not exits on the metadata provided in the paper. Likely to be a typo form the authors "
   ]
  },
  {
   "cell_type": "code",
   "execution_count": null,
   "metadata": {
    "cell_style": "split",
    "scrolled": true
   },
   "outputs": [],
   "source": [
    "tmp <- list.files(path = paste0(path.dir, \"Zhao2020/biopsy\"),\n",
    "               pattern = \"*.txt.gz\", \n",
    "               full.names = T)\n",
    "myfiles = lapply(tmp, tidy.tables)"
   ]
  },
  {
   "cell_type": "code",
   "execution_count": null,
   "metadata": {
    "cell_style": "split",
    "scrolled": true
   },
   "outputs": [],
   "source": [
    "labels <- str_sub(tmp, start = 99, end=str_locate(tmp,\"cts\")[,1]-2)\n",
    "labels[1] <- 'PW032-702' # changed based on the manuscript and the metadata provided in GEO (see more comments below)\n",
    "names(myfiles) <- labels"
   ]
  },
  {
   "cell_type": "code",
   "execution_count": null,
   "metadata": {},
   "outputs": [],
   "source": [
    "Zhao2020 <- list()\n",
    "for (i in 1:length(myfiles)) {\n",
    "    seu_obj <- CreateSeuratObject(myfiles[[i]], min.features = 500, min.cells = 5, \n",
    "                                  project = names(myfiles[i]))\n",
    "    Zhao2020 <- append(Zhao2020, seu_obj)\n",
    "}"
   ]
  },
  {
   "cell_type": "code",
   "execution_count": null,
   "metadata": {
    "scrolled": true
   },
   "outputs": [],
   "source": [
    "Zhao2020_final <- merge(Zhao2020[[1]], y = unlist(Zhao2020[2:length(Zhao2020)]), \n",
    "             add.cell.ids = labels, project = \"Zhao2020\", merge.data = T)"
   ]
  },
  {
   "cell_type": "code",
   "execution_count": null,
   "metadata": {},
   "outputs": [],
   "source": [
    "Zhao2020_final <- PercentageFeatureSet(Zhao2020_final, pattern = \"^MT-\", col.name = \"percent.MT\")\n",
    "Zhao2020_final <- subset(Zhao2020_final, subset = percent.MT < 30 & nCount_RNA > 1000)"
   ]
  },
  {
   "cell_type": "code",
   "execution_count": null,
   "metadata": {
    "cell_style": "split",
    "scrolled": true
   },
   "outputs": [],
   "source": [
    "Zhao2020_meta <- subset(data.table::fread(paste0(path.dir, \n",
    "                                                 'Zhao2020/GBM_GSE148842_CellMetainfo_table.tsv')),\n",
    "                        select = -c(UMAP_1,UMAP_2,Cluster))\n",
    "Zhao2020_meta$Cell <- gsub('@', '_', Zhao2020_meta$Cell) #change characters to macth cells\n",
    "Zhao2020_meta <- Zhao2020_meta %>% filter(Sample == 'PW031-712' |\n",
    "                                         Sample == 'PW032-701' |\n",
    "                                         Sample == 'PW032-712') # this are the samples that are primary biopsies \n",
    "#this info is based in the data associated with each file in GEO. Sample PW031 has the same metadata and based in the paper\n",
    "#only PW032 was profiled directly after biopsy\n",
    "# tissue: glioma surgical biopsy\n",
    "# age: 61\n",
    "# gender: M\n",
    "# location: left frontal\n",
    "# diagnosis: Glioblastoma, WHO Grade IV\n",
    "# treatment: none\n",
    "Zhao2020_meta$Cell <- gsub('PW031-712', 'PW032-702', Zhao2020_meta$Cell) #change characters to macth cells\n",
    "Zhao2020_meta$Sample <- gsub('PW031-712', 'PW032-702', Zhao2020_meta$Sample) #change characters to macth cells\n",
    "Zhao2020_meta$Patient <- gsub('PW031', 'PW032', Zhao2020_meta$Sample) #change characters to macth cells"
   ]
  },
  {
   "cell_type": "code",
   "execution_count": null,
   "metadata": {
    "cell_style": "split"
   },
   "outputs": [],
   "source": [
    "# adding clinical data \n",
    "Zhao2020_meta$Age <- 61\n",
    "Zhao2020_meta$Sex <- 'M'\n",
    "Zhao2020_meta$Location <- 'Left frontal'\n",
    "Zhao2020_meta$EGFR <- 'amplified'\n",
    "Zhao2020_meta$Platform <- 'Microwell-seq'\n",
    "Zhao2020_meta$Method <- 'cell'"
   ]
  },
  {
   "cell_type": "code",
   "execution_count": null,
   "metadata": {
    "scrolled": true
   },
   "outputs": [],
   "source": [
    "Zhao2020_matrix <- GetAssayData(Zhao2020_final, slot = 'counts')[,colnames(Zhao2020_final) %in% Zhao2020_meta$Cell]"
   ]
  },
  {
   "cell_type": "code",
   "execution_count": null,
   "metadata": {
    "scrolled": true,
    "tags": []
   },
   "outputs": [],
   "source": [
    "gene.names <- checkGeneSymbols(rownames(Zhao2020_matrix), unmapped.as.na=FALSE)\n",
    "rownames(Zhao2020_matrix) <- make.unique(gene.names$Suggested.Symbol)"
   ]
  },
  {
   "cell_type": "markdown",
   "metadata": {},
   "source": [
    "### Bhaduri2020\n",
    "10x data was re-mapped (count matrices) and Fluidigm data was left out (only 400 cells)"
   ]
  },
  {
   "cell_type": "markdown",
   "metadata": {},
   "source": [
    "10x matrices (downloaded BAM files, converted them to FASTQ and mapped them using CellRanger v4.0) <br>\n",
    "There were less cells detected than the ones reported in the original study (they used CellRanger v2.0)"
   ]
  },
  {
   "cell_type": "code",
   "execution_count": null,
   "metadata": {
    "cell_style": "split",
    "scrolled": true
   },
   "outputs": [],
   "source": [
    "tmp <- list.files(path = paste0(path.dir, \"Bhaduri2020/matrices\"), pattern = \"^SF\",\n",
    "               full.names = T)\n",
    "# used the raw matrices instead of the filtered (when using the filtered ones, there were only ~10K cells that matched the metadata)"
   ]
  },
  {
   "cell_type": "code",
   "execution_count": null,
   "metadata": {
    "cell_style": "split"
   },
   "outputs": [],
   "source": [
    "labels <- str_sub(tmp, start = 93) \n",
    "names(tmp) <- labels"
   ]
  },
  {
   "cell_type": "code",
   "execution_count": null,
   "metadata": {},
   "outputs": [],
   "source": [
    "Bhaduri2020 <- list()\n",
    "for (i in 1:length(tmp)) {\n",
    "    seu_obj.data <- Read10X(data.dir = tmp[[i]])\n",
    "    seu_obj <- CreateSeuratObject(seu_obj.data, min.features = 500, min.cells = 5, \n",
    "                                  project = names(tmp[i]))\n",
    "    Bhaduri2020 <- append(Bhaduri2020, seu_obj)\n",
    "}"
   ]
  },
  {
   "cell_type": "code",
   "execution_count": null,
   "metadata": {
    "scrolled": true
   },
   "outputs": [],
   "source": [
    "for(i in 1:length(Bhaduri2020)){\n",
    "  cat(' #####################################\\n',\n",
    "      '### Processing dataset number ', i, '###\\n',\n",
    "      '#####################################\\n')\n",
    "  # add %MT\n",
    "  Bhaduri2020[[i]][[\"percent.MT\"]]  <- PercentageFeatureSet(Bhaduri2020[[i]], pattern = \"^MT-\") \n",
    "  \n",
    "  # Filter out low quality cells according to the metrics defined above\n",
    "  Bhaduri2020[[i]] <- subset(Bhaduri2020[[i]],\n",
    "                           subset = percent.MT < 30 &\n",
    "                             nCount_RNA > 1000\n",
    "  )\n",
    "  # Only mito and floor filtering; trying to find doublets\n",
    "}\n",
    "\n",
    "# preprocess each dataset individually\n",
    "Bhaduri2020 <- lapply(Bhaduri2020, seuPreProcess)"
   ]
  },
  {
   "cell_type": "code",
   "execution_count": null,
   "metadata": {
    "scrolled": true
   },
   "outputs": [],
   "source": [
    "# https://github.com/mckellardw/scMuscle/blob/main/R_scripts/scMuscle_github_v1.R\n",
    "\n",
    "bcmvn <- list()\n",
    "pK <- list()\n",
    "homotypic.prop <- list()\n",
    "nExp_poi <- list()\n",
    "nExp_poi.adj <- list()\n",
    "\n",
    "# Estimated Doublet Rate for each dataset\n",
    "edr <- estimateDoubletRate.DWM(seur.list = Bhaduri2020)/100 #use your own known EDR here\n",
    "\n",
    "for(i in 1:length(Bhaduri2020)){\n",
    "  cat(' ############################################\\n',\n",
    "      '### DoubletFinder for dataset number ', i, '###\\n',\n",
    "      '############################################\\n')\n",
    "  \n",
    "  ## pK Identification (no ground-truth)\n",
    "  bcmvn[[i]]<- paramSweep_v3(\n",
    "    seu=Bhaduri2020[[i]],\n",
    "    PCs = 1:Bhaduri2020[[i]]@reductions$umap_RNA@misc$n.pcs.used, \n",
    "    num.cores = 8\n",
    "  ) %>% summarizeSweep(\n",
    "    GT = FALSE\n",
    "  ) %>% find.pK() \n",
    "  \n",
    "  # Pull out max of bcmvn\n",
    "  pK[[i]] <- as.numeric(as.character(bcmvn[[i]]$pK[bcmvn[[i]]$BCmetric==max(bcmvn[[i]]$BCmetric)])) # ugly, but functional...\n",
    "  \n",
    "  ## Homotypic Doublet Proportion Estimate\n",
    "  homotypic.prop[[i]] <- modelHomotypic(Bhaduri2020[[i]]$seurat_clusters) \n",
    "  \n",
    "  nExp_poi[[i]] <- round(edr[[i]]*length(colnames(Bhaduri2020[[i]])))  \n",
    "  nExp_poi.adj[[i]] <- round(nExp_poi[[i]]*(1-homotypic.prop[[i]]))\n",
    "}"
   ]
  },
  {
   "cell_type": "code",
   "execution_count": null,
   "metadata": {
    "scrolled": true
   },
   "outputs": [],
   "source": [
    "# Run DoubletFinder\n",
    "for(i in 1:length(Bhaduri2020)){\n",
    "  Bhaduri2020[[i]] <- \n",
    "    doubletFinder_V3.DWM_v2( # just changed it so the output metadata column name is customizable\n",
    "      seu=Bhaduri2020[[i]], \n",
    "      PCs = 1:Bhaduri2020[[i]]@reductions$umap_RNA@misc$n.pcs.used, \n",
    "      pN = 0.25, #default value\n",
    "      pK= pK[[i]], \n",
    "      nExp = nExp_poi.adj[[i]],  \n",
    "      reuse.pANN = F, \n",
    "      classification.name='DF.individual', \n",
    "      pANN.name='DF.pANN.individual'\n",
    "    )\n",
    "}"
   ]
  },
  {
   "cell_type": "code",
   "execution_count": null,
   "metadata": {
    "scrolled": true
   },
   "outputs": [],
   "source": [
    "Bhaduri2020_final <- merge(Bhaduri2020[[1]], y = unlist(Bhaduri2020[2:length(Bhaduri2020)]), \n",
    "             add.cell.ids = labels, project = \"Bhaduri2020\", merge.data = T)"
   ]
  },
  {
   "cell_type": "code",
   "execution_count": null,
   "metadata": {},
   "outputs": [],
   "source": [
    "# filter doublets\n",
    "Bhaduri2020_final <- subset(Bhaduri2020_final, subset = DF.individual == 'Singlet')"
   ]
  },
  {
   "cell_type": "code",
   "execution_count": null,
   "metadata": {
    "cell_style": "center"
   },
   "outputs": [],
   "source": [
    "# clinical metadata (created based on the Supp figure 1)\n",
    "Bhaduri2020_clinical <- data.table::fread(paste0(path.dir, 'Bhaduri2020/clinical_data.txt'))"
   ]
  },
  {
   "cell_type": "code",
   "execution_count": null,
   "metadata": {
    "cell_style": "split",
    "scrolled": true
   },
   "outputs": [],
   "source": [
    "Bhaduri2020_meta <- subset(data.table::fread(paste0(path.dir, 'Bhaduri2020/Cell_metadata.csv')),\n",
    "                           select = -c(Cluster))\n",
    "Bhaduri2020_meta <- Bhaduri2020_meta %>% filter(!`Tumor ID` == 'SF11285') # this sample is Anaplastic astrocytoma (and on the paper only makes the clusters OPC, B cells)\n",
    "colnames(Bhaduri2020_meta) <- c('Cell', 'Patient', 'Celltype (original)')\n",
    "namevector <- c(\"Celltype (malignancy)\", \"Celltype (major-lineage)\", \"Celltype (minor-lineage)\")\n",
    "Bhaduri2020_meta[ , namevector] <- NA\n",
    "Bhaduri2020_meta <- Bhaduri2020_meta[,c(\"Cell\",\n",
    "                                        \"Celltype (malignancy)\", \n",
    "                                        \"Celltype (major-lineage)\", \n",
    "                                        \"Celltype (minor-lineage)\",\n",
    "                                       \"Celltype (original)\",\n",
    "                                       \"Patient\")]\n",
    "Bhaduri2020_meta$Patient <- gsub('TQ', 'SF11247', Bhaduri2020_meta$Patient) #TQ was not found in the clinical metadata\n",
    "# based on the number of cells, it matches SF11247"
   ]
  },
  {
   "cell_type": "code",
   "execution_count": null,
   "metadata": {
    "scrolled": true
   },
   "outputs": [],
   "source": [
    "# formating cell names in metadata to match the names in matrices\n",
    "SF11159 <- Bhaduri2020_meta %>% filter(Patient == 'SF11159')\n",
    "SF11159 <- SF11159 %>% mutate(Cell = paste0('SF11159_', \n",
    "                                                str_sub(SF11159$Cell, start = 0, end=str_locate(SF11159$Cell,\"_\")[,1]-1),'-1'))\n",
    "SF11209 <- Bhaduri2020_meta %>% filter(Patient == 'SF11209')\n",
    "SF11209 <- SF11209 %>% mutate(Cell = paste0('SF11209_', \n",
    "                                                str_sub(SF11209$Cell, start = 0, end=str_locate(SF11209$Cell,\"_\")[,1]-1),'-1'))\n",
    "SF11215 <- Bhaduri2020_meta %>% filter(Patient == 'SF11215')\n",
    "SF11215 <- SF11215 %>% mutate(Cell = paste0('SF11215_', \n",
    "                                                str_sub(SF11215$Cell, start = 0, end=str_locate(SF11215$Cell,\"SF\")[,1]-1),'-1'))\n",
    "SF11232 <- Bhaduri2020_meta %>% filter(Patient == 'SF11232')\n",
    "SF11232 <- SF11232 %>% mutate(Cell = paste0('SF11232_', \n",
    "                                                str_sub(SF11232$Cell, start = 0, end=str_locate(SF11232$Cell,\"SF\")[,1]-1),'-1'))\n",
    "SF11247 <- Bhaduri2020_meta %>% filter(Patient == 'SF11247')\n",
    "SF11247 <- SF11247 %>% mutate(Cell = paste0('SF11247_', \n",
    "                                                str_sub(SF11247$Cell, start = 0, end=str_locate(SF11247$Cell,\"_\")[,1]-1),'-1'))"
   ]
  },
  {
   "cell_type": "code",
   "execution_count": null,
   "metadata": {},
   "outputs": [],
   "source": [
    "Bhaduri2020_meta <- rbind(SF11159, SF11209, SF11215, SF11232, SF11247)\n",
    "Bhaduri2020_meta <- merge(Bhaduri2020_meta, Bhaduri2020_clinical, by= \"Patient\")\n",
    "Bhaduri2020_meta$Method <- 'cell'"
   ]
  },
  {
   "cell_type": "code",
   "execution_count": null,
   "metadata": {},
   "outputs": [],
   "source": [
    "# to include the other good quality cells even they do not have annotated cell type metadata\n",
    "cell <-  data.frame(Cell = colnames(Bhaduri2020_final))\n",
    "patients <- str_sub(cell$Cell, start = 0, end=str_locate(cell$Cell,\"_\")[,1]-1)\n",
    "meta_tmp <- cbind(cell, data.frame(Patient = patients, Method = 'cell'))\n",
    "meta_tmp <- merge(meta_tmp, Bhaduri2020_clinical, by= \"Patient\")"
   ]
  },
  {
   "cell_type": "code",
   "execution_count": null,
   "metadata": {},
   "outputs": [],
   "source": [
    "Bhaduri2020_meta <- list(Bhaduri2020_meta, meta_tmp) %>% reduce(full_join)"
   ]
  },
  {
   "cell_type": "code",
   "execution_count": null,
   "metadata": {
    "cell_style": "center",
    "scrolled": true
   },
   "outputs": [],
   "source": [
    "Bhaduri2020_matrix <- GetAssayData(Bhaduri2020_final, \n",
    "                                     slot = 'counts')[,colnames(Bhaduri2020_final) %in% \n",
    "                                                      Bhaduri2020_meta$Cell]"
   ]
  },
  {
   "cell_type": "code",
   "execution_count": null,
   "metadata": {
    "scrolled": true,
    "tags": []
   },
   "outputs": [],
   "source": [
    "gene.names <- checkGeneSymbols(rownames(Bhaduri2020_matrix), unmapped.as.na=FALSE)\n",
    "rownames(Bhaduri2020_matrix) <- make.unique(gene.names$Suggested.Symbol)"
   ]
  },
  {
   "cell_type": "markdown",
   "metadata": {},
   "source": [
    "### Yu2020\n",
    "Single-cell tagged reverse transcription–seq protocol (mentioned in Pathway-based classification of glioblastoma uncovers a mitochondrial subtype with therapeutic vulnerabilities) <br>\n",
    "Data seems TPM"
   ]
  },
  {
   "cell_type": "code",
   "execution_count": null,
   "metadata": {
    "scrolled": true
   },
   "outputs": [],
   "source": [
    "Yu2020 <- data.table::fread(paste0(path.dir, 'Yu2020/GSE117891_all_6148.umi.count.matrix.tsv.gz')) %>% column_to_rownames('V1')"
   ]
  },
  {
   "cell_type": "code",
   "execution_count": null,
   "metadata": {
    "scrolled": true
   },
   "outputs": [],
   "source": [
    "Yu2020_final <- CreateSeuratObject(Yu2020, min.features = 500, min.cells = 5, \n",
    "                                  project = 'Yu2020')\n",
    "Yu2020_final@assays$RNA@counts <- round(GetAssayData(Yu2020_final, slot = 'counts'))"
   ]
  },
  {
   "cell_type": "code",
   "execution_count": null,
   "metadata": {},
   "outputs": [],
   "source": [
    "Yu2020_final <- PercentageFeatureSet(Yu2020_final, pattern = \"^MT-\", col.name = \"percent.MT\")\n",
    "Yu2020_final <- subset(Yu2020_final, subset = percent.MT < 30 & nCount_RNA > 1000)"
   ]
  },
  {
   "cell_type": "code",
   "execution_count": null,
   "metadata": {
    "cell_style": "split"
   },
   "outputs": [],
   "source": [
    "Yu2020_clinical <- readxl::read_excel(paste0(path.dir, 'Yu2020/clinical_info.xlsx'), sheet = \"Clinical_Info\")\n",
    "Yu2020_clinical$Patient <- gsub('CGGA_G', '', Yu2020_clinical$Patient) # to match with next metadata"
   ]
  },
  {
   "cell_type": "code",
   "execution_count": null,
   "metadata": {
    "cell_style": "split"
   },
   "outputs": [],
   "source": [
    "Yu2020_region <- readxl::read_excel(paste0(path.dir, 'Yu2020/clinical_info.xlsx'), sheet = \"Point and Cell information\")\n",
    "Yu2020_region$`Sample point` <- gsub('G', '', Yu2020_region$`Sample point`) # to match with next metadata\n",
    "colnames(Yu2020_region) <- c('Region', 'Tissue') # Tissue refers to the location (core, edge). Following Daranais2017 \n",
    "Yu2020_region$Tissue <- gsub('Tumoral', 'Tumor', Yu2020_region$Tissue)\n",
    "Yu2020_region$Tissue <- gsub('Peritumoral', 'Periphery', Yu2020_region$Tissue) # to follow the same names used by Darmanis2017"
   ]
  },
  {
   "cell_type": "code",
   "execution_count": null,
   "metadata": {
    "cell_style": "split"
   },
   "outputs": [],
   "source": [
    "Yu2020_meta <- subset(as.data.frame(readxl::read_excel(paste0(path.dir, 'Yu2020/GSE117891_Sample_barcode_cell_information.xlsx'), \n",
    "                                                sheet = \"Cell_information\")), select = -c(`sample_name(Library)`, bio_sample, barcode))\n",
    "colnames(Yu2020_meta) <- c('Cell', 'Patient', 'Region')\n",
    "Yu2020_meta <- Yu2020_meta %>% filter(!Patient == 'S4' & # gliosarcoma\n",
    "                                      !Patient == 'S7' & # GBM IDHmut\n",
    "                                     !Patient == 'S8' & # OA\n",
    "                                     !Patient == 'S9' & # OA\n",
    "                                     !Patient == 'S14') # O"
   ]
  },
  {
   "cell_type": "code",
   "execution_count": null,
   "metadata": {
    "cell_style": "split"
   },
   "outputs": [],
   "source": [
    "Yu2020_meta <- Yu2020_meta %>% merge(Yu2020_region, by = \"Region\") %>% merge(Yu2020_clinical, by = \"Patient\") %>% mutate(Platform = 'STRT-seq', Method = 'cell')\n",
    "# method was infered by the citations they made to other papers but the info is nowhere in the website/paper"
   ]
  },
  {
   "cell_type": "code",
   "execution_count": null,
   "metadata": {
    "scrolled": true
   },
   "outputs": [],
   "source": [
    "Yu2020_matrix <- GetAssayData(Yu2020_final, slot = 'counts')[,colnames(Yu2020_final) %in% Yu2020_meta$Cell]"
   ]
  },
  {
   "cell_type": "code",
   "execution_count": null,
   "metadata": {
    "scrolled": true,
    "tags": []
   },
   "outputs": [],
   "source": [
    "gene.names <- checkGeneSymbols(rownames(Yu2020_matrix), unmapped.as.na=FALSE)\n",
    "rownames(Yu2020_matrix) <- make.unique(gene.names$Suggested.Symbol)"
   ]
  },
  {
   "cell_type": "markdown",
   "metadata": {},
   "source": [
    "### Wu2020\n",
    "BD Rhapsody -  Raw count matrices"
   ]
  },
  {
   "cell_type": "code",
   "execution_count": null,
   "metadata": {},
   "outputs": [],
   "source": [
    "tidy.tables <- function(filename) {\n",
    "    dat=data.table::fread(filename) %>% t()\n",
    "    colnames(dat) <- dat[1,]\n",
    "    dat <- dat[-1,]\n",
    "}"
   ]
  },
  {
   "cell_type": "code",
   "execution_count": null,
   "metadata": {
    "cell_style": "split",
    "scrolled": true
   },
   "outputs": [],
   "source": [
    "tmp <- list.files(path = paste0(path.dir, \"Wu2020/\"),\n",
    "               pattern = \"*.csv.gz\", \n",
    "               full.names = T)\n",
    "myfiles = lapply(tmp, tidy.tables)"
   ]
  },
  {
   "cell_type": "code",
   "execution_count": null,
   "metadata": {
    "cell_style": "split",
    "scrolled": true
   },
   "outputs": [],
   "source": [
    "labels <- str_sub(tmp, start = 80, end=str_locate(tmp,\"_Mols\")[,1]-1)\n",
    "names(myfiles) <- labels"
   ]
  },
  {
   "cell_type": "code",
   "execution_count": null,
   "metadata": {
    "scrolled": true
   },
   "outputs": [],
   "source": [
    "Wu2020 <- list()\n",
    "for (i in 1:length(myfiles)) {\n",
    "    seu_obj <- CreateSeuratObject(myfiles[[i]], min.features = 500, min.cells = 5, \n",
    "                                  project = names(myfiles[i]))\n",
    "    Wu2020 <- append(Wu2020, seu_obj)\n",
    "}"
   ]
  },
  {
   "cell_type": "code",
   "execution_count": null,
   "metadata": {
    "scrolled": true
   },
   "outputs": [],
   "source": [
    "Wu2020_final <- merge(Wu2020[[1]], y = unlist(Wu2020[2:length(Wu2020)]), \n",
    "             add.cell.ids = labels, project = \"Wu2020\", merge.data = T)"
   ]
  },
  {
   "cell_type": "code",
   "execution_count": null,
   "metadata": {},
   "outputs": [],
   "source": [
    "Wu2020_final <- PercentageFeatureSet(Wu2020_final, pattern = \"^MT-\", col.name = \"percent.MT\")\n",
    "Wu2020_final <- subset(Wu2020_final, subset = percent.MT < 30 & nCount_RNA > 1000)"
   ]
  },
  {
   "cell_type": "code",
   "execution_count": null,
   "metadata": {},
   "outputs": [],
   "source": [
    "Wu2020_clinical <- readxl::read_excel(paste0(path.dir, 'Wu2020/clinical_data.xlsx'))"
   ]
  },
  {
   "cell_type": "code",
   "execution_count": null,
   "metadata": {},
   "outputs": [],
   "source": [
    "# creating cell metadata (is not available in the paper)\n",
    "Wu2020_meta <- data.frame(Cell = colnames(Wu2020_final), \n",
    "           `Celltype (malignancy)` = rep('NA', length(colnames(Wu2020_final))),\n",
    "           `Celltype (major-lineage)` = rep('NA', length(colnames(Wu2020_final))),\n",
    "           `Celltype (minor-lineage)` = rep('NA', length(colnames(Wu2020_final))),\n",
    "           `Celltype (original)` = rep('NA', length(colnames(Wu2020_final))),\n",
    "           Patient = str_sub(colnames(Wu2020_final), start = 0, end=str_locate(colnames(Wu2020_final),\"-\")[,1]-1),\n",
    "           Sample = str_sub(colnames(Wu2020_final), start = 0, end=str_locate(colnames(Wu2020_final),\"_\")[,1]-1),\n",
    "           check.names = FALSE\n",
    "          )"
   ]
  },
  {
   "cell_type": "code",
   "execution_count": null,
   "metadata": {
    "cell_style": "split",
    "scrolled": true
   },
   "outputs": [],
   "source": [
    "Wu2020_meta <- merge(Wu2020_meta, Wu2020_clinical, by= \"Sample\") %>% select(-Patient.y) \n",
    "colnames(Wu2020_meta)[colnames(Wu2020_meta) == 'Patient.x'] <- 'Patient'"
   ]
  },
  {
   "cell_type": "code",
   "execution_count": null,
   "metadata": {
    "code_folding": [],
    "scrolled": true
   },
   "outputs": [],
   "source": [
    "Wu2020_matrix <- GetAssayData(Wu2020_final, slot = 'counts')[,colnames(Wu2020_final) %in% Wu2020_meta$Cell]"
   ]
  },
  {
   "cell_type": "code",
   "execution_count": null,
   "metadata": {
    "scrolled": true,
    "tags": []
   },
   "outputs": [],
   "source": [
    "gene.names <- checkGeneSymbols(rownames(Wu2020_matrix), unmapped.as.na=FALSE)\n",
    "rownames(Wu2020_matrix) <- make.unique(gene.names$Suggested.Symbol)"
   ]
  },
  {
   "cell_type": "markdown",
   "metadata": {},
   "source": [
    "### Couturier2020\n",
    "10x matrices (downloaded EGA BAM files, converted them to FASTQ and mapped them using CellRanger v3.1)\n",
    "10x Genomics - Raw count matrices"
   ]
  },
  {
   "cell_type": "code",
   "execution_count": null,
   "metadata": {
    "cell_style": "split",
    "scrolled": true
   },
   "outputs": [],
   "source": [
    "tmp <- list.dirs(path = paste0(path.dir, \"Couturier2020/cellranger_output\"), recursive = FALSE)\n",
    "head(tmp)"
   ]
  },
  {
   "cell_type": "code",
   "execution_count": null,
   "metadata": {
    "cell_style": "split"
   },
   "outputs": [],
   "source": [
    "labels <-  str_sub(tmp, start = 104)\n",
    "names(tmp) <- labels"
   ]
  },
  {
   "cell_type": "code",
   "execution_count": null,
   "metadata": {
    "scrolled": true
   },
   "outputs": [],
   "source": [
    "Couturier2020 <- list()\n",
    "for (i in 1:length(tmp)) {\n",
    "    seu_obj.data <- Read10X(data.dir = paste0(tmp[[i]], '/outs/filtered_feature_bc_matrix'))\n",
    "    seu_obj <- CreateSeuratObject(seu_obj.data, min.features = 500, min.cells = 5, \n",
    "                                  project = names(tmp[i]))\n",
    "    Couturier2020 <- append(Couturier2020, seu_obj)\n",
    "}"
   ]
  },
  {
   "cell_type": "code",
   "execution_count": null,
   "metadata": {
    "scrolled": true
   },
   "outputs": [],
   "source": [
    "for(i in 1:length(Couturier2020)){\n",
    "  cat(' #####################################\\n',\n",
    "      '### Processing dataset number ', i, '###\\n',\n",
    "      '#####################################\\n')\n",
    "  # add %MT\n",
    "  Couturier2020[[i]][[\"percent.MT\"]]  <- PercentageFeatureSet(Couturier2020[[i]], pattern = \"^MT-\") \n",
    "  \n",
    "  # Filter out low quality cells according to the metrics defined above\n",
    "  Couturier2020[[i]] <- subset(Couturier2020[[i]],\n",
    "                           subset = percent.MT < 30 &\n",
    "                             nCount_RNA > 1000\n",
    "  )\n",
    "  # Only mito and floor filtering; trying to find doublets\n",
    "}\n",
    "\n",
    "# preprocess each dataset individually\n",
    "Couturier2020 <- lapply(Couturier2020, seuPreProcess)"
   ]
  },
  {
   "cell_type": "code",
   "execution_count": null,
   "metadata": {
    "scrolled": true
   },
   "outputs": [],
   "source": [
    "# https://github.com/mckellardw/scMuscle/blob/main/R_scripts/scMuscle_github_v1.R\n",
    "\n",
    "bcmvn <- list()\n",
    "pK <- list()\n",
    "homotypic.prop <- list()\n",
    "nExp_poi <- list()\n",
    "nExp_poi.adj <- list()\n",
    "\n",
    "# Estimated Doublet Rate for each dataset\n",
    "edr <- estimateDoubletRate.DWM(seur.list = Couturier2020)/100 #use your own known EDR here\n",
    "\n",
    "for(i in 1:length(Couturier2020)){\n",
    "  cat(' ############################################\\n',\n",
    "      '### DoubletFinder for dataset number ', i, '###\\n',\n",
    "      '############################################\\n')\n",
    "  \n",
    "  ## pK Identification (no ground-truth)\n",
    "  bcmvn[[i]]<- paramSweep_v3(\n",
    "    seu=Couturier2020[[i]],\n",
    "    PCs = 1:Couturier2020[[i]]@reductions$umap_RNA@misc$n.pcs.used, \n",
    "    num.cores = 8\n",
    "  ) %>% summarizeSweep(\n",
    "    GT = FALSE\n",
    "  ) %>% find.pK() \n",
    "  \n",
    "  # Pull out max of bcmvn\n",
    "  pK[[i]] <- as.numeric(as.character(bcmvn[[i]]$pK[bcmvn[[i]]$BCmetric==max(bcmvn[[i]]$BCmetric)])) # ugly, but functional...\n",
    "  \n",
    "  ## Homotypic Doublet Proportion Estimate\n",
    "  homotypic.prop[[i]] <- modelHomotypic(Couturier2020[[i]]$seurat_clusters) \n",
    "  \n",
    "  nExp_poi[[i]] <- round(edr[[i]]*length(colnames(Couturier2020[[i]])))  \n",
    "  nExp_poi.adj[[i]] <- round(nExp_poi[[i]]*(1-homotypic.prop[[i]]))\n",
    "}"
   ]
  },
  {
   "cell_type": "code",
   "execution_count": null,
   "metadata": {
    "scrolled": true
   },
   "outputs": [],
   "source": [
    "# Run DoubletFinder\n",
    "for(i in 1:length(Couturier2020)){\n",
    "  Couturier2020[[i]] <- \n",
    "    doubletFinder_V3.DWM_v2( # just changed it so the output metadata column name is customizable\n",
    "      seu=Couturier2020[[i]], \n",
    "      PCs = 1:Couturier2020[[i]]@reductions$umap_RNA@misc$n.pcs.used, \n",
    "      pN = 0.25, #default value\n",
    "      pK= pK[[i]], \n",
    "      nExp = nExp_poi.adj[[i]],  \n",
    "      reuse.pANN = F, \n",
    "      classification.name='DF.individual', \n",
    "      pANN.name='DF.pANN.individual'\n",
    "    )\n",
    "}"
   ]
  },
  {
   "cell_type": "code",
   "execution_count": null,
   "metadata": {
    "scrolled": true
   },
   "outputs": [],
   "source": [
    "Couturier2020_final <- merge(Couturier2020[[1]], y = unlist(Couturier2020[2:length(Couturier2020)]), \n",
    "             add.cell.ids = labels, project = \"Couturier2020\", merge.data = T)"
   ]
  },
  {
   "cell_type": "code",
   "execution_count": null,
   "metadata": {},
   "outputs": [],
   "source": [
    "# filter doublets\n",
    "Couturier2020_final <- subset(Couturier2020_final, subset = DF.individual == 'Singlet')"
   ]
  },
  {
   "cell_type": "code",
   "execution_count": null,
   "metadata": {
    "cell_style": "center"
   },
   "outputs": [],
   "source": [
    "Couturier2020_clinical <- readxl::read_excel(paste0(path.dir, 'Couturier2020/clinical_data.xlsx'))"
   ]
  },
  {
   "cell_type": "code",
   "execution_count": null,
   "metadata": {},
   "outputs": [],
   "source": [
    "# creating cell metadata (is not available in the paper)\n",
    "Couturier2020_meta <- data.frame(Cell = colnames(Couturier2020_final), \n",
    "           `Celltype (malignancy)` = rep('NA', length(colnames(Couturier2020_final))),\n",
    "           `Celltype (major-lineage)` = rep('NA', length(colnames(Couturier2020_final))),\n",
    "           `Celltype (minor-lineage)` = rep('NA', length(colnames(Couturier2020_final))),\n",
    "           `Celltype (original)` = rep('NA', length(colnames(Couturier2020_final))),\n",
    "           Patient = str_sub(colnames(Couturier2020_final), start = 0, end=str_locate(colnames(Couturier2020_final),\"_\")[,1]-1),\n",
    "           check.names = FALSE\n",
    "          )"
   ]
  },
  {
   "cell_type": "code",
   "execution_count": null,
   "metadata": {
    "cell_style": "split",
    "scrolled": true
   },
   "outputs": [],
   "source": [
    "Couturier2020_meta <- merge(Couturier2020_meta, Couturier2020_clinical, by= \"Patient\")"
   ]
  },
  {
   "cell_type": "code",
   "execution_count": null,
   "metadata": {
    "code_folding": [],
    "scrolled": true
   },
   "outputs": [],
   "source": [
    "Couturier2020_matrix <- GetAssayData(Couturier2020_final, slot = 'counts')[,colnames(Couturier2020_final) %in% Couturier2020_meta$Cell]"
   ]
  },
  {
   "cell_type": "code",
   "execution_count": null,
   "metadata": {
    "scrolled": true,
    "tags": []
   },
   "outputs": [],
   "source": [
    "gene.names <- checkGeneSymbols(rownames(Couturier2020_matrix), unmapped.as.na=FALSE)\n",
    "rownames(Couturier2020_matrix) <- make.unique(gene.names$Suggested.Symbol)"
   ]
  },
  {
   "cell_type": "markdown",
   "metadata": {},
   "source": [
    "### Johnson2020\n",
    "10x Genomics - Raw count matrices of unfiltered cells - Obtained previous formal publication"
   ]
  },
  {
   "cell_type": "code",
   "execution_count": null,
   "metadata": {
    "cell_style": "split",
    "scrolled": true
   },
   "outputs": [],
   "source": [
    "tmp <- list.files(path = paste0(path.dir, \"Johnson2020\"), pattern = \"^SM\",\n",
    "               full.names = T)"
   ]
  },
  {
   "cell_type": "code",
   "execution_count": null,
   "metadata": {
    "cell_style": "split"
   },
   "outputs": [],
   "source": [
    "labels <- str_sub(tmp, start = 84) \n",
    "names(tmp) <- labels"
   ]
  },
  {
   "cell_type": "code",
   "execution_count": null,
   "metadata": {
    "scrolled": true
   },
   "outputs": [],
   "source": [
    "Johnson2020 <- list()\n",
    "for (i in 1:length(tmp)) {\n",
    "    seu_obj.data <- Read10X_h5(paste0(tmp[i],'/raw_feature_bc_matrix.h5'))\n",
    "    seu_obj <- CreateSeuratObject(seu_obj.data, min.features = 500, min.cells = 5, \n",
    "                                  project = names(tmp[i]))\n",
    "    Johnson2020 <- append(Johnson2020, seu_obj)\n",
    "}"
   ]
  },
  {
   "cell_type": "code",
   "execution_count": null,
   "metadata": {
    "scrolled": true
   },
   "outputs": [],
   "source": [
    "for(i in 1:length(Johnson2020)){\n",
    "  cat(' #####################################\\n',\n",
    "      '### Processing dataset number ', i, '###\\n',\n",
    "      '#####################################\\n')\n",
    "  # add %MT\n",
    "  Johnson2020[[i]][[\"percent.MT\"]]  <- PercentageFeatureSet(Johnson2020[[i]], pattern = \"^MT-\") \n",
    "  \n",
    "  # Filter out low quality cells according to the metrics defined above\n",
    "  Johnson2020[[i]] <- subset(Johnson2020[[i]],\n",
    "                           subset = percent.MT < 30 &\n",
    "                             nCount_RNA > 1000\n",
    "  )\n",
    "  # Only mito and floor filtering; trying to find doublets\n",
    "}\n",
    "\n",
    "# preprocess each dataset individually\n",
    "Johnson2020 <- lapply(Johnson2020, seuPreProcess)"
   ]
  },
  {
   "cell_type": "code",
   "execution_count": null,
   "metadata": {
    "scrolled": true
   },
   "outputs": [],
   "source": [
    "# https://github.com/mckellardw/scMuscle/blob/main/R_scripts/scMuscle_github_v1.R\n",
    "\n",
    "bcmvn <- list()\n",
    "pK <- list()\n",
    "homotypic.prop <- list()\n",
    "nExp_poi <- list()\n",
    "nExp_poi.adj <- list()\n",
    "\n",
    "# Estimated Doublet Rate for each dataset\n",
    "edr <- estimateDoubletRate.DWM(seur.list = Johnson2020)/100 #use your own known EDR here\n",
    "\n",
    "for(i in 1:length(Johnson2020)){\n",
    "  cat(' ############################################\\n',\n",
    "      '### DoubletFinder for dataset number ', i, '###\\n',\n",
    "      '############################################\\n')\n",
    "  \n",
    "  ## pK Identification (no ground-truth)\n",
    "  bcmvn[[i]]<- paramSweep_v3(\n",
    "    seu=Johnson2020[[i]],\n",
    "    PCs = 1:Johnson2020[[i]]@reductions$umap_RNA@misc$n.pcs.used, \n",
    "    num.cores = 8\n",
    "  ) %>% summarizeSweep(\n",
    "    GT = FALSE\n",
    "  ) %>% find.pK() \n",
    "  \n",
    "  # Pull out max of bcmvn\n",
    "  pK[[i]] <- as.numeric(as.character(bcmvn[[i]]$pK[bcmvn[[i]]$BCmetric==max(bcmvn[[i]]$BCmetric)])) # ugly, but functional...\n",
    "  \n",
    "  ## Homotypic Doublet Proportion Estimate\n",
    "  homotypic.prop[[i]] <- modelHomotypic(Johnson2020[[i]]$seurat_clusters) \n",
    "  \n",
    "  nExp_poi[[i]] <- round(edr[[i]]*length(colnames(Johnson2020[[i]])))  \n",
    "  nExp_poi.adj[[i]] <- round(nExp_poi[[i]]*(1-homotypic.prop[[i]]))\n",
    "}"
   ]
  },
  {
   "cell_type": "code",
   "execution_count": null,
   "metadata": {
    "scrolled": true
   },
   "outputs": [],
   "source": [
    "# Run DoubletFinder\n",
    "for(i in 1:length(Johnson2020)){\n",
    "  Johnson2020[[i]] <- \n",
    "    doubletFinder_V3.DWM_v2( # just changed it so the output metadata column name is customizable\n",
    "      seu=Johnson2020[[i]], \n",
    "      PCs = 1:Johnson2020[[i]]@reductions$umap_RNA@misc$n.pcs.used, \n",
    "      pN = 0.25, #default value\n",
    "      pK= pK[[i]], \n",
    "      nExp = nExp_poi.adj[[i]],  \n",
    "      reuse.pANN = F, \n",
    "      classification.name='DF.individual', \n",
    "      pANN.name='DF.pANN.individual'\n",
    "    )\n",
    "}"
   ]
  },
  {
   "cell_type": "code",
   "execution_count": null,
   "metadata": {
    "scrolled": true
   },
   "outputs": [],
   "source": [
    "Johnson2020_final <- merge(Johnson2020[[1]], y = unlist(Johnson2020[2:length(Johnson2020)]), \n",
    "             add.cell.ids = labels, project = \"Johnson2020\", merge.data = T)"
   ]
  },
  {
   "cell_type": "code",
   "execution_count": null,
   "metadata": {},
   "outputs": [],
   "source": [
    "# filter doublets\n",
    "Johnson2020_final <- subset(Johnson2020_final, subset = DF.individual == 'Singlet')"
   ]
  },
  {
   "cell_type": "code",
   "execution_count": null,
   "metadata": {
    "cell_style": "center"
   },
   "outputs": [],
   "source": [
    "Johnson2020_clinical <- as.data.frame(readxl::read_excel(paste0(path.dir, 'Johnson2020/media-2.xlsx'), sheet = 'Table S1'))\n",
    "Johnson2020_clinical <- Johnson2020_clinical %>% select(c(Patient, Age, Sex, Location, Stage, \n",
    "                                                          Verhaak_classification, EGFR, PTEN, p53, TERT))"
   ]
  },
  {
   "cell_type": "code",
   "execution_count": null,
   "metadata": {},
   "outputs": [],
   "source": [
    "Johnson2020_meta <- as.data.frame(data.table::fread(paste0(path.dir, 'Johnson2020/johnson_idhwt_cell_states.txt')))\n",
    "Johnson2020_meta$Cell <- paste0(Johnson2020_meta$sample_id, '_', Johnson2020_meta$cell_name)\n",
    "Johnson2020_meta <- Johnson2020_meta[,-1]\n",
    "colnames(Johnson2020_meta) <- c('Patient', 'Celltype (original)', 'Cell')"
   ]
  },
  {
   "cell_type": "code",
   "execution_count": null,
   "metadata": {},
   "outputs": [],
   "source": [
    "Johnson2020_meta <- merge(Johnson2020_meta, Johnson2020_clinical, by= \"Patient\")"
   ]
  },
  {
   "cell_type": "code",
   "execution_count": null,
   "metadata": {
    "scrolled": true
   },
   "outputs": [],
   "source": [
    "# to include the other good quality cells even they do not have annotated cell type metadata\n",
    "cell <-  data.frame(Cell = colnames(Johnson2020_final))\n",
    "patients <- str_sub(cell$Cell, start = 0, end=str_locate(cell$Cell,\"_\")[,1]-1)\n",
    "meta_tmp <- cbind(cell, data.frame(Patient = patients))\n",
    "meta_tmp <- merge(meta_tmp, Johnson2020_clinical, by= \"Patient\")"
   ]
  },
  {
   "cell_type": "code",
   "execution_count": null,
   "metadata": {},
   "outputs": [],
   "source": [
    "Johnson2020_meta <- list(Johnson2020_meta, meta_tmp) %>% reduce(full_join) %>%\n",
    "        mutate(Method = 'cell', Platform = '10x_v3')"
   ]
  },
  {
   "cell_type": "code",
   "execution_count": null,
   "metadata": {
    "code_folding": [],
    "scrolled": true
   },
   "outputs": [],
   "source": [
    "Johnson2020_matrix <- GetAssayData(Johnson2020_final, slot = 'counts')[,colnames(Johnson2020_final) %in% Johnson2020_meta$Cell]"
   ]
  },
  {
   "cell_type": "code",
   "execution_count": null,
   "metadata": {
    "scrolled": true,
    "tags": []
   },
   "outputs": [],
   "source": [
    "gene.names <- checkGeneSymbols(rownames(Johnson2020_matrix), unmapped.as.na=FALSE)\n",
    "rownames(Johnson2020_matrix) <- make.unique(gene.names$Suggested.Symbol)"
   ]
  },
  {
   "cell_type": "markdown",
   "metadata": {},
   "source": [
    "### Richards2021\n",
    "10x Genomics - Raw count matrices"
   ]
  },
  {
   "cell_type": "code",
   "execution_count": null,
   "metadata": {},
   "outputs": [],
   "source": [
    "tidy.tables <- function(filename) {\n",
    "    dat=data.table::fread(filename)\n",
    "    dat <- as.data.frame(dat) %>% column_to_rownames('V1')\n",
    "}"
   ]
  },
  {
   "cell_type": "code",
   "execution_count": null,
   "metadata": {
    "cell_style": "split",
    "scrolled": true
   },
   "outputs": [],
   "source": [
    "tmp <- list.files(path = paste0(path.dir, \"Richards2021/\"),\n",
    "               pattern = \"*counts.csv.gz\", \n",
    "               full.names = T)\n",
    "myfiles = lapply(tmp, tidy.tables)"
   ]
  },
  {
   "cell_type": "code",
   "execution_count": null,
   "metadata": {
    "cell_style": "split",
    "scrolled": true
   },
   "outputs": [],
   "source": [
    "labels <- str_sub(tmp, start = 112, end=str_locate(tmp,\"_counts\")[,1]-1)\n",
    "names(myfiles) <- labels"
   ]
  },
  {
   "cell_type": "code",
   "execution_count": null,
   "metadata": {},
   "outputs": [],
   "source": [
    "merged_Richards2021 <- list()\n",
    "for (i in 1:length(myfiles)) {\n",
    "    seu_obj <- CreateSeuratObject(myfiles[[i]], min.features = 500, min.cells = 5, \n",
    "                                  project = names(myfiles[i]))\n",
    "    merged_Richards2021 <- append(merged_Richards2021, seu_obj)\n",
    "}\n",
    "merged_Richards2021 <- merge(merged_Richards2021[[1]], y = unlist(merged_Richards2021[2:length(merged_Richards2021)]))"
   ]
  },
  {
   "cell_type": "code",
   "execution_count": null,
   "metadata": {},
   "outputs": [],
   "source": [
    "# matrices contain different samples. First, they are split by orig.ident\n",
    "seu.list <- list()\n",
    "for(i in 1:length(table(merged_Richards2021@meta.data$orig.ident))){\n",
    "    seu_obj <- subset(merged_Richards2021, subset = orig.ident == names(table(merged_Richards2021@meta.data$orig.ident))[[i]])\n",
    "    seu.list <- append(seu.list, seu_obj)\n",
    "    }"
   ]
  },
  {
   "cell_type": "code",
   "execution_count": null,
   "metadata": {
    "scrolled": true
   },
   "outputs": [],
   "source": [
    "for(i in 1:length(seu.list)){\n",
    "  cat(' #####################################\\n',\n",
    "      '### Processing dataset number ', i, '###\\n',\n",
    "      '#####################################\\n')\n",
    "  # add %MT\n",
    "  seu.list[[i]][[\"percent.MT\"]]  <- PercentageFeatureSet(seu.list[[i]], pattern = \"^MT-\") \n",
    "  \n",
    "  # Filter out low quality cells according to the metrics defined above\n",
    "  seu.list[[i]] <- subset(seu.list[[i]],\n",
    "                           subset = percent.MT < 30 &\n",
    "                             nCount_RNA > 1000\n",
    "  )\n",
    "  # Only mito and floor filtering; trying to find doublets\n",
    "}\n",
    "\n",
    "# preprocess each dataset individually\n",
    "seu.list <- lapply(seu.list, seuPreProcess)"
   ]
  },
  {
   "cell_type": "code",
   "execution_count": null,
   "metadata": {
    "scrolled": true
   },
   "outputs": [],
   "source": [
    "# https://github.com/mckellardw/scMuscle/blob/main/R_scripts/scMuscle_github_v1.R\n",
    "\n",
    "bcmvn <- list()\n",
    "pK <- list()\n",
    "homotypic.prop <- list()\n",
    "nExp_poi <- list()\n",
    "nExp_poi.adj <- list()\n",
    "\n",
    "# Estimated Doublet Rate for each dataset\n",
    "edr <- estimateDoubletRate.DWM(seur.list = seu.list)/100 #use your own known EDR here\n",
    "\n",
    "for(i in 1:length(seu.list)){\n",
    "  cat(' ############################################\\n',\n",
    "      '### DoubletFinder for dataset number ', i, '###\\n',\n",
    "      '############################################\\n')\n",
    "  \n",
    "  ## pK Identification (no ground-truth)\n",
    "  bcmvn[[i]]<- paramSweep_v3(\n",
    "    seu=seu.list[[i]],\n",
    "    PCs = 1:seu.list[[i]]@reductions$umap_RNA@misc$n.pcs.used, \n",
    "    num.cores = 8\n",
    "  ) %>% summarizeSweep(\n",
    "    GT = FALSE\n",
    "  ) %>% find.pK() \n",
    "  \n",
    "  # Pull out max of bcmvn\n",
    "  pK[[i]] <- as.numeric(as.character(bcmvn[[i]]$pK[bcmvn[[i]]$BCmetric==max(bcmvn[[i]]$BCmetric)])) # ugly, but functional...\n",
    "  \n",
    "  ## Homotypic Doublet Proportion Estimate\n",
    "  homotypic.prop[[i]] <- modelHomotypic(seu.list[[i]]$seurat_clusters) \n",
    "  \n",
    "  nExp_poi[[i]] <- round(edr[[i]]*length(colnames(seu.list[[i]])))  \n",
    "  nExp_poi.adj[[i]] <- round(nExp_poi[[i]]*(1-homotypic.prop[[i]]))\n",
    "}"
   ]
  },
  {
   "cell_type": "code",
   "execution_count": null,
   "metadata": {
    "scrolled": true
   },
   "outputs": [],
   "source": [
    "# Run DoubletFinder\n",
    "for(i in 1:length(seu.list)){\n",
    "  seu.list[[i]] <- \n",
    "    doubletFinder_V3.DWM_v2( # just changed it so the output metadata column name is customizable\n",
    "      seu=seu.list[[i]], \n",
    "      PCs = 1:seu.list[[i]]@reductions$umap_RNA@misc$n.pcs.used, \n",
    "      pN = 0.25, #default value\n",
    "      pK= pK[[i]], \n",
    "      nExp = nExp_poi.adj[[i]],  \n",
    "      reuse.pANN = F, \n",
    "      classification.name='DF.individual', \n",
    "      pANN.name='DF.pANN.individual'\n",
    "    )\n",
    "}"
   ]
  },
  {
   "cell_type": "code",
   "execution_count": null,
   "metadata": {
    "scrolled": true
   },
   "outputs": [],
   "source": [
    "Richards2021_final <- merge(seu.list[[1]], y = unlist(seu.list[2:length(seu.list)]), \n",
    "             project = \"Richards2021\", merge.data = T) # it is not necessary to add cell IDs here because they are already in the name of each cell"
   ]
  },
  {
   "cell_type": "code",
   "execution_count": null,
   "metadata": {},
   "outputs": [],
   "source": [
    "# filter doublets\n",
    "Richards2021_final <- subset(Richards2021_final, subset = DF.individual == 'Singlet')"
   ]
  },
  {
   "cell_type": "code",
   "execution_count": null,
   "metadata": {
    "cell_style": "center"
   },
   "outputs": [],
   "source": [
    "Richards2021_clinical <- subset(as.data.frame(readxl::read_excel(paste0(path.dir, 'Richards2021/43018_2020_154_MOESM3_ESM.xlsx'))), \n",
    "                               select = c(PatientID, Age, Sex)) %>% filter(!PatientID == 'G620') # this is an IDH mutant sample\n",
    "colnames(Richards2021_clinical)[1] <- 'Patient'\n",
    "Richards2021_clinical$Sex <- gsub('Male', 'M', Richards2021_clinical$Sex)\n",
    "Richards2021_clinical$Sex <- gsub('Female', 'M', Richards2021_clinical$Sex)"
   ]
  },
  {
   "cell_type": "code",
   "execution_count": null,
   "metadata": {},
   "outputs": [],
   "source": [
    "scRNA_Richards2021 <- as.data.frame(data.table::fread(paste0(path.dir, \n",
    "                                                             \"Richards2021/Richards_NatureCancer_GBM_scRNAseq_meta.csv.gz\")))\n",
    "scRNA_Richards2021 <- subset(scRNA_Richards2021, select = c(V1, PatientID, Stage, CellType)) %>% mutate(Method = 'cell', Platform = '10x_v2')\n",
    "scRNA_Richards2021$V1 <- gsub('-', '.', scRNA_Richards2021$V1) # change characters to match cell names\n",
    "snRNA_Richards2021 <- as.data.frame(data.table::fread(paste0(path.dir, \n",
    "                                                             \"Richards2021/Richards_NatureCancer_GBM_snRNAseq_meta.csv.gz\")))\n",
    "snRNA_Richards2021 <- subset(snRNA_Richards2021, select = c(V1, PatientID, Stage)) %>% mutate(Method = 'nuclei', Platform = '10x_v2', CellType = NA)"
   ]
  },
  {
   "cell_type": "code",
   "execution_count": null,
   "metadata": {},
   "outputs": [],
   "source": [
    "Richards2021_meta <- rbind(scRNA_Richards2021, snRNA_Richards2021) %>% filter(!PatientID == 'G620') # this is an IDH mutant sample\n",
    "colnames(Richards2021_meta) <- c('Cell', 'Patient', 'Stage', 'Celltype (original)', 'Method', 'Platform')\n",
    "Richards2021_meta$Stage <- gsub('PRIMARY', 'Primary', Richards2021_meta$Stage)\n",
    "Richards2021_meta$Stage <- gsub('RECURRENT', 'Recurrent', Richards2021_meta$Stage)"
   ]
  },
  {
   "cell_type": "code",
   "execution_count": null,
   "metadata": {
    "cell_style": "split",
    "scrolled": true
   },
   "outputs": [],
   "source": [
    "Richards2021_meta <- merge(Richards2021_meta, Richards2021_clinical, by= \"Patient\")"
   ]
  },
  {
   "cell_type": "code",
   "execution_count": null,
   "metadata": {},
   "outputs": [],
   "source": [
    "# to include the other good quality cells even they do not have annotated cell type metadata\n",
    "\n",
    "cell <-  data.frame(Cell = colnames(Richards2021_final))\n",
    "patients <- str_sub(cell$Cell, start = 0, end=str_locate(cell$Cell,\"_T\")[,1]-1)\n",
    "meta_tmp <- cbind(cell, data.frame(Patient = patients))\n",
    "meta_tmp$Patient <- gsub('\\\\.\\\\w+', '', meta_tmp$Patient) # https://cran.r-project.org/web/packages/stringr/vignettes/regular-expressions.html\n",
    "meta_tmp <- meta_tmp %>% mutate(Method = 'cell', Platform = '10x_v2')"
   ]
  },
  {
   "cell_type": "code",
   "execution_count": null,
   "metadata": {},
   "outputs": [],
   "source": [
    "Richards2021_meta <- list(Richards2021_meta, meta_tmp) %>% reduce(full_join)"
   ]
  },
  {
   "cell_type": "code",
   "execution_count": null,
   "metadata": {
    "code_folding": [],
    "scrolled": true
   },
   "outputs": [],
   "source": [
    "Richards2021_matrix <- GetAssayData(Richards2021_final, slot = 'counts')[,colnames(Richards2021_final) %in% Richards2021_meta$Cell]"
   ]
  },
  {
   "cell_type": "code",
   "execution_count": null,
   "metadata": {
    "scrolled": true,
    "tags": []
   },
   "outputs": [],
   "source": [
    "gene.names <- checkGeneSymbols(rownames(Richards2021_matrix), unmapped.as.na=FALSE)\n",
    "rownames(Richards2021_matrix) <- make.unique(gene.names$Suggested.Symbol)"
   ]
  },
  {
   "cell_type": "markdown",
   "metadata": {},
   "source": [
    "## Studies focused on immune cells"
   ]
  },
  {
   "cell_type": "markdown",
   "metadata": {},
   "source": [
    "### Darmanis2017\n",
    "Smart-seq2 - TPM matrices <br>\n",
    "Matrices include only filtered cells by QC"
   ]
  },
  {
   "cell_type": "code",
   "execution_count": null,
   "metadata": {
    "scrolled": true
   },
   "outputs": [],
   "source": [
    "Darmanis2017 <- data.table::fread(paste0(path.dir, 'Darmanis2017/GSE84465_GBM_All_data.csv')) %>% column_to_rownames('V1')\n",
    "n <-dim(Darmanis2017)[1]\n",
    "Darmanis2017 <- Darmanis2017[1:(n-5),] # last columns where some quality metrics (# feautres, aligment, etc) embebed in the count matrix\n",
    "Darmanis2017"
   ]
  },
  {
   "cell_type": "code",
   "execution_count": null,
   "metadata": {},
   "outputs": [],
   "source": [
    "Darmanis2017_final <- CreateSeuratObject(Darmanis2017, min.features = 500, min.cells = 5, \n",
    "                                  project = 'Darmanis2017')"
   ]
  },
  {
   "cell_type": "code",
   "execution_count": null,
   "metadata": {},
   "outputs": [],
   "source": [
    "Darmanis2017_final <- PercentageFeatureSet(Darmanis2017_final, pattern = \"^MT-\", col.name = \"percent.MT\")\n",
    "Darmanis2017_final <- subset(Darmanis2017_final, subset = percent.MT < 30)"
   ]
  },
  {
   "cell_type": "code",
   "execution_count": null,
   "metadata": {
    "cell_style": "split"
   },
   "outputs": [],
   "source": [
    "# clinical metadata\n",
    "Darmanis2017_clinical <- subset(data.table::fread(paste0(path.dir, 'Darmanis2017/clinical_data.txt')),\n",
    "                               select = -c(IDH, `Final Path`))"
   ]
  },
  {
   "cell_type": "code",
   "execution_count": null,
   "metadata": {
    "cell_style": "split",
    "scrolled": true
   },
   "outputs": [],
   "source": [
    "Darmanis2017_meta <- subset(data.table::fread(paste0(path.dir, 'Darmanis2017/GBM_GSE84465_CellMetainfo_table.tsv')),\n",
    "                     select = -c(UMAP_1,UMAP_2,Cluster, Selection)) # selection means whether was enriched for CD45+, etc\n",
    "# tissue in this case is region (periphery vs core)"
   ]
  },
  {
   "cell_type": "code",
   "execution_count": null,
   "metadata": {
    "scrolled": true
   },
   "outputs": [],
   "source": [
    "Darmanis2017_meta <- merge(Darmanis2017_meta, Darmanis2017_clinical, by= \"Patient\")\n",
    "Darmanis2017_meta$Platform <- 'Smart-seq2'\n",
    "Darmanis2017_meta$Method <- 'cell'"
   ]
  },
  {
   "cell_type": "code",
   "execution_count": null,
   "metadata": {
    "scrolled": true
   },
   "outputs": [],
   "source": [
    "Darmanis2017_matrix <- GetAssayData(Darmanis2017_final, \n",
    "                                     slot = 'counts')[,colnames(Darmanis2017_final) %in% \n",
    "                                                      Darmanis2017_meta$Cell]"
   ]
  },
  {
   "cell_type": "code",
   "execution_count": null,
   "metadata": {
    "scrolled": true,
    "tags": []
   },
   "outputs": [],
   "source": [
    "gene.names <- checkGeneSymbols(rownames(Darmanis2017_matrix), unmapped.as.na=FALSE)\n",
    "rownames(Darmanis2017_matrix) <- make.unique(gene.names$Suggested.Symbol)"
   ]
  },
  {
   "cell_type": "markdown",
   "metadata": {},
   "source": [
    "### Sankowski2019\n",
    "CEL-seq2 - Count matrices normalized by downscaling. Roughly raw counts. It was created using RACEID. <br>\n",
    "Check https://github.com/dgrun/RaceID3_StemID2_package/blob/master/R/RaceID.R line 22"
   ]
  },
  {
   "cell_type": "code",
   "execution_count": null,
   "metadata": {},
   "outputs": [],
   "source": [
    "tidy.tables <- function(filename) {\n",
    "    dat=read.table(filename)\n",
    "    dat$V1 <-sub(\"\\\\_.*\",\"\\\\\", dat$V1)\n",
    "    dat <- dat[!str_detect(dat$V1, \"^[:lower:].*$\"), ]\n",
    "    dat <- dat[!str_detect(dat$V1, \"^[:number:].*$\"), ]\n",
    "    colnames(dat) <- dat[1,]\n",
    "    dat <- dat[-1,]\n",
    "    dat <- dat[!duplicated(dat$GENEID), ]\n",
    "    rownames(dat) <- NULL\n",
    "    dat <- column_to_rownames(dat, 'GENEID')\n",
    "    dat <- as.matrix(dat)\n",
    "}"
   ]
  },
  {
   "cell_type": "code",
   "execution_count": null,
   "metadata": {
    "cell_style": "split",
    "scrolled": true
   },
   "outputs": [],
   "source": [
    "tmp <- list.files(path = paste0(path.dir, \"Sankowski2019\"),\n",
    "               pattern = \"*.tsv.gz\", \n",
    "               full.names = T)\n",
    "myfiles = lapply(tmp, tidy.tables)"
   ]
  },
  {
   "cell_type": "code",
   "execution_count": null,
   "metadata": {
    "cell_style": "split",
    "scrolled": true
   },
   "outputs": [],
   "source": [
    "labels <- str_sub(tmp, start = 97, end=str_locate(tmp,\"coutt\")[,1]-2) \n",
    "names(myfiles) <- labels"
   ]
  },
  {
   "cell_type": "code",
   "execution_count": null,
   "metadata": {
    "scrolled": true
   },
   "outputs": [],
   "source": [
    "Sankowski2019 <- list()\n",
    "for (i in 1:length(myfiles)) {\n",
    "    seu_obj <- CreateSeuratObject(myfiles[[i]], min.features = 0, min.cells = 5, \n",
    "                                  project = names(myfiles[i]))\n",
    "    Sankowski2019 <- append(Sankowski2019, seu_obj)\n",
    "}"
   ]
  },
  {
   "cell_type": "code",
   "execution_count": null,
   "metadata": {
    "scrolled": true
   },
   "outputs": [],
   "source": [
    "Sankowski2019_final <- merge(Sankowski2019[[1]], y = unlist(Sankowski2019[2:length(Sankowski2019)]), \n",
    "             add.cell.ids = labels, project = \"Sankowski2019\", merge.data = T)"
   ]
  },
  {
   "cell_type": "code",
   "execution_count": null,
   "metadata": {},
   "outputs": [],
   "source": [
    "Sankowski2019_final <- PercentageFeatureSet(Sankowski2019_final, pattern = \"^MT-\", col.name = \"percent.MT\")\n",
    "Sankowski2019_final <- subset(Sankowski2019_final, subset = percent.MT < 30 & nCount_RNA > 1000 & nFeature_RNA > 500) "
   ]
  },
  {
   "cell_type": "code",
   "execution_count": null,
   "metadata": {
    "cell_style": "split"
   },
   "outputs": [],
   "source": [
    "# clinical metadata\n",
    "Sankowski2019_clinical <- subset(data.table::fread(paste0(path.dir, 'Sankowski2019/clinical_data.txt')))"
   ]
  },
  {
   "cell_type": "code",
   "execution_count": null,
   "metadata": {
    "cell_style": "split",
    "scrolled": true
   },
   "outputs": [],
   "source": [
    "Sankowski2019_meta <- subset(data.table::fread(paste0(path.dir, \n",
    "                                               'Sankowski2019/GBM_GSE135437_CellMetainfo_table.tsv')),\n",
    "                             select = -c(UMAP_1,UMAP_2,Cluster))\n",
    "Sankowski2019_meta <- Sankowski2019_meta[!grepl(\"37_filtered\", Sankowski2019_meta$Cell),] # get rid of cells named 'filtered...'\n",
    "Sankowski2019_meta$Cell <- gsub('@', '_', Sankowski2019_meta$Cell) # change characters to match cell names\n",
    "Sankowski2019_meta <- Sankowski2019_meta %>% filter(Patient == 'Pat6' | Patient == 'Pat9' | \n",
    "                                                   Patient == 'Pat13' | Patient == 'Pat14' |\n",
    "                                                   Patient == 'GBM1' | Patient == 'GBM2' |\n",
    "                                                   Patient == 'GBM3' | Patient == 'GBM4'\n",
    "                                                   )"
   ]
  },
  {
   "cell_type": "code",
   "execution_count": null,
   "metadata": {
    "cell_style": "split",
    "scrolled": true
   },
   "outputs": [],
   "source": [
    "Sankowski2019_meta <- merge(Sankowski2019_meta, Sankowski2019_clinical, by= \"Patient\")\n",
    "Sankowski2019_meta$Platform <- 'Cel-seq2'\n",
    "Sankowski2019_meta$Method <- 'cell'"
   ]
  },
  {
   "cell_type": "code",
   "execution_count": null,
   "metadata": {
    "scrolled": true
   },
   "outputs": [],
   "source": [
    "Sankowski2019_matrix <- round(GetAssayData(Sankowski2019_final, # added round to get rid of the decimals\n",
    "                                     slot = 'counts'))[,colnames(Sankowski2019_final) %in% \n",
    "                                                      Sankowski2019_meta$Cell]"
   ]
  },
  {
   "cell_type": "code",
   "execution_count": null,
   "metadata": {
    "scrolled": true,
    "tags": []
   },
   "outputs": [],
   "source": [
    "gene.names <- checkGeneSymbols(rownames(Sankowski2019_matrix), unmapped.as.na=FALSE)\n",
    "rownames(Sankowski2019_matrix) <- make.unique(gene.names$Suggested.Symbol)"
   ]
  },
  {
   "cell_type": "markdown",
   "metadata": {},
   "source": [
    "### Goswami2019\n",
    "10x Genomics - Count matrices"
   ]
  },
  {
   "cell_type": "code",
   "execution_count": null,
   "metadata": {},
   "outputs": [],
   "source": [
    "tidy.tables <- function(filename) {\n",
    "    dat <- data.table::fread(filename)\n",
    "    dat <- as.data.frame(dat[,-2])\n",
    "    dat$V1 <- seq(0, length(dat$V1)-1)\n",
    "    dat <- t(dat)\n",
    "    colnames(dat) <- dat[1,]\n",
    "    dat <- dat[-1,]\n",
    "    dat <- dat[!duplicated(rownames(dat)), ] # there are ~5 genes duplicated in each table (COG8. MATR3, SPATA13, some LINC genes)\n",
    "}\n"
   ]
  },
  {
   "cell_type": "code",
   "execution_count": null,
   "metadata": {
    "cell_style": "split",
    "scrolled": true
   },
   "outputs": [],
   "source": [
    "tmp <- list.files(paste0(path.dir, \"Goswami2019\"),\n",
    "               pattern = \"*.csv\", \n",
    "               full.names = T)\n",
    "myfiles = lapply(tmp, tidy.tables)"
   ]
  },
  {
   "cell_type": "code",
   "execution_count": null,
   "metadata": {
    "cell_style": "split",
    "scrolled": true
   },
   "outputs": [],
   "source": [
    "labels <- str_sub(tmp, start = 84, end=str_locate(tmp,\"output\")[,1]-2)\n",
    "names(myfiles) <- labels"
   ]
  },
  {
   "cell_type": "code",
   "execution_count": null,
   "metadata": {
    "cell_style": "center",
    "scrolled": true
   },
   "outputs": [],
   "source": [
    "Goswami2019 <- list()\n",
    "for (i in 1:length(myfiles)) {\n",
    "    seu_obj <- CreateSeuratObject(myfiles[[i]], min.features = 500, min.cells = 5, \n",
    "                                  project = names(myfiles[i]))\n",
    "    Goswami2019 <- append(Goswami2019, seu_obj)\n",
    "}"
   ]
  },
  {
   "cell_type": "code",
   "execution_count": null,
   "metadata": {
    "scrolled": true
   },
   "outputs": [],
   "source": [
    "for(i in 1:length(Goswami2019)){\n",
    "  cat(' #####################################\\n',\n",
    "      '### Processing dataset number ', i, '###\\n',\n",
    "      '#####################################\\n')\n",
    "  # add %MT\n",
    "  Goswami2019[[i]][[\"percent.MT\"]]  <- PercentageFeatureSet(Goswami2019[[i]], pattern = \"^MT-\") \n",
    "  \n",
    "  # Filter out low quality cells according to the metrics defined above\n",
    "  Goswami2019[[i]] <- subset(Goswami2019[[i]],\n",
    "                           subset = percent.MT < 30 &\n",
    "                             nCount_RNA > 1000\n",
    "  )\n",
    "  # Only mito and floor filtering; trying to find doublets\n",
    "}\n",
    "\n",
    "# preprocess each dataset individually\n",
    "Goswami2019 <- lapply(Goswami2019, seuPreProcess)"
   ]
  },
  {
   "cell_type": "code",
   "execution_count": null,
   "metadata": {
    "scrolled": true
   },
   "outputs": [],
   "source": [
    "# https://github.com/mckellardw/scMuscle/blob/main/R_scripts/scMuscle_github_v1.R\n",
    "\n",
    "bcmvn <- list()\n",
    "pK <- list()\n",
    "homotypic.prop <- list()\n",
    "nExp_poi <- list()\n",
    "nExp_poi.adj <- list()\n",
    "\n",
    "# Estimated Doublet Rate for each dataset\n",
    "edr <- estimateDoubletRate.DWM(seur.list = Goswami2019)/100 #use your own known EDR here\n",
    "\n",
    "for(i in 1:length(Goswami2019)){\n",
    "  cat(' ############################################\\n',\n",
    "      '### DoubletFinder for dataset number ', i, '###\\n',\n",
    "      '############################################\\n')\n",
    "  \n",
    "  ## pK Identification (no ground-truth)\n",
    "  bcmvn[[i]]<- paramSweep_v3(\n",
    "    seu=Goswami2019[[i]],\n",
    "    PCs = 1:Goswami2019[[i]]@reductions$umap_RNA@misc$n.pcs.used, \n",
    "    num.cores = 8\n",
    "  ) %>% summarizeSweep(\n",
    "    GT = FALSE\n",
    "  ) %>% find.pK() \n",
    "  \n",
    "  # Pull out max of bcmvn\n",
    "  pK[[i]] <- as.numeric(as.character(bcmvn[[i]]$pK[bcmvn[[i]]$BCmetric==max(bcmvn[[i]]$BCmetric)])) # ugly, but functional...\n",
    "  \n",
    "  ## Homotypic Doublet Proportion Estimate\n",
    "  homotypic.prop[[i]] <- modelHomotypic(Goswami2019[[i]]$seurat_clusters) \n",
    "  \n",
    "  nExp_poi[[i]] <- round(edr[[i]]*length(colnames(Goswami2019[[i]])))  \n",
    "  nExp_poi.adj[[i]] <- round(nExp_poi[[i]]*(1-homotypic.prop[[i]]))\n",
    "}"
   ]
  },
  {
   "cell_type": "code",
   "execution_count": null,
   "metadata": {
    "scrolled": true
   },
   "outputs": [],
   "source": [
    "# Run DoubletFinder\n",
    "for(i in 1:length(Goswami2019)){\n",
    "  Goswami2019[[i]] <- \n",
    "    doubletFinder_V3.DWM_v2( # just changed it so the output metadata column name is customizable\n",
    "      seu=Goswami2019[[i]], \n",
    "      PCs = 1:Goswami2019[[i]]@reductions$umap_RNA@misc$n.pcs.used, \n",
    "      pN = 0.25, #default value\n",
    "      pK= pK[[i]], \n",
    "      nExp = nExp_poi.adj[[i]],  \n",
    "      reuse.pANN = F, \n",
    "      classification.name='DF.individual', \n",
    "      pANN.name='DF.pANN.individual'\n",
    "    )\n",
    "}"
   ]
  },
  {
   "cell_type": "code",
   "execution_count": null,
   "metadata": {
    "scrolled": true
   },
   "outputs": [],
   "source": [
    "Goswami2019_final <- merge(Goswami2019[[1]], y = unlist(Goswami2019[2:length(Goswami2019)]), \n",
    "             add.cell.ids = labels, project = \"Goswami2019\", merge.data = T)"
   ]
  },
  {
   "cell_type": "code",
   "execution_count": null,
   "metadata": {},
   "outputs": [],
   "source": [
    "# filter doublets\n",
    "Goswami2019_final <- subset(Goswami2019_final, subset = DF.individual == 'Singlet')"
   ]
  },
  {
   "cell_type": "code",
   "execution_count": null,
   "metadata": {
    "cell_style": "split"
   },
   "outputs": [],
   "source": [
    "Goswami2019_clinical <- subset(readxl::read_excel(paste0(path.dir, 'Goswami2019/clinical_data.xlsx')),\n",
    "                               select = -c(IDH)) %>% filter(Patient != '3199') # this is a GBM IDH mutant "
   ]
  },
  {
   "cell_type": "code",
   "execution_count": null,
   "metadata": {
    "cell_style": "split"
   },
   "outputs": [],
   "source": [
    "Goswami2019_meta <- data.frame(Cell = colnames(Goswami2019_final), \n",
    "           `Celltype (malignancy)` = rep('Immune cells', length(colnames(Goswami2019_final))), # this are CD45+ sorted cells\n",
    "           `Celltype (major-lineage)` = rep('NA', length(colnames(Goswami2019_final))),\n",
    "           `Celltype (minor-lineage)` = rep('NA', length(colnames(Goswami2019_final))),\n",
    "           `Celltype (original)` = rep('NA', length(colnames(Goswami2019_final))),\n",
    "           Patient = str_sub(colnames(Goswami2019_final), start = 0, end=str_locate(colnames(Goswami2019_final),\"_\")[,1]-1),\n",
    "           check.names = FALSE\n",
    "          )"
   ]
  },
  {
   "cell_type": "code",
   "execution_count": null,
   "metadata": {},
   "outputs": [],
   "source": [
    "Goswami2019_meta <- merge(Goswami2019_meta, Goswami2019_clinical, by= \"Patient\")"
   ]
  },
  {
   "cell_type": "code",
   "execution_count": null,
   "metadata": {
    "scrolled": true
   },
   "outputs": [],
   "source": [
    "Goswami2019_matrix <- GetAssayData(Goswami2019_final, slot = 'counts')[,colnames(Goswami2019_final) %in% Goswami2019_meta$Cell]"
   ]
  },
  {
   "cell_type": "code",
   "execution_count": null,
   "metadata": {
    "scrolled": true,
    "tags": []
   },
   "outputs": [],
   "source": [
    "gene.names <- checkGeneSymbols(rownames(Goswami2019_matrix), unmapped.as.na=FALSE)\n",
    "rownames(Goswami2019_matrix) <- make.unique(gene.names$Suggested.Symbol)"
   ]
  },
  {
   "cell_type": "markdown",
   "metadata": {},
   "source": [
    "### Pombo2021\n",
    "10x Genomics - Raw count matrices (filtered for only immune cells) - 3' and 5' capture"
   ]
  },
  {
   "cell_type": "code",
   "execution_count": null,
   "metadata": {},
   "outputs": [],
   "source": [
    "tidy.tables <- function(filename) {\n",
    "    dat=data.table::fread(filename)\n",
    "    dat <- as.data.frame(dat) %>% column_to_rownames('V1')\n",
    "}"
   ]
  },
  {
   "cell_type": "code",
   "execution_count": null,
   "metadata": {
    "cell_style": "split",
    "scrolled": true
   },
   "outputs": [],
   "source": [
    "tmp <- list.files(path = paste0(path.dir, \"Pombo2021\"),\n",
    "               pattern = \"*matrix.csv\", \n",
    "               full.names = T)\n",
    "myfiles = lapply(tmp, tidy.tables)"
   ]
  },
  {
   "cell_type": "code",
   "execution_count": null,
   "metadata": {
    "cell_style": "split",
    "scrolled": true
   },
   "outputs": [],
   "source": [
    "labels <- str_sub(tmp, start = 82, end=str_locate(tmp,\".filtered\")[,1]-1)\n",
    "names(myfiles) <- labels"
   ]
  },
  {
   "cell_type": "code",
   "execution_count": null,
   "metadata": {},
   "outputs": [],
   "source": [
    "tmp_r <- CreateSeuratObject(myfiles[[1]], min.features = 0, min.cells = 5)\n",
    "tmp_nd <- CreateSeuratObject(myfiles[[2]], min.features = 0, min.cells = 5)\n",
    "tmp_rnd <- CreateSeuratObject(myfiles[[3]], min.features = 0, min.cells = 5)"
   ]
  },
  {
   "cell_type": "code",
   "execution_count": null,
   "metadata": {
    "scrolled": true
   },
   "outputs": [],
   "source": [
    "nd_Pombo2021 <- as.data.frame(data.table::fread(paste0(path.dir, \n",
    "                                                       \"Pombo2021/GSM4972211_annot.Human.GBM.ND1_2_3_4_5_6_7.csv\")))\n",
    "nd_Pombo2021 <- subset(nd_Pombo2021, select = c(cell, sample)) %>% column_to_rownames('cell')\n",
    "\n",
    "r_Pombo2021 <- as.data.frame(data.table::fread(paste0(path.dir, \n",
    "                                                             \"Pombo2021/GSM4972210_annot.Human.GBM.R1_2_3_4_4nc.csv\")))\n",
    "r_Pombo2021 <- subset(r_Pombo2021, select = c(cell, sample)) %>% column_to_rownames('cell')\n",
    "\n",
    "rnd_Pombo2021 <- as.data.frame(data.table::fread(paste0(path.dir, \n",
    "                                                       \"Pombo2021/GSM4972212_annot.Citeseq_Human.GBM.R2_5_ND8.csv\")))\n",
    "rnd_Pombo2021 <- subset(rnd_Pombo2021, select = c(V7, V8)) %>% `colnames<-` (c('cell', 'sample')) %>% column_to_rownames('cell') "
   ]
  },
  {
   "cell_type": "code",
   "execution_count": null,
   "metadata": {},
   "outputs": [],
   "source": [
    "tmp_r <- AddMetaData(tmp_r, r_Pombo2021)\n",
    "tmp_nd <- AddMetaData(tmp_nd, nd_Pombo2021)\n",
    "tmp_rnd <- AddMetaData(tmp_rnd, rnd_Pombo2021)"
   ]
  },
  {
   "cell_type": "code",
   "execution_count": null,
   "metadata": {
    "scrolled": true
   },
   "outputs": [],
   "source": [
    "# matrices contain different samples. First, they are split by sample\n",
    "seu.list_r <- list()\n",
    "for(i in 1:length(table(tmp_r@meta.data$sample))){\n",
    "    seu_obj <- subset(tmp_r, subset = sample == names(table(tmp_r@meta.data$sample))[[i]])\n",
    "    seu.list_r <- append(seu.list_r, seu_obj)\n",
    "    }\n",
    "\n",
    "seu.list_nd <- list()\n",
    "for(i in 1:length(table(tmp_nd@meta.data$sample))){\n",
    "    seu_obj <- subset(tmp_nd, subset = sample == names(table(tmp_nd@meta.data$sample))[[i]])\n",
    "    seu.list_nd <- append(seu.list_nd, seu_obj)\n",
    "    }\n",
    "\n",
    "seu.list_rnd <- list()\n",
    "for(i in 1:length(table(tmp_rnd@meta.data$sample))){\n",
    "    seu_obj <- subset(tmp_rnd, subset = sample == names(table(tmp_rnd@meta.data$sample))[[i]])\n",
    "    seu.list_rnd <- append(seu.list_rnd, seu_obj)\n",
    "    }\n"
   ]
  },
  {
   "cell_type": "code",
   "execution_count": null,
   "metadata": {
    "scrolled": true
   },
   "outputs": [],
   "source": [
    "seu.list <- c(seu.list_r, seu.list_nd, seu.list_rnd)\n",
    "for(i in 1:length(seu.list)){\n",
    "  cat(' #####################################\\n',\n",
    "      '### Processing dataset number ', i, '###\\n',\n",
    "      '#####################################\\n')\n",
    "  # add %MT\n",
    "  seu.list[[i]][[\"percent.MT\"]]  <- PercentageFeatureSet(seu.list[[i]], pattern = \"^MT-\") \n",
    "  \n",
    "  # Filter out low quality cells according to the metrics defined above\n",
    "  seu.list[[i]] <- subset(seu.list[[i]],\n",
    "                           subset = percent.MT < 30 &\n",
    "                             nCount_RNA > 1000 & nFeature_RNA > 500\n",
    "  )\n",
    "  # Only mito and floor filtering; trying to find doublets\n",
    "}\n",
    "\n",
    "# preprocess each dataset individually\n",
    "seu.list <- lapply(seu.list, seuPreProcess)"
   ]
  },
  {
   "cell_type": "code",
   "execution_count": null,
   "metadata": {
    "scrolled": true
   },
   "outputs": [],
   "source": [
    "# https://github.com/mckellardw/scMuscle/blob/main/R_scripts/scMuscle_github_v1.R\n",
    "\n",
    "bcmvn <- list()\n",
    "pK <- list()\n",
    "homotypic.prop <- list()\n",
    "nExp_poi <- list()\n",
    "nExp_poi.adj <- list()\n",
    "\n",
    "# Estimated Doublet Rate for each dataset\n",
    "edr <- estimateDoubletRate.DWM(seur.list = seu.list)/100 #use your own known EDR here\n",
    "\n",
    "for(i in 1:length(seu.list)){\n",
    "  cat(' ############################################\\n',\n",
    "      '### DoubletFinder for dataset number ', i, '###\\n',\n",
    "      '############################################\\n')\n",
    "  \n",
    "  ## pK Identification (no ground-truth)\n",
    "  bcmvn[[i]]<- paramSweep_v3(\n",
    "    seu=seu.list[[i]],\n",
    "    PCs = 1:seu.list[[i]]@reductions$umap_RNA@misc$n.pcs.used, \n",
    "    num.cores = 8\n",
    "  ) %>% summarizeSweep(\n",
    "    GT = FALSE\n",
    "  ) %>% find.pK() \n",
    "  \n",
    "  # Pull out max of bcmvn\n",
    "  pK[[i]] <- as.numeric(as.character(bcmvn[[i]]$pK[bcmvn[[i]]$BCmetric==max(bcmvn[[i]]$BCmetric)])) # ugly, but functional...\n",
    "  \n",
    "  ## Homotypic Doublet Proportion Estimate\n",
    "  homotypic.prop[[i]] <- modelHomotypic(seu.list[[i]]$seurat_clusters) \n",
    "  \n",
    "  nExp_poi[[i]] <- round(edr[[i]]*length(colnames(seu.list[[i]])))  \n",
    "  nExp_poi.adj[[i]] <- round(nExp_poi[[i]]*(1-homotypic.prop[[i]]))\n",
    "}"
   ]
  },
  {
   "cell_type": "code",
   "execution_count": null,
   "metadata": {
    "scrolled": true
   },
   "outputs": [],
   "source": [
    "# Run DoubletFinder\n",
    "for(i in 1:length(seu.list)){\n",
    "  seu.list[[i]] <- \n",
    "    doubletFinder_V3.DWM_v2( # just changed it so the output metadata column name is customizable\n",
    "      seu=seu.list[[i]], \n",
    "      PCs = 1:seu.list[[i]]@reductions$umap_RNA@misc$n.pcs.used, \n",
    "      pN = 0.25, #default value\n",
    "      pK= pK[[i]], \n",
    "      nExp = nExp_poi.adj[[i]],  \n",
    "      reuse.pANN = F, \n",
    "      classification.name='DF.individual', \n",
    "      pANN.name='DF.pANN.individual'\n",
    "    )\n",
    "}"
   ]
  },
  {
   "cell_type": "code",
   "execution_count": null,
   "metadata": {},
   "outputs": [],
   "source": [
    "labels <- c(names(table(r_Pombo2021)), names(table(nd_Pombo2021)), names(table(rnd_Pombo2021)))"
   ]
  },
  {
   "cell_type": "code",
   "execution_count": null,
   "metadata": {
    "scrolled": true
   },
   "outputs": [],
   "source": [
    "Pombo2021_final <- merge(seu.list[[1]], y = unlist(seu.list[2:length(seu.list)]), \n",
    "             add.cell.ids = labels, project = \"Pombo2021\", merge.data = T)"
   ]
  },
  {
   "cell_type": "code",
   "execution_count": null,
   "metadata": {},
   "outputs": [],
   "source": [
    "# filter doublets\n",
    "Pombo2021_final <- subset(Pombo2021_final, subset = DF.individual == 'Singlet')"
   ]
  },
  {
   "cell_type": "code",
   "execution_count": null,
   "metadata": {
    "cell_style": "center"
   },
   "outputs": [],
   "source": [
    "Pombo2021_clinical <- subset(as.data.frame(readxl::read_excel(paste0(path.dir, 'Pombo2021/41593_2020_789_MOESM3_ESM.xlsx'))), \n",
    "                               select = -c(`IDH status`)) %>% mutate(Method = 'cell')"
   ]
  },
  {
   "cell_type": "code",
   "execution_count": null,
   "metadata": {
    "scrolled": true
   },
   "outputs": [],
   "source": [
    "nd_Pombo2021 <- as.data.frame(data.table::fread(paste0(path.dir, \n",
    "                                                       \"Pombo2021/GSM4972211_annot.Human.GBM.ND1_2_3_4_5_6_7.csv\")))\n",
    "nd_Pombo2021 <- subset(nd_Pombo2021, select = c(cell, sample, cluster)) \n",
    "r_Pombo2021 <- as.data.frame(data.table::fread(paste0(path.dir, \n",
    "                                                             \"Pombo2021/GSM4972210_annot.Human.GBM.R1_2_3_4_4nc.csv\")))\n",
    "r_Pombo2021 <- subset(r_Pombo2021, select = c(cell, sample, cluster))\n",
    "rnd_Pombo2021 <- as.data.frame(data.table::fread(paste0(path.dir, \n",
    "                                                       \"Pombo2021/GSM4972212_annot.Citeseq_Human.GBM.R2_5_ND8.csv\")))\n",
    "rnd_Pombo2021 <- subset(rnd_Pombo2021, select = c(sample, V7, V8)) %>% `colnames<-` (c('cluster','cell', 'sample'))\n",
    "Pombo2021_meta <- rbind(nd_Pombo2021, rnd_Pombo2021, r_Pombo2021)\n",
    "colnames(Pombo2021_meta) <- c('Cell', 'Patient', 'Celltype (original)')\n",
    "Pombo2021_meta$Cell <- paste0(Pombo2021_meta$Patient, '_', Pombo2021_meta$Cell)"
   ]
  },
  {
   "cell_type": "code",
   "execution_count": null,
   "metadata": {
    "cell_style": "split",
    "scrolled": true
   },
   "outputs": [],
   "source": [
    "Pombo2021_meta <- merge(Pombo2021_meta, Pombo2021_clinical, by= \"Patient\")"
   ]
  },
  {
   "cell_type": "code",
   "execution_count": null,
   "metadata": {
    "code_folding": [],
    "scrolled": true
   },
   "outputs": [],
   "source": [
    "Pombo2021_matrix <- GetAssayData(Pombo2021_final, slot = 'counts')[,colnames(Pombo2021_final) %in% Pombo2021_meta$Cell]"
   ]
  },
  {
   "cell_type": "code",
   "execution_count": null,
   "metadata": {
    "scrolled": true,
    "tags": []
   },
   "outputs": [],
   "source": [
    "gene.names <- checkGeneSymbols(rownames(Pombo2021_matrix), unmapped.as.na=FALSE)\n",
    "rownames(Pombo2021_matrix) <- make.unique(gene.names$Suggested.Symbol)"
   ]
  },
  {
   "cell_type": "markdown",
   "metadata": {},
   "source": [
    "### Mathewson2021\n",
    "10x Genomics - Raw count matrices - 5' capture"
   ]
  },
  {
   "cell_type": "code",
   "execution_count": null,
   "metadata": {
    "cell_style": "split",
    "scrolled": true
   },
   "outputs": [],
   "source": [
    "tmp <- list.files(path = paste0(path.dir, \"Mathewson2021\"), pattern = \"*.h5\",\n",
    "               full.names = T)"
   ]
  },
  {
   "cell_type": "code",
   "execution_count": null,
   "metadata": {
    "cell_style": "split"
   },
   "outputs": [],
   "source": [
    "labels <- str_sub(tmp, start = 97, end=str_locate(tmp,\"_raw\")[,1]-1)"
   ]
  },
  {
   "cell_type": "code",
   "execution_count": null,
   "metadata": {
    "scrolled": true
   },
   "outputs": [],
   "source": [
    "Mathewson2021 <- list()\n",
    "for (i in 1:length(tmp)) {\n",
    "    seu_obj.data <- Read10X_h5(paste0(tmp[i]))\n",
    "    seu_obj <- CreateSeuratObject(seu_obj.data, min.features = 500, min.cells = 5, \n",
    "                                  project = labels[i])\n",
    "    Mathewson2021 <- append(Mathewson2021, seu_obj)\n",
    "}"
   ]
  },
  {
   "cell_type": "code",
   "execution_count": null,
   "metadata": {
    "scrolled": true
   },
   "outputs": [],
   "source": [
    "for(i in 1:length(Mathewson2021)){\n",
    "  cat(' #####################################\\n',\n",
    "      '### Processing dataset number ', i, '###\\n',\n",
    "      '#####################################\\n')\n",
    "  # add %MT\n",
    "  Mathewson2021[[i]][[\"percent.MT\"]]  <- PercentageFeatureSet(Mathewson2021[[i]], pattern = \"^MT-\") \n",
    "  \n",
    "  # Filter out low quality cells according to the metrics defined above\n",
    "  Mathewson2021[[i]] <- subset(Mathewson2021[[i]],\n",
    "                           subset = percent.MT < 30 &\n",
    "                             nCount_RNA > 1000\n",
    "  )\n",
    "  # Only mito and floor filtering; trying to find doublets\n",
    "}\n",
    "\n",
    "# preprocess each dataset individually\n",
    "Mathewson2021 <- lapply(Mathewson2021, seuPreProcess)"
   ]
  },
  {
   "cell_type": "code",
   "execution_count": null,
   "metadata": {},
   "outputs": [],
   "source": [
    "# https://github.com/mckellardw/scMuscle/blob/main/R_scripts/scMuscle_github_v1.R\n",
    "\n",
    "bcmvn <- list()\n",
    "pK <- list()\n",
    "homotypic.prop <- list()\n",
    "nExp_poi <- list()\n",
    "nExp_poi.adj <- list()\n",
    "\n",
    "# Estimated Doublet Rate for each dataset\n",
    "edr <- estimateDoubletRate.DWM(seur.list = Mathewson2021)/100 #use your own known EDR here\n",
    "\n",
    "for(i in 1:length(Mathewson2021)){\n",
    "  cat(' ############################################\\n',\n",
    "      '### DoubletFinder for dataset number ', i, '###\\n',\n",
    "      '############################################\\n')\n",
    "  \n",
    "  ## pK Identification (no ground-truth)\n",
    "  bcmvn[[i]]<- paramSweep_v3(\n",
    "    seu=Mathewson2021[[i]],\n",
    "    PCs = 1:Mathewson2021[[i]]@reductions$umap_RNA@misc$n.pcs.used, \n",
    "    num.cores = 8\n",
    "  ) %>% summarizeSweep(\n",
    "    GT = FALSE\n",
    "  ) %>% find.pK() \n",
    "  \n",
    "  # Pull out max of bcmvn\n",
    "  pK[[i]] <- as.numeric(as.character(bcmvn[[i]]$pK[bcmvn[[i]]$BCmetric==max(bcmvn[[i]]$BCmetric)])) # ugly, but functional...\n",
    "  \n",
    "  ## Homotypic Doublet Proportion Estimate\n",
    "  homotypic.prop[[i]] <- modelHomotypic(Mathewson2021[[i]]$seurat_clusters) \n",
    "  \n",
    "  nExp_poi[[i]] <- round(edr[[i]]*length(colnames(Mathewson2021[[i]])))  \n",
    "  nExp_poi.adj[[i]] <- round(nExp_poi[[i]]*(1-homotypic.prop[[i]]))\n",
    "}"
   ]
  },
  {
   "cell_type": "code",
   "execution_count": null,
   "metadata": {
    "scrolled": true
   },
   "outputs": [],
   "source": [
    "# Run DoubletFinder\n",
    "for(i in 1:length(Mathewson2021)){\n",
    "  Mathewson2021[[i]] <- \n",
    "    doubletFinder_V3.DWM_v2( # just changed it so the output metadata column name is customizable\n",
    "      seu=Mathewson2021[[i]], \n",
    "      PCs = 1:Mathewson2021[[i]]@reductions$umap_RNA@misc$n.pcs.used, \n",
    "      pN = 0.25, #default value\n",
    "      pK= pK[[i]], \n",
    "      nExp = nExp_poi.adj[[i]],  \n",
    "      reuse.pANN = F, \n",
    "      classification.name='DF.individual', \n",
    "      pANN.name='DF.pANN.individual'\n",
    "    )\n",
    "}"
   ]
  },
  {
   "cell_type": "code",
   "execution_count": null,
   "metadata": {
    "scrolled": true
   },
   "outputs": [],
   "source": [
    "Mathewson2021_final <- merge(Mathewson2021[[1]], y = unlist(Mathewson2021[2:length(Mathewson2021)]), \n",
    "             add.cell.ids = paste0(labels, '_GEX'), project = \"Mathewson2021\", merge.data = T)"
   ]
  },
  {
   "cell_type": "code",
   "execution_count": null,
   "metadata": {},
   "outputs": [],
   "source": [
    "# filter doublets\n",
    "Mathewson2021_final <- subset(Mathewson2021_final, subset = DF.individual == 'Singlet')"
   ]
  },
  {
   "cell_type": "code",
   "execution_count": null,
   "metadata": {
    "cell_style": "center"
   },
   "outputs": [],
   "source": [
    "Mathewson2021_clinical <- as.data.frame(readxl::read_excel(paste0(path.dir, 'Mathewson2021/1-s2.0-S0092867421000659-mmc1.xlsx'))) %>% \n",
    "                                        select(-c(`IDH Status`))\n",
    "colnames(Mathewson2021_clinical)[4] <- 'Sex'"
   ]
  },
  {
   "cell_type": "code",
   "execution_count": null,
   "metadata": {
    "cell_style": "center"
   },
   "outputs": [],
   "source": [
    "Mathewson2021_meta <- as.data.frame(fread(paste0(path.dir, 'Mathewson2021/GSE163108_metadata_10x.csv'))) %>% select(c(V1, sampleid, annotate_Tcelltype))\n",
    "colnames(Mathewson2021_meta) <- c('Cell', 'Patient','Celltype (original)')\n",
    "Mathewson2021_meta$Cell <- paste0(Mathewson2021_meta$Cell, '-1')\n",
    "Mathewson2021_meta$Patient <- gsub('_GEX', '', Mathewson2021_meta$Patient)"
   ]
  },
  {
   "cell_type": "code",
   "execution_count": null,
   "metadata": {},
   "outputs": [],
   "source": [
    "Mathewson2021_meta <- merge(Mathewson2021_meta, Mathewson2021_clinical, by= \"Patient\")"
   ]
  },
  {
   "cell_type": "code",
   "execution_count": null,
   "metadata": {
    "scrolled": true
   },
   "outputs": [],
   "source": [
    "# to include the other good quality cells even they do not have annotated cell type metadata\n",
    "cell <-  data.frame(Cell = colnames(Mathewson2021_final))\n",
    "patients <- str_sub(cell$Cell, start = 0, end=str_locate(cell$Cell,\"_\")[,1]-1)\n",
    "meta_tmp <- cbind(cell, data.frame(Patient = patients))\n",
    "meta_tmp <- merge(meta_tmp, Mathewson2021_clinical, by= \"Patient\")"
   ]
  },
  {
   "cell_type": "code",
   "execution_count": null,
   "metadata": {},
   "outputs": [],
   "source": [
    "Mathewson2021_meta <- list(Mathewson2021_meta, meta_tmp) %>% reduce(full_join) %>% mutate(Platform = \"10x_v1_5'\", Method = 'cell')"
   ]
  },
  {
   "cell_type": "code",
   "execution_count": null,
   "metadata": {
    "code_folding": [],
    "scrolled": true
   },
   "outputs": [],
   "source": [
    "Mathewson2021_matrix <- GetAssayData(Mathewson2021_final, slot = 'counts')[,colnames(Mathewson2021_final) %in% Mathewson2021_meta$Cell]"
   ]
  },
  {
   "cell_type": "code",
   "execution_count": null,
   "metadata": {
    "scrolled": true,
    "tags": []
   },
   "outputs": [],
   "source": [
    "gene.names <- checkGeneSymbols(rownames(Mathewson2021_matrix), unmapped.as.na=FALSE)\n",
    "rownames(Mathewson2021_matrix) <- make.unique(gene.names$Suggested.Symbol)"
   ]
  },
  {
   "cell_type": "markdown",
   "metadata": {},
   "source": [
    "## Our study"
   ]
  },
  {
   "cell_type": "code",
   "execution_count": null,
   "metadata": {
    "scrolled": true
   },
   "outputs": [],
   "source": [
    "path.dir <- list.dirs(path = '/hpc/pmc_stunnenberg/cruiz/scRNA/cellranger-output/gbm/deep_sequencing', recursive = FALSE)\n",
    "path.dir <- path.dir[-1] # delete script dir"
   ]
  },
  {
   "cell_type": "code",
   "execution_count": null,
   "metadata": {},
   "outputs": [],
   "source": [
    "labels <- paste0('NH', str_sub(path.dir, start = 78))\n",
    "names(path.dir) <- labels"
   ]
  },
  {
   "cell_type": "code",
   "execution_count": null,
   "metadata": {},
   "outputs": [],
   "source": [
    "gbm_cohort <- list()\n",
    "for (i in 1:length(path.dir)) {\n",
    "    seu_obj.data <- Read10X(data.dir = paste0(path.dir[[i]], '/outs/filtered_feature_bc_matrix'))\n",
    "    seu_obj <- CreateSeuratObject(seu_obj.data, min.features = 500, min.cells = 5, \n",
    "                                  project = names(path.dir[i]))\n",
    "    gbm_cohort <- append(gbm_cohort, seu_obj)\n",
    "}"
   ]
  },
  {
   "cell_type": "code",
   "execution_count": null,
   "metadata": {
    "scrolled": true
   },
   "outputs": [],
   "source": [
    "for(i in 1:length(gbm_cohort)){\n",
    "  cat(' #####################################\\n',\n",
    "      '### Processing dataset number ', i, '###\\n',\n",
    "      '#####################################\\n')\n",
    "  # add %MT\n",
    "  gbm_cohort[[i]][[\"percent.MT\"]]  <- PercentageFeatureSet(gbm_cohort[[i]], pattern = \"^MT-\") \n",
    "  \n",
    "  # Filter out low quality cells according to the metrics defined above\n",
    "  gbm_cohort[[i]] <- subset(gbm_cohort[[i]],\n",
    "                           subset = percent.MT < 10 &\n",
    "                             nCount_RNA > 1000\n",
    "  )\n",
    "  # Only mito and floor filtering; trying to find doublets\n",
    "}\n",
    "\n",
    "# preprocess each dataset individually\n",
    "gbm_cohort <- lapply(gbm_cohort, seuPreProcess)"
   ]
  },
  {
   "cell_type": "code",
   "execution_count": null,
   "metadata": {
    "scrolled": true
   },
   "outputs": [],
   "source": [
    "# https://github.com/mckellardw/scMuscle/blob/main/R_scripts/scMuscle_github_v1.R\n",
    "\n",
    "bcmvn <- list()\n",
    "pK <- list()\n",
    "homotypic.prop <- list()\n",
    "nExp_poi <- list()\n",
    "nExp_poi.adj <- list()\n",
    "\n",
    "# Estimated Doublet Rate for each dataset\n",
    "edr <- estimateDoubletRate.DWM(seur.list = gbm_cohort)/100 #use your own known EDR here\n",
    "\n",
    "for(i in 1:length(gbm_cohort)){\n",
    "  cat(' ############################################\\n',\n",
    "      '### DoubletFinder for dataset number ', i, '###\\n',\n",
    "      '############################################\\n')\n",
    "  \n",
    "  ## pK Identification (no ground-truth)\n",
    "  bcmvn[[i]]<- paramSweep_v3(\n",
    "    seu=gbm_cohort[[i]],\n",
    "    PCs = 1:gbm_cohort[[i]]@reductions$umap_RNA@misc$n.pcs.used, \n",
    "    num.cores = 4\n",
    "  ) %>% summarizeSweep(\n",
    "    GT = FALSE\n",
    "  ) %>% find.pK() \n",
    "  \n",
    "  # Pull out max of bcmvn\n",
    "  pK[[i]] <- as.numeric(as.character(bcmvn[[i]]$pK[bcmvn[[i]]$BCmetric==max(bcmvn[[i]]$BCmetric)])) # ugly, but functional...\n",
    "  \n",
    "  ## Homotypic Doublet Proportion Estimate\n",
    "  homotypic.prop[[i]] <- modelHomotypic(gbm_cohort[[i]]$seurat_clusters) \n",
    "  \n",
    "  nExp_poi[[i]] <- round(edr[[i]]*length(colnames(gbm_cohort[[i]])))  \n",
    "  nExp_poi.adj[[i]] <- round(nExp_poi[[i]]*(1-homotypic.prop[[i]]))\n",
    "}"
   ]
  },
  {
   "cell_type": "code",
   "execution_count": null,
   "metadata": {
    "scrolled": true
   },
   "outputs": [],
   "source": [
    "# Run DoubletFinder\n",
    "for(i in 1:length(gbm_cohort)){\n",
    "  gbm_cohort[[i]] <- \n",
    "    doubletFinder_V3.DWM_v2( # just changed it so the output metadata column name is customizable\n",
    "      seu=gbm_cohort[[i]], \n",
    "      PCs = 1:gbm_cohort[[i]]@reductions$umap_RNA@misc$n.pcs.used, \n",
    "      pN = 0.25, #default value\n",
    "      pK= pK[[i]], \n",
    "      nExp = nExp_poi.adj[[i]],  \n",
    "      reuse.pANN = F, \n",
    "      classification.name='DF.individual', \n",
    "      pANN.name='DF.pANN.individual'\n",
    "    )\n",
    "}"
   ]
  },
  {
   "cell_type": "code",
   "execution_count": null,
   "metadata": {
    "scrolled": true
   },
   "outputs": [],
   "source": [
    "Ruiz2021_final <- merge(gbm_cohort[[1]], y = unlist(gbm_cohort[2:length(gbm_cohort)]), \n",
    "             add.cell.ids = labels, project = \"gbm_cohort\", merge.data = T)"
   ]
  },
  {
   "cell_type": "code",
   "execution_count": null,
   "metadata": {},
   "outputs": [],
   "source": [
    "# filter doublets\n",
    "Ruiz2021_final <- subset(Ruiz2021_final, subset = DF.individual == 'Singlet')"
   ]
  },
  {
   "cell_type": "code",
   "execution_count": null,
   "metadata": {
    "cell_style": "center"
   },
   "outputs": [],
   "source": [
    "Ruiz2021_clinical <- subset(as.data.frame(readxl::read_excel('/hpc/pmc_stunnenberg/cruiz/scRNA/analysis/gbm/deep_sequencing/notebooks/singlets-per-sample/sample_metadata.xlsx')), \n",
    "                               select = -c(Diagnosis, `Pathology comments`)) %>% `rownames<-`(NULL)\n",
    "Ruiz2021_clinical$Age <- as.numeric(Ruiz2021_clinical$Age)"
   ]
  },
  {
   "cell_type": "code",
   "execution_count": null,
   "metadata": {},
   "outputs": [],
   "source": [
    "Ruiz2021_meta <- as.data.frame(data.table::fread('/hpc/pmc_stunnenberg/cruiz/scRNA/analysis/gbm/deep_sequencing/notebooks/cell_annotation.csv'))\n",
    "Ruiz2021_meta$Cell <- gsub('NH16_', 'NH16-', Ruiz2021_meta$Cell) # change characters to match cell names\n",
    "Ruiz2021_meta$Patient <- gsub('NH16_', 'NH16-', Ruiz2021_meta$Patient) # change characters to match cell names\n",
    "Ruiz2021_meta$Cell <- gsub('NH17_', 'NH17-', Ruiz2021_meta$Cell) # change characters to match cell names\n",
    "Ruiz2021_meta$Patient <- gsub('NH17_', 'NH17-', Ruiz2021_meta$Patient) # change characters to match cell names\n",
    "Ruiz2021_meta$Cell <- gsub('NH18_', 'NH18-', Ruiz2021_meta$Cell) # change characters to match cell names\n",
    "Ruiz2021_meta$Patient <- gsub('NH18_', 'NH18-', Ruiz2021_meta$Patient) # change characters to match cell names\n",
    "Ruiz2021_meta$Cell <- gsub('NH19_', 'NH19-', Ruiz2021_meta$Cell) # change characters to match cell names\n",
    "Ruiz2021_meta$Patient <- gsub('NH19_', 'NH19-', Ruiz2021_meta$Patient) # change characters to match cell names"
   ]
  },
  {
   "cell_type": "code",
   "execution_count": null,
   "metadata": {
    "cell_style": "split",
    "scrolled": true
   },
   "outputs": [],
   "source": [
    "Ruiz2021_meta <- merge(Ruiz2021_meta, Ruiz2021_clinical, by= \"Patient\")\n",
    "Ruiz2021_meta$Cell <- paste0(Ruiz2021_meta$Cell, '-1')"
   ]
  },
  {
   "cell_type": "code",
   "execution_count": null,
   "metadata": {},
   "outputs": [],
   "source": [
    "# to include the other good quality cells even they do not have annotated cell type metadata\n",
    "\n",
    "meta_tmp <- data.frame(Cell = colnames(Ruiz2021_final), Patient = Ruiz2021_final@meta.data$orig.ident)"
   ]
  },
  {
   "cell_type": "code",
   "execution_count": null,
   "metadata": {},
   "outputs": [],
   "source": [
    "Ruiz2021_meta <- list(Ruiz2021_meta, meta_tmp) %>% reduce(full_join) %>%\n",
    "        mutate(Method = 'nuclei', Platform = '10x_v3')"
   ]
  },
  {
   "cell_type": "code",
   "execution_count": null,
   "metadata": {
    "code_folding": [],
    "scrolled": true
   },
   "outputs": [],
   "source": [
    "Ruiz2021_matrix <- GetAssayData(Ruiz2021_final, slot = 'counts')[,colnames(Ruiz2021_final) %in% Ruiz2021_meta$Cell]"
   ]
  },
  {
   "cell_type": "code",
   "execution_count": null,
   "metadata": {
    "scrolled": true,
    "tags": []
   },
   "outputs": [],
   "source": [
    "gene.names <- checkGeneSymbols(rownames(Ruiz2021_matrix), unmapped.as.na=FALSE)\n",
    "rownames(Ruiz2021_matrix) <- make.unique(gene.names$Suggested.Symbol)"
   ]
  },
  {
   "cell_type": "markdown",
   "metadata": {},
   "source": [
    "## Merging metadata"
   ]
  },
  {
   "cell_type": "code",
   "execution_count": null,
   "metadata": {
    "cell_style": "split"
   },
   "outputs": [],
   "source": [
    "common_names <- intersect(rownames(Yuan2018_matrix), rownames(Neftel2019_10x_matrix))\n",
    "common_names <- intersect(rownames(Neftel2019_smart_matrix), common_names)\n",
    "common_names <- intersect(rownames(Wang2019_matrix), common_names)\n",
    "common_names <- intersect(rownames(Wang2020_matrix), common_names)\n",
    "common_names <- intersect(rownames(Zhao2020_matrix), common_names)\n",
    "common_names <- intersect(rownames(Bhaduri2020_matrix), common_names)\n",
    "common_names <- intersect(rownames(Yu2020_matrix), common_names)\n",
    "common_names <- intersect(rownames(Wu2020_matrix), common_names)\n",
    "common_names <- intersect(rownames(Couturier2020_matrix), common_names)\n",
    "common_names <- intersect(rownames(Johnson2020_matrix), common_names)\n",
    "common_names <- intersect(rownames(Richards2021_matrix), common_names)\n",
    "common_names <- intersect(rownames(Darmanis2017_matrix), common_names)\n",
    "common_names <- intersect(rownames(Sankowski2019_matrix), common_names)\n",
    "common_names <- intersect(rownames(Goswami2019_matrix), common_names)\n",
    "common_names <- intersect(rownames(Pombo2021_matrix), common_names)\n",
    "common_names <- intersect(rownames(Mathewson2021_matrix), common_names)\n",
    "common_names <- intersect(rownames(Ruiz2021_matrix), common_names)"
   ]
  },
  {
   "cell_type": "code",
   "execution_count": null,
   "metadata": {
    "cell_style": "split",
    "scrolled": true
   },
   "outputs": [],
   "source": [
    "cells_all <- cbind(Yuan2018_matrix[rownames(Yuan2018_matrix) %in% common_names,],\n",
    "                   Neftel2019_10x_matrix[rownames(Neftel2019_10x_matrix) %in% common_names,])                   \n",
    "cells_all <- cbind(cells_all, Neftel2019_smart_matrix[rownames(Neftel2019_smart_matrix) %in% common_names,])\n",
    "cells_all <- cbind(cells_all, Wang2019_matrix[rownames(Wang2019_matrix) %in% common_names,])\n",
    "cells_all <- cbind(cells_all, Wang2020_matrix[rownames(Wang2020_matrix) %in% common_names,])\n",
    "cells_all <- cbind(cells_all, Zhao2020_matrix[rownames(Zhao2020_matrix) %in% common_names,])\n",
    "cells_all <- cbind(cells_all, Bhaduri2020_matrix[rownames(Bhaduri2020_matrix) %in% common_names,])\n",
    "cells_all <- cbind(cells_all, Yu2020_matrix[rownames(Yu2020_matrix) %in% common_names,])\n",
    "cells_all <- cbind(cells_all, Wu2020_matrix[rownames(Wu2020_matrix) %in% common_names,])\n",
    "cells_all <- cbind(cells_all, Couturier2020_matrix[rownames(Couturier2020_matrix) %in% common_names,])\n",
    "cells_all <- cbind(cells_all, Johnson2020_matrix[rownames(Johnson2020_matrix) %in% common_names,])\n",
    "cells_all <- cbind(cells_all, Richards2021_matrix[rownames(Richards2021_matrix) %in% common_names,])\n",
    "cells_all <- cbind(cells_all, Darmanis2017_matrix[rownames(Darmanis2017_matrix) %in% common_names,])\n",
    "cells_all <- cbind(cells_all, Sankowski2019_matrix[rownames(Sankowski2019_matrix) %in% common_names,])\n",
    "cells_all <- cbind(cells_all, Goswami2019_matrix[rownames(Goswami2019_matrix) %in% common_names,])\n",
    "cells_all <- cbind(cells_all, Pombo2021_matrix[rownames(Pombo2021_matrix) %in% common_names,])\n",
    "cells_all <- cbind(cells_all, Mathewson2021_matrix[rownames(Mathewson2021_matrix) %in% common_names,])\n",
    "cells_all <- cbind(cells_all, Ruiz2021_matrix[rownames(Ruiz2021_matrix) %in% common_names,])"
   ]
  },
  {
   "cell_type": "code",
   "execution_count": null,
   "metadata": {},
   "outputs": [],
   "source": [
    "author <- c(rep('Yuan2018', length(colnames(Yuan2018_matrix))),\n",
    "              rep('Neftel2019_10x', length(colnames(Neftel2019_10x_matrix))),\n",
    "              rep('Neftel2019_smart', length(colnames(Neftel2019_smart_matrix))),\n",
    "              rep('Wang2019', length(colnames(Wang2019_matrix))),\n",
    "              rep('Wang2020', length(colnames(Wang2020_matrix))),\n",
    "              rep('Zhao2020', length(colnames(Zhao2020_matrix))),\n",
    "              rep('Bhaduri2020', length(colnames(Bhaduri2020_matrix))),\n",
    "              rep('Yu2020', length(colnames(Yu2020_matrix))),\n",
    "              rep('Wu2020', length(colnames(Wu2020_matrix))),\n",
    "              rep('Couturier2020', length(colnames(Couturier2020_matrix))),\n",
    "              rep('Johnson2020', length(colnames(Johnson2020_matrix))),\n",
    "              rep('Richards2021', length(colnames(Richards2021_matrix))),\n",
    "              rep('Darmanis2017', length(colnames(Darmanis2017_matrix))),\n",
    "              rep('Sankowski2019', length(colnames(Sankowski2019_matrix))),\n",
    "              rep('Goswami2019', length(colnames(Goswami2019_matrix))),\n",
    "              rep('Pombo2021', length(colnames(Pombo2021_matrix))),\n",
    "              rep('Mathewson2021', length(colnames(Mathewson2021_matrix))),\n",
    "              rep('Ruiz2021', length(colnames(Ruiz2021_matrix)))\n",
    "             )"
   ]
  },
  {
   "cell_type": "code",
   "execution_count": null,
   "metadata": {
    "scrolled": true
   },
   "outputs": [],
   "source": [
    "meta <- data.frame(Cell = colnames(cells_all), Author = author)"
   ]
  },
  {
   "cell_type": "code",
   "execution_count": null,
   "metadata": {
    "scrolled": true
   },
   "outputs": [],
   "source": [
    "meta_datasets <- list(Yuan2018_meta, Neftel2019_10x_meta,Neftel2019_smart_meta,Wang2019_meta,Wang2020_meta,\n",
    "                     Zhao2020_meta,Bhaduri2020_meta,Yu2020_meta,Wu2020_meta,Couturier2020_meta,Johnson2020_meta,\n",
    "                     Richards2021_meta,Darmanis2017_meta, Sankowski2019_meta,Goswami2019_meta, \n",
    "                      Pombo2021_meta, Mathewson2021_meta, Ruiz2021_meta) %>% reduce(full_join)"
   ]
  },
  {
   "cell_type": "code",
   "execution_count": null,
   "metadata": {
    "scrolled": true
   },
   "outputs": [],
   "source": [
    "meta_all <- list(meta, meta_datasets) %>% reduce(inner_join, by = 'Cell') %>% distinct(Cell, .keep_all = TRUE) %>% \n",
    "            column_to_rownames('Cell')"
   ]
  },
  {
   "cell_type": "code",
   "execution_count": null,
   "metadata": {},
   "outputs": [],
   "source": [
    "names(meta_all)[names(meta_all) == \"Author\"] <- \"author\"\n",
    "names(meta_all)[names(meta_all) == \"Celltype (malignancy)\"] <- \"celltype_malignant\"\n",
    "names(meta_all)[names(meta_all) == \"Celltype (major-lineage)\"] <- \"celltype_major\"\n",
    "names(meta_all)[names(meta_all) == \"Celltype (minor-lineage)\"] <- \"celltype_minor\"\n",
    "names(meta_all)[names(meta_all) == \"Sample\"] <- \"sample\"\n",
    "names(meta_all)[names(meta_all) == \"Patient\"] <- \"patient\"\n",
    "names(meta_all)[names(meta_all) == \"Celltype (original)\"] <- \"celltype_original\"\n",
    "names(meta_all)[names(meta_all) == \"Age\"] <- \"age\"\n",
    "names(meta_all)[names(meta_all) == \"Sex\"] <- \"gender\"\n",
    "names(meta_all)[names(meta_all) == \"Location\"] <- \"location\"\n",
    "names(meta_all)[names(meta_all) == \"Platform\"] <- \"platform\"\n",
    "names(meta_all)[names(meta_all) == \"Method\"] <- \"method\"\n",
    "names(meta_all)[names(meta_all) == \"Region\"] <- \"region\"\n",
    "names(meta_all)[names(meta_all) == \"Stage\"] <- \"stage\"\n",
    "names(meta_all)[names(meta_all) == \"1p19q\"] <- \"chr1p19q\""
   ]
  },
  {
   "cell_type": "code",
   "execution_count": null,
   "metadata": {
    "scrolled": true,
    "tags": []
   },
   "outputs": [],
   "source": [
    "meta_all$celltype_original = recode(meta_all$celltype_original, \n",
    "                                               Astocyte = \"Astrocyte\", \n",
    "                                               Astrocytes = 'Astrocyte',\n",
    "                                               b_cell = 'B cells',\n",
    "                                               dendritic_cell = 'DC',\n",
    "                                               differentiated_tumor = 'Differentiated tumor',\n",
    "                                               granulocyte = 'Granulocyte',\n",
    "                                               fibroblast = 'Fibroblast',\n",
    "                                               Endothelial_cell = 'Endothelial',\n",
    "                                               endothelial = \"Endothelial\", \n",
    "                                               Immune = 'Immune cell',\n",
    "                                               myeloid = 'Myeloid',\n",
    "                                               oligodendrocyte = 'Oligodendrocyte',\n",
    "                                               pericyte = 'Pericyte',\n",
    "                                               NormalBrain = 'Normal brain',\n",
    "                                               Oligodendrocytes = 'Oligodendrocyte',\n",
    "                                               prolif_stemcell_tumor = 'Prolif stemcell tumor',\n",
    "                                               stemcell_tumor = 'Stem cell tumor', \n",
    "                                               t_cell = 'T cells',\n",
    "                                               B = 'B cells',\n",
    "                                               Mast = 'Mast cells',\n",
    "                                               `NK cells` = 'NK',\n",
    "                                               `prol. TAM` = 'Proliferating TAM',\n",
    "                                               `Tcells 1` = 'T cells 1',\n",
    "                                               `Tcells 2` = 'T cells 2',\n",
    "                                               `Tcells 3` = 'T cells 3'\n",
    "                                   )\n",
    "\n",
    "meta_all$celltype_minor = recode(meta_all$celltype_minor, \n",
    "                                               Astocyte = \"Astrocyte\")\n",
    "\n",
    "meta_all$gender = recode(meta_all$gender, \n",
    "                         F = \"Female\", \n",
    "                         M = 'Male')\n",
    "meta_all$stage = recode(meta_all$stage, \n",
    "                         Recurrence = \"Recurrent\")\n",
    "\n",
    "meta_all[ , -which(names(meta_all) %in% c('IDH'))]\n",
    "\n",
    "meta_all <- meta_all %>% na_if(., 'NA')\n",
    "\n",
    "meta_all %>% lapply(table)"
   ]
  },
  {
   "cell_type": "markdown",
   "metadata": {},
   "source": [
    "## Output for Seurat"
   ]
  },
  {
   "cell_type": "markdown",
   "metadata": {},
   "source": [
    "List of individual Seurat files"
   ]
  },
  {
   "cell_type": "code",
   "execution_count": null,
   "metadata": {},
   "outputs": [],
   "source": [
    "gbm_matrix <- list(Yuan2018_matrix, Neftel2019_10x_matrix,Neftel2019_smart_matrix,Wang2019_matrix,Wang2020_matrix,\n",
    "                   Zhao2020_matrix,Bhaduri2020_matrix,Yu2020_matrix,Wu2020_matrix,Couturier2020_matrix,\n",
    "                   Johnson2020_matrix,Richards2021_matrix,Darmanis2017_matrix, Sankowski2019_matrix,Goswami2019_matrix,\n",
    "                   Pombo2021_matrix, Mathewson2021_matrix, Ruiz2021_matrix)\n",
    "studies <- c('Yuan2018', 'Neftel2019_10x', 'Neftel2019_smart', 'Wang2019','Wang2020', \n",
    "             'Zhao2020', 'Bhaduri2020', 'Yu2020','Wu2020','Couturier2020', \n",
    "             'Johnson2020', 'Richards2021', 'Darmanis2017', 'Sankowski2019', 'Goswami2019',\n",
    "             'Pombo2021', 'Mathewson2021', 'Ruiz2021')\n",
    "gbm_all <- list()\n",
    "\n",
    "for (i in 1:length(gbm_matrix)) {\n",
    "    seu_obj <- CreateSeuratObject(gbm_matrix[[i]], min.features = 0, min.cells = 0,\n",
    "                                  project = studies[i])\n",
    "    gbm_all <- append(gbm_all, seu_obj)\n",
    "}\n",
    "names(gbm_all) <- studies"
   ]
  },
  {
   "cell_type": "code",
   "execution_count": null,
   "metadata": {},
   "outputs": [],
   "source": [
    "format(object.size(gbm_all), units = \"Gb\")"
   ]
  },
  {
   "cell_type": "code",
   "execution_count": null,
   "metadata": {},
   "outputs": [],
   "source": [
    "saveRDS(gbm_all, 'data/core_GBmap_seuratobj_list.rds')"
   ]
  },
  {
   "cell_type": "markdown",
   "metadata": {},
   "source": [
    "## Output for scArches"
   ]
  },
  {
   "cell_type": "code",
   "execution_count": null,
   "metadata": {
    "scrolled": true
   },
   "outputs": [],
   "source": [
    "scarches <- merge(gbm_all[[1]], y = unlist(gbm_all[2:length(gbm_all)]), project = \"GBM\", merge.data = T)"
   ]
  },
  {
   "cell_type": "code",
   "execution_count": null,
   "metadata": {},
   "outputs": [],
   "source": [
    "# Output a logical vector for every gene on whether the more than zero counts per cell\n",
    "# Extract counts\n",
    "counts <- GetAssayData(object = scarches, slot = \"counts\") \n",
    "\n",
    "# Output a logical vector for every gene on whether the more than zero counts per cell\n",
    "nonzero <- counts > 0\n",
    "\n",
    "# Sums all TRUE values and returns TRUE if more than 100 TRUE values per gene\n",
    "keep_genes <- Matrix::rowSums(nonzero) >= 100\n",
    "\n",
    "# Only keeping those genes expressed in more than 100 cells\n",
    "filtered_counts <- counts[keep_genes, ]\n",
    "\n",
    "# Reassign to filtered Seurat object\n",
    "filtered_scarches <- CreateSeuratObject(filtered_counts)\n",
    "filtered_scarches\n",
    "format(object.size(filtered_scarches), units = \"Gb\")"
   ]
  },
  {
   "cell_type": "code",
   "execution_count": null,
   "metadata": {
    "scrolled": true
   },
   "outputs": [],
   "source": [
    "library(DropletUtils)\n",
    "mtx <- GetAssayData(object = filtered_scarches, slot = \"counts\") \n",
    "write10xCounts('data/core_GBmap_raw_counts.h5',\n",
    "  mtx,\n",
    "  barcodes = colnames(mtx),\n",
    "  gene.id = rownames(mtx),\n",
    "  gene.symbol = rownames(mtx),\n",
    "  gene.type = \"Gene Expression\",\n",
    "  overwrite = TRUE,\n",
    "  type = c(\"HDF5\"),\n",
    "  genome = \"unknown\",\n",
    "  version = c(\"3\"),\n",
    "  chemistry = NULL,\n",
    "  original.gem.groups = NULL,\n",
    "  library.ids = NULL)"
   ]
  },
  {
   "cell_type": "code",
   "execution_count": null,
   "metadata": {},
   "outputs": [],
   "source": [
    "write.table(meta_all,\n",
    "            'data/core_GBmap_metadata.csv',\n",
    "           row.names = TRUE, col.names = TRUE, quote = FALSE, sep = ',')"
   ]
  }
 ],
 "metadata": {
  "kernelspec": {
   "display_name": "R",
   "language": "R",
   "name": "ir"
  },
  "language_info": {
   "codemirror_mode": "r",
   "file_extension": ".r",
   "mimetype": "text/x-r-source",
   "name": "R",
   "pygments_lexer": "r",
   "version": "4.1.2"
  },
  "toc": {
   "base_numbering": 1,
   "nav_menu": {},
   "number_sections": true,
   "sideBar": false,
   "skip_h1_title": false,
   "title_cell": "Table of Contents",
   "title_sidebar": "Contents",
   "toc_cell": false,
   "toc_position": {
    "height": "483.672px",
    "left": "1228.38px",
    "top": "264.188px",
    "width": "328.516px"
   },
   "toc_section_display": true,
   "toc_window_display": true
  },
  "toc-autonumbering": false,
  "toc-showcode": false,
  "toc-showmarkdowntxt": false,
  "varInspector": {
   "cols": {
    "lenName": 16,
    "lenType": 16,
    "lenVar": 40
   },
   "kernels_config": {
    "python": {
     "delete_cmd_postfix": "",
     "delete_cmd_prefix": "del ",
     "library": "var_list.py",
     "varRefreshCmd": "print(var_dic_list())"
    },
    "r": {
     "delete_cmd_postfix": ") ",
     "delete_cmd_prefix": "rm(",
     "library": "var_list.r",
     "varRefreshCmd": "cat(var_dic_list()) "
    }
   },
   "types_to_exclude": [
    "module",
    "function",
    "builtin_function_or_method",
    "instance",
    "_Feature"
   ],
   "window_display": false
  }
 },
 "nbformat": 4,
 "nbformat_minor": 4
}
