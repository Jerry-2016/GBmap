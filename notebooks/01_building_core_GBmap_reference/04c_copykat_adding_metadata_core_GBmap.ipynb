{
 "cells": [
  {
   "cell_type": "markdown",
   "id": "dfdace2c-6d8c-4a53-869b-b6b57618c36e",
   "metadata": {},
   "source": [
    "R environment"
   ]
  },
  {
   "cell_type": "code",
   "execution_count": null,
   "id": "0deca340",
   "metadata": {
    "collapsed": true,
    "jupyter": {
     "outputs_hidden": true
    },
    "scrolled": true,
    "tags": []
   },
   "outputs": [
    {
     "name": "stderr",
     "output_type": "stream",
     "text": [
      "Attaching SeuratObject\n",
      "\n",
      "\n",
      "Attaching package: ‘dplyr’\n",
      "\n",
      "\n",
      "The following objects are masked from ‘package:stats’:\n",
      "\n",
      "    filter, lag\n",
      "\n",
      "\n",
      "The following objects are masked from ‘package:base’:\n",
      "\n",
      "    intersect, setdiff, setequal, union\n",
      "\n",
      "\n",
      "\n",
      "Attaching package: ‘patchwork’\n",
      "\n",
      "\n",
      "The following object is masked from ‘package:cowplot’:\n",
      "\n",
      "    align_plots\n",
      "\n",
      "\n"
     ]
    },
    {
     "data": {
      "text/plain": [
       "R version 4.0.3 (2020-10-10)\n",
       "Platform: x86_64-conda-linux-gnu (64-bit)\n",
       "Running under: CentOS Linux 7 (Core)\n",
       "\n",
       "Matrix products: default\n",
       "BLAS/LAPACK: /hpc/pmc_stunnenberg/cruiz/miniconda3/envs/r_pHGG_project/lib/libopenblasp-r0.3.12.so\n",
       "\n",
       "locale:\n",
       " [1] LC_CTYPE=en_US.UTF-8       LC_NUMERIC=C              \n",
       " [3] LC_TIME=en_US.UTF-8        LC_COLLATE=en_US.UTF-8    \n",
       " [5] LC_MONETARY=en_US.UTF-8    LC_MESSAGES=en_US.UTF-8   \n",
       " [7] LC_PAPER=en_US.UTF-8       LC_NAME=C                 \n",
       " [9] LC_ADDRESS=C               LC_TELEPHONE=C            \n",
       "[11] LC_MEASUREMENT=en_US.UTF-8 LC_IDENTIFICATION=C       \n",
       "\n",
       "attached base packages:\n",
       "[1] stats     graphics  grDevices utils     datasets  methods   base     \n",
       "\n",
       "other attached packages:\n",
       "[1] future_1.21.0      patchwork_1.1.1    copykat_1.0.4      ggplot2_3.3.3     \n",
       "[5] cowplot_1.1.1      dplyr_1.0.6        SeuratObject_4.0.1 Seurat_4.0.1.9005 \n",
       "\n",
       "loaded via a namespace (and not attached):\n",
       "  [1] nlme_3.1-152          spatstat.sparse_2.0-0 matrixStats_0.58.0   \n",
       "  [4] RcppAnnoy_0.0.18      RColorBrewer_1.1-2    httr_1.4.2           \n",
       "  [7] repr_1.1.3            sctransform_0.3.2     tools_4.0.3          \n",
       " [10] utf8_1.2.1            R6_2.5.0              irlba_2.3.3          \n",
       " [13] rpart_4.1-15          KernSmooth_2.23-20    uwot_0.1.10          \n",
       " [16] mgcv_1.8-35           DBI_1.1.1             lazyeval_0.2.2       \n",
       " [19] colorspace_2.0-1      withr_2.4.2           tidyselect_1.1.1     \n",
       " [22] gridExtra_2.3         compiler_4.0.3        plotly_4.9.3         \n",
       " [25] scales_1.1.1          spatstat.data_2.1-0   lmtest_0.9-38        \n",
       " [28] ggridges_0.5.3        pbapply_1.4-3         goftest_1.2-2        \n",
       " [31] pbdZMQ_0.3-5          stringr_1.4.0         digest_0.6.27        \n",
       " [34] spatstat.utils_2.1-0  base64enc_0.1-3       pkgconfig_2.0.3      \n",
       " [37] htmltools_0.5.1.1     parallelly_1.25.0     fastmap_1.1.0        \n",
       " [40] htmlwidgets_1.5.3     rlang_0.4.11          shiny_1.6.0          \n",
       " [43] generics_0.1.0        zoo_1.8-9             jsonlite_1.7.2       \n",
       " [46] ica_1.0-2             magrittr_2.0.1        Matrix_1.3-3         \n",
       " [49] Rcpp_1.0.6            IRkernel_1.1.1        munsell_0.5.0        \n",
       " [52] fansi_0.4.2           abind_1.4-5           reticulate_1.19      \n",
       " [55] lifecycle_1.0.0       stringi_1.5.3         MASS_7.3-54          \n",
       " [58] Rtsne_0.15            plyr_1.8.6            grid_4.0.3           \n",
       " [61] parallel_4.0.3        listenv_0.8.0         promises_1.2.0.1     \n",
       " [64] ggrepel_0.9.1         crayon_1.4.1          deldir_0.2-10        \n",
       " [67] miniUI_0.1.1.1        lattice_0.20-44       IRdisplay_1.0        \n",
       " [70] splines_4.0.3         tensor_1.5            pillar_1.6.0         \n",
       " [73] igraph_1.2.6          uuid_0.1-4            spatstat.geom_2.1-0  \n",
       " [76] future.apply_1.7.0    reshape2_1.4.4        codetools_0.2-18     \n",
       " [79] leiden_0.3.7          glue_1.4.2            evaluate_0.14        \n",
       " [82] data.table_1.14.0     vctrs_0.3.8           png_0.1-7            \n",
       " [85] httpuv_1.6.0          polyclip_1.10-0       spatstat.core_2.1-2  \n",
       " [88] gtable_0.3.0          RANN_2.6.1            purrr_0.3.4          \n",
       " [91] tidyr_1.1.3           scattermore_0.7       assertthat_0.2.1     \n",
       " [94] mime_0.10             xtable_1.8-4          later_1.2.0          \n",
       " [97] survival_3.2-11       viridisLite_0.4.0     tibble_3.1.1         \n",
       "[100] cluster_2.1.2         globals_0.14.0        fitdistrplus_1.1-3   \n",
       "[103] ellipsis_0.3.2        ROCR_1.0-11          "
      ]
     },
     "metadata": {},
     "output_type": "display_data"
    }
   ],
   "source": [
    "library(Seurat)\n",
    "library(dplyr)\n",
    "library(cowplot)\n",
    "library(ggplot2)\n",
    "library(copykat)\n",
    "library(patchwork)\n",
    "library(future)\n",
    "source(\"modified_copykat.R\")\n",
    "plan(\"multiprocess\", workers = 12)\n",
    "options(future.globals.maxSize = 10000 * 1024^10,\n",
    "        future.rng.onMisuse = 'ignore')\n",
    "sessionInfo()"
   ]
  },
  {
   "cell_type": "markdown",
   "id": "6e307810",
   "metadata": {},
   "source": [
    "### Extract metadata to be added on the trained model"
   ]
  },
  {
   "cell_type": "code",
   "execution_count": null,
   "id": "a3afee4c",
   "metadata": {
    "tags": []
   },
   "outputs": [],
   "source": [
    "cnv_1 <- readRDS('data/copykat_ref_normal_cells_part_I.rds')\n",
    "cnv_2 <- readRDS('data/copykat_ref_normal_cells_part_II.rds')"
   ]
  },
  {
   "cell_type": "code",
   "execution_count": null,
   "id": "767e99a5",
   "metadata": {},
   "outputs": [
    {
     "data": {
      "text/html": [
       "<style>\n",
       ".list-inline {list-style: none; margin:0; padding: 0}\n",
       ".list-inline>li {display: inline-block}\n",
       ".list-inline>li:not(:last-child)::after {content: \"\\00b7\"; padding: 0 .5ex}\n",
       "</style>\n",
       "<ol class=list-inline><li>'NH16-2366'</li><li>'NH17-1245'</li><li>'NH17-1258'</li><li>'NH17-161'</li><li>'NH17-1953'</li><li>'NH17-2069'</li><li>'NH17-2680'</li><li>'NH17-442'</li><li>'NH18-1406'</li><li>'NH19-123'</li><li>'NH19-565'</li></ol>\n"
      ],
      "text/latex": [
       "\\begin{enumerate*}\n",
       "\\item 'NH16-2366'\n",
       "\\item 'NH17-1245'\n",
       "\\item 'NH17-1258'\n",
       "\\item 'NH17-161'\n",
       "\\item 'NH17-1953'\n",
       "\\item 'NH17-2069'\n",
       "\\item 'NH17-2680'\n",
       "\\item 'NH17-442'\n",
       "\\item 'NH18-1406'\n",
       "\\item 'NH19-123'\n",
       "\\item 'NH19-565'\n",
       "\\end{enumerate*}\n"
      ],
      "text/markdown": [
       "1. 'NH16-2366'\n",
       "2. 'NH17-1245'\n",
       "3. 'NH17-1258'\n",
       "4. 'NH17-161'\n",
       "5. 'NH17-1953'\n",
       "6. 'NH17-2069'\n",
       "7. 'NH17-2680'\n",
       "8. 'NH17-442'\n",
       "9. 'NH18-1406'\n",
       "10. 'NH19-123'\n",
       "11. 'NH19-565'\n",
       "\n",
       "\n"
      ],
      "text/plain": [
       " [1] \"NH16-2366\" \"NH17-1245\" \"NH17-1258\" \"NH17-161\"  \"NH17-1953\" \"NH17-2069\"\n",
       " [7] \"NH17-2680\" \"NH17-442\"  \"NH18-1406\" \"NH19-123\"  \"NH19-565\" "
      ]
     },
     "metadata": {},
     "output_type": "display_data"
    }
   ],
   "source": [
    "our.names <- grep('NH', names(cnv_2), value = TRUE)\n",
    "our.names"
   ]
  },
  {
   "cell_type": "code",
   "execution_count": null,
   "id": "b2f8ff5f",
   "metadata": {
    "scrolled": true,
    "tags": []
   },
   "outputs": [
    {
     "data": {
      "text/plain": [
       "$`NH16-2366`\n",
       "An object of class Seurat \n",
       "36498 features across 1872 samples within 1 assay \n",
       "Active assay: RNA (36498 features, 0 variable features)\n",
       "\n",
       "$`NH17-1245`\n",
       "An object of class Seurat \n",
       "36498 features across 880 samples within 1 assay \n",
       "Active assay: RNA (36498 features, 0 variable features)\n",
       "\n",
       "$`NH17-1258`\n",
       "An object of class Seurat \n",
       "36498 features across 3521 samples within 1 assay \n",
       "Active assay: RNA (36498 features, 0 variable features)\n",
       "\n",
       "$`NH17-161`\n",
       "An object of class Seurat \n",
       "36498 features across 4357 samples within 1 assay \n",
       "Active assay: RNA (36498 features, 0 variable features)\n",
       "\n",
       "$`NH17-1953`\n",
       "An object of class Seurat \n",
       "36498 features across 3400 samples within 1 assay \n",
       "Active assay: RNA (36498 features, 0 variable features)\n",
       "\n",
       "$`NH17-2069`\n",
       "An object of class Seurat \n",
       "36498 features across 3509 samples within 1 assay \n",
       "Active assay: RNA (36498 features, 0 variable features)\n",
       "\n",
       "$`NH17-2680`\n",
       "An object of class Seurat \n",
       "36498 features across 3549 samples within 1 assay \n",
       "Active assay: RNA (36498 features, 0 variable features)\n",
       "\n",
       "$`NH17-442`\n",
       "An object of class Seurat \n",
       "36498 features across 5675 samples within 1 assay \n",
       "Active assay: RNA (36498 features, 0 variable features)\n",
       "\n",
       "$`NH18-1406`\n",
       "An object of class Seurat \n",
       "36498 features across 3939 samples within 1 assay \n",
       "Active assay: RNA (36498 features, 0 variable features)\n",
       "\n",
       "$`NH19-123`\n",
       "An object of class Seurat \n",
       "36498 features across 2979 samples within 1 assay \n",
       "Active assay: RNA (36498 features, 0 variable features)\n",
       "\n",
       "$`NH19-565`\n",
       "An object of class Seurat \n",
       "36498 features across 5674 samples within 1 assay \n",
       "Active assay: RNA (36498 features, 0 variable features)\n"
      ]
     },
     "metadata": {},
     "output_type": "display_data"
    }
   ],
   "source": [
    "our <- cnv_2[our.names]\n",
    "our"
   ]
  },
  {
   "cell_type": "code",
   "execution_count": null,
   "id": "464528e8",
   "metadata": {
    "scrolled": true,
    "tags": []
   },
   "outputs": [
    {
     "data": {
      "text/plain": [
       "$SM006\n",
       "An object of class Seurat \n",
       "36498 features across 5805 samples within 1 assay \n",
       "Active assay: RNA (36498 features, 0 variable features)\n",
       "\n",
       "$SM011\n",
       "An object of class Seurat \n",
       "36498 features across 5453 samples within 1 assay \n",
       "Active assay: RNA (36498 features, 0 variable features)\n",
       "\n",
       "$SM012\n",
       "An object of class Seurat \n",
       "36498 features across 6890 samples within 1 assay \n",
       "Active assay: RNA (36498 features, 0 variable features)\n",
       "\n",
       "$SM017\n",
       "An object of class Seurat \n",
       "36498 features across 8116 samples within 1 assay \n",
       "Active assay: RNA (36498 features, 0 variable features)\n",
       "\n",
       "$SM018\n",
       "An object of class Seurat \n",
       "36498 features across 2970 samples within 1 assay \n",
       "Active assay: RNA (36498 features, 0 variable features)\n",
       "\n",
       "$G1003\n",
       "An object of class Seurat \n",
       "36498 features across 9376 samples within 1 assay \n",
       "Active assay: RNA (36498 features, 0 variable features)\n",
       "\n",
       "$G523\n",
       "An object of class Seurat \n",
       "36498 features across 5558 samples within 1 assay \n",
       "Active assay: RNA (36498 features, 0 variable features)\n",
       "\n",
       "$G549\n",
       "An object of class Seurat \n",
       "36498 features across 4964 samples within 1 assay \n",
       "Active assay: RNA (36498 features, 0 variable features)\n",
       "\n",
       "$G566\n",
       "An object of class Seurat \n",
       "36498 features across 3983 samples within 1 assay \n",
       "Active assay: RNA (36498 features, 0 variable features)\n",
       "\n",
       "$G583\n",
       "An object of class Seurat \n",
       "36498 features across 5134 samples within 1 assay \n",
       "Active assay: RNA (36498 features, 0 variable features)\n",
       "\n",
       "$G620\n",
       "An object of class Seurat \n",
       "36498 features across 867 samples within 1 assay \n",
       "Active assay: RNA (36498 features, 0 variable features)\n",
       "\n",
       "$G637\n",
       "An object of class Seurat \n",
       "36498 features across 3342 samples within 1 assay \n",
       "Active assay: RNA (36498 features, 0 variable features)\n",
       "\n",
       "$G729\n",
       "An object of class Seurat \n",
       "36498 features across 4969 samples within 1 assay \n",
       "Active assay: RNA (36498 features, 0 variable features)\n",
       "\n",
       "$G797\n",
       "An object of class Seurat \n",
       "36498 features across 1174 samples within 1 assay \n",
       "Active assay: RNA (36498 features, 0 variable features)\n",
       "\n",
       "$G799\n",
       "An object of class Seurat \n",
       "36498 features across 5709 samples within 1 assay \n",
       "Active assay: RNA (36498 features, 0 variable features)\n",
       "\n",
       "$G837\n",
       "An object of class Seurat \n",
       "36498 features across 1373 samples within 1 assay \n",
       "Active assay: RNA (36498 features, 0 variable features)\n",
       "\n",
       "$G851\n",
       "An object of class Seurat \n",
       "36498 features across 2487 samples within 1 assay \n",
       "Active assay: RNA (36498 features, 0 variable features)\n",
       "\n",
       "$G910\n",
       "An object of class Seurat \n",
       "36498 features across 6965 samples within 1 assay \n",
       "Active assay: RNA (36498 features, 0 variable features)\n",
       "\n",
       "$G945\n",
       "An object of class Seurat \n",
       "36498 features across 3219 samples within 1 assay \n",
       "Active assay: RNA (36498 features, 0 variable features)\n",
       "\n",
       "$G946\n",
       "An object of class Seurat \n",
       "36498 features across 3323 samples within 1 assay \n",
       "Active assay: RNA (36498 features, 0 variable features)\n",
       "\n",
       "$G967\n",
       "An object of class Seurat \n",
       "36498 features across 10858 samples within 1 assay \n",
       "Active assay: RNA (36498 features, 0 variable features)\n",
       "\n",
       "$G983\n",
       "An object of class Seurat \n",
       "36498 features across 5877 samples within 1 assay \n",
       "Active assay: RNA (36498 features, 0 variable features)\n",
       "\n",
       "$BT_S2\n",
       "An object of class Seurat \n",
       "36498 features across 1156 samples within 1 assay \n",
       "Active assay: RNA (36498 features, 0 variable features)\n",
       "\n",
       "$BT_S1\n",
       "An object of class Seurat \n",
       "36498 features across 488 samples within 1 assay \n",
       "Active assay: RNA (36498 features, 0 variable features)\n",
       "\n",
       "$BT_S4\n",
       "An object of class Seurat \n",
       "36498 features across 1507 samples within 1 assay \n",
       "Active assay: RNA (36498 features, 0 variable features)\n",
       "\n",
       "$BT_S6\n",
       "An object of class Seurat \n",
       "36498 features across 382 samples within 1 assay \n",
       "Active assay: RNA (36498 features, 0 variable features)\n"
      ]
     },
     "metadata": {},
     "output_type": "display_data"
    }
   ],
   "source": [
    "# extract the information from our own GB cohort\n",
    "cnv_2 <- cnv_2[names(cnv_2) %in% our.names == FALSE] # exclude samples from our own cohort\n",
    "cnv_2"
   ]
  },
  {
   "cell_type": "code",
   "execution_count": null,
   "id": "4f89ebc8",
   "metadata": {},
   "outputs": [],
   "source": [
    "gbm_1 <- merge(cnv_1[[1]], y = unlist(cnv_1[2:length(cnv_1)]), project = \"GBM\", merge.data = T)\n",
    "gbm_2 <- merge(cnv_2[[1]], y = unlist(cnv_2[2:length(cnv_2)]), project = \"GBM\", merge.data = T)\n",
    "gbm <- merge(gbm_1, y = gbm_2, project = \"GBM\", merge.data = T)"
   ]
  },
  {
   "cell_type": "code",
   "execution_count": null,
   "id": "8c417c5c",
   "metadata": {},
   "outputs": [
    {
     "data": {
      "text/plain": [
       "An object of class Seurat \n",
       "36498 features across 279753 samples within 1 assay \n",
       "Active assay: RNA (36498 features, 0 variable features)"
      ]
     },
     "metadata": {},
     "output_type": "display_data"
    }
   ],
   "source": [
    "gbm"
   ]
  },
  {
   "cell_type": "code",
   "execution_count": null,
   "id": "40989da6",
   "metadata": {
    "scrolled": true,
    "tags": []
   },
   "outputs": [
    {
     "data": {
      "text/plain": [
       "$Yuan2018\n",
       "An object of class Seurat \n",
       "28951 features across 12202 samples within 1 assay \n",
       "Active assay: RNA (28951 features, 0 variable features)\n",
       "\n",
       "$Neftel2019_10x\n",
       "An object of class Seurat \n",
       "22966 features across 13288 samples within 1 assay \n",
       "Active assay: RNA (22966 features, 0 variable features)\n",
       "\n",
       "$Neftel2019_smart\n",
       "An object of class Seurat \n",
       "21718 features across 5742 samples within 1 assay \n",
       "Active assay: RNA (21718 features, 0 variable features)\n",
       "\n",
       "$Wang2019\n",
       "An object of class Seurat \n",
       "38129 features across 23531 samples within 1 assay \n",
       "Active assay: RNA (38129 features, 0 variable features)\n",
       "\n",
       "$Wang2020\n",
       "An object of class Seurat \n",
       "17566 features across 12437 samples within 1 assay \n",
       "Active assay: RNA (17566 features, 0 variable features)\n",
       "\n",
       "$Zhao2020\n",
       "An object of class Seurat \n",
       "18774 features across 5182 samples within 1 assay \n",
       "Active assay: RNA (18774 features, 0 variable features)\n",
       "\n",
       "$Bhaduri2020\n",
       "An object of class Seurat \n",
       "22183 features across 14934 samples within 1 assay \n",
       "Active assay: RNA (22183 features, 0 variable features)\n",
       "\n",
       "$Yu2020\n",
       "An object of class Seurat \n",
       "22255 features across 4693 samples within 1 assay \n",
       "Active assay: RNA (22255 features, 0 variable features)\n",
       "\n",
       "$Wu2020\n",
       "An object of class Seurat \n",
       "25439 features across 10211 samples within 1 assay \n",
       "Active assay: RNA (25439 features, 0 variable features)\n",
       "\n",
       "$Couturier2020\n",
       "An object of class Seurat \n",
       "24019 features across 65588 samples within 1 assay \n",
       "Active assay: RNA (24019 features, 0 variable features)\n",
       "\n",
       "$Johnson2020\n",
       "An object of class Seurat \n",
       "22964 features across 29234 samples within 1 assay \n",
       "Active assay: RNA (22964 features, 0 variable features)\n",
       "\n",
       "$Richards2021\n",
       "An object of class Seurat \n",
       "20586 features across 79178 samples within 1 assay \n",
       "Active assay: RNA (20586 features, 0 variable features)\n",
       "\n",
       "$Darmanis2017\n",
       "An object of class Seurat \n",
       "19894 features across 3533 samples within 1 assay \n",
       "Active assay: RNA (19894 features, 0 variable features)\n",
       "\n",
       "$Sankowski2019\n",
       "An object of class Seurat \n",
       "14398 features across 2139 samples within 1 assay \n",
       "Active assay: RNA (14398 features, 0 variable features)\n",
       "\n",
       "$Goswami2019\n",
       "An object of class Seurat \n",
       "14083 features across 5997 samples within 1 assay \n",
       "Active assay: RNA (14083 features, 0 variable features)\n",
       "\n",
       "$Pombo2021\n",
       "An object of class Seurat \n",
       "18370 features across 79981 samples within 1 assay \n",
       "Active assay: RNA (18370 features, 0 variable features)\n",
       "\n",
       "$Mathewson2021\n",
       "An object of class Seurat \n",
       "16270 features across 24310 samples within 1 assay \n",
       "Active assay: RNA (16270 features, 0 variable features)\n",
       "\n",
       "$Ruiz2021\n",
       "An object of class Seurat \n",
       "27102 features across 39355 samples within 1 assay \n",
       "Active assay: RNA (27102 features, 0 variable features)\n"
      ]
     },
     "metadata": {},
     "output_type": "display_data"
    }
   ],
   "source": [
    "gbm_all <- readRDS('data/core_GBmap_seuratobj_list.rds')\n",
    "gbm_all"
   ]
  },
  {
   "cell_type": "code",
   "execution_count": null,
   "id": "b4c34c25",
   "metadata": {},
   "outputs": [
    {
     "data": {
      "text/plain": [
       "$Sankowski2019\n",
       "An object of class Seurat \n",
       "14398 features across 2139 samples within 1 assay \n",
       "Active assay: RNA (14398 features, 0 variable features)\n",
       "\n",
       "$Goswami2019\n",
       "An object of class Seurat \n",
       "14083 features across 5997 samples within 1 assay \n",
       "Active assay: RNA (14083 features, 0 variable features)\n",
       "\n",
       "$Pombo2021\n",
       "An object of class Seurat \n",
       "18370 features across 79981 samples within 1 assay \n",
       "Active assay: RNA (18370 features, 0 variable features)\n",
       "\n",
       "$Mathewson2021\n",
       "An object of class Seurat \n",
       "16270 features across 24310 samples within 1 assay \n",
       "Active assay: RNA (16270 features, 0 variable features)\n"
      ]
     },
     "metadata": {},
     "output_type": "display_data"
    }
   ],
   "source": [
    "immune <- gbm_all[names(gbm_all) %in% c('Sankowski2019','Goswami2019','Pombo2021','Mathewson2021')] \n",
    "immune"
   ]
  },
  {
   "cell_type": "code",
   "execution_count": null,
   "id": "a789709b",
   "metadata": {},
   "outputs": [],
   "source": [
    "# annotate all immune cells as diploid cells\n",
    "immune <- merge(immune[[1]], y = unlist(immune[2:length(immune)]), project = \"GBM\", merge.data = T)\n",
    "immune$predCNA <- 'diploid'"
   ]
  },
  {
   "cell_type": "code",
   "execution_count": null,
   "id": "d0df02c2",
   "metadata": {},
   "outputs": [
    {
     "data": {
      "text/plain": [
       "An object of class Seurat \n",
       "36498 features across 39355 samples within 1 assay \n",
       "Active assay: RNA (36498 features, 0 variable features)"
      ]
     },
     "metadata": {},
     "output_type": "display_data"
    }
   ],
   "source": [
    "our.merged <- merge(our[[1]], y = unlist(our[2:length(our)]), project = \"GBM\", merge.data = T)\n",
    "our.merged"
   ]
  },
  {
   "cell_type": "code",
   "execution_count": null,
   "id": "8d3c6be9",
   "metadata": {},
   "outputs": [
    {
     "data": {
      "text/plain": [
       "An object of class Seurat \n",
       "37559 features across 431535 samples within 1 assay \n",
       "Active assay: RNA (37559 features, 0 variable features)"
      ]
     },
     "metadata": {},
     "output_type": "display_data"
    }
   ],
   "source": [
    "gbm <- merge(gbm_1, y = c(gbm_2, immune, our.merged), project = \"GBM\", merge.data = T)\n",
    "gbm"
   ]
  },
  {
   "cell_type": "code",
   "execution_count": null,
   "id": "5a94b920-036d-41c6-b2a4-790a5c8b672d",
   "metadata": {},
   "outputs": [],
   "source": [
    "cnv <- data.frame(cnv_full_geneset = gbm@meta.data$predCNA)\n",
    "rownames(cnv) <- colnames(gbm)"
   ]
  },
  {
   "cell_type": "code",
   "execution_count": null,
   "id": "07b029ec",
   "metadata": {},
   "outputs": [],
   "source": [
    "write.table(cnv,\n",
    "            'data/core_GBmap_cnv_metadata.csv',\n",
    "           row.names = TRUE, col.names = TRUE, quote = FALSE, sep = ',')"
   ]
  }
 ],
 "metadata": {
  "kernelspec": {
   "display_name": "R",
   "language": "R",
   "name": "ir"
  },
  "language_info": {
   "codemirror_mode": "r",
   "file_extension": ".r",
   "mimetype": "text/x-r-source",
   "name": "R",
   "pygments_lexer": "r",
   "version": "4.1.2"
  }
 },
 "nbformat": 4,
 "nbformat_minor": 5
}
