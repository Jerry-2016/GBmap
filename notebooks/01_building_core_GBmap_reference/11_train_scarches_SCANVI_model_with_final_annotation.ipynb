{
 "cells": [
  {
   "cell_type": "markdown",
   "metadata": {},
   "source": [
    "Python environment"
   ]
  },
  {
   "cell_type": "code",
   "execution_count": null,
   "metadata": {},
   "outputs": [],
   "source": [
    "import warnings\n",
    "warnings.simplefilter(action='ignore', category=FutureWarning)\n",
    "warnings.simplefilter(action='ignore', category=UserWarning)"
   ]
  },
  {
   "cell_type": "code",
   "execution_count": null,
   "metadata": {},
   "outputs": [],
   "source": [
    "import scanpy as sc\n",
    "import torch\n",
    "import scarches as sca\n",
    "from scarches.dataset.trvae.data_handling import remove_sparsity\n",
    "import matplotlib.pyplot as plt\n",
    "import pandas as pd\n",
    "import numpy as np"
   ]
  },
  {
   "cell_type": "code",
   "execution_count": null,
   "metadata": {},
   "outputs": [],
   "source": [
    "sc.settings.n_jobs = 12"
   ]
  },
  {
   "cell_type": "code",
   "execution_count": null,
   "metadata": {
    "scrolled": true
   },
   "outputs": [
    {
     "name": "stdout",
     "output_type": "stream",
     "text": [
      "scanpy==1.8.2 anndata==0.7.5 umap==0.5.2 numpy==1.20.2 scipy==1.5.2 pandas==1.1.2 scikit-learn==0.23.2 statsmodels==0.12.0 python-igraph==0.9.1 pynndescent==0.5.6\n"
     ]
    }
   ],
   "source": [
    "sc.set_figure_params(dpi=100, dpi_save = 300, color_map = 'viridis')\n",
    "sc.settings.verbosity = 1\n",
    "sc.logging.print_header()\n",
    "plt.rcParams['pdf.fonttype'] = 42\n",
    "sc.settings.figdir = 'figures'"
   ]
  },
  {
   "cell_type": "code",
   "execution_count": null,
   "metadata": {},
   "outputs": [],
   "source": [
    "import matplotlib as mpl\n",
    "# https://github.com/theislab/scanpy/issues/1720\n",
    "mpl.rcParams['pdf.fonttype'] = 42\n",
    "mpl.rcParams['ps.fonttype'] = 42"
   ]
  },
  {
   "cell_type": "markdown",
   "metadata": {},
   "source": [
    "### Read pre-processed data"
   ]
  },
  {
   "cell_type": "code",
   "execution_count": null,
   "metadata": {},
   "outputs": [
    {
     "data": {
      "text/plain": [
       "AnnData object with n_obs × n_vars = 431535 × 36498\n",
       "    obs: 'author', 'patient', 'celltype_malignant', 'celltype_major', 'celltype_minor', 'gender', 'location', 'EGFR', 'platform', 'method', 'age', 'MET', 'p53', 'TERT', 'ATRX', 'PTEN', 'MGMT', 'sample', 'celltype_original', 'KI_67', 'region', 'Tissue', 'chr1p19q', 'stage', 'Verhaak_classification', 'PDGFR', 'gs_prediction', 'gs_prediction_main', 'gs_prediction_detailed', 'cnv_full_geneset', 'cnv_filtered_geneset', 'celltype_assigned'\n",
       "    var: 'gene_ids', 'feature_types', 'genome'"
      ]
     },
     "execution_count": 5,
     "metadata": {},
     "output_type": "execute_result"
    }
   ],
   "source": [
    "adata = sc.read('data/core_GBmap.h5ad')\n",
    "adata"
   ]
  },
  {
   "cell_type": "code",
   "execution_count": null,
   "metadata": {},
   "outputs": [],
   "source": [
    "adata.layers[\"counts\"] = adata.X.copy()"
   ]
  },
  {
   "cell_type": "code",
   "execution_count": null,
   "metadata": {},
   "outputs": [],
   "source": [
    "sc.pp.normalize_total(adata)\n",
    "sc.pp.log1p(adata)\n",
    "adata.raw = adata # keep full dimension safe\n",
    "sc.pp.highly_variable_genes(\n",
    "    adata,\n",
    "    n_top_genes=5000,\n",
    "    batch_key=\"author\",\n",
    "    layer=\"counts\",\n",
    "    subset=True)"
   ]
  },
  {
   "cell_type": "code",
   "execution_count": null,
   "metadata": {},
   "outputs": [],
   "source": [
    "### train the model including only samples that have used cells (not nuclei)\n",
    "source_adata = adata[adata.obs['method'].isin(['cell'])].copy()"
   ]
  },
  {
   "cell_type": "code",
   "execution_count": null,
   "metadata": {},
   "outputs": [],
   "source": [
    "source_adata.layers[\"counts\"] = source_adata.X.copy()"
   ]
  },
  {
   "cell_type": "code",
   "execution_count": null,
   "metadata": {},
   "outputs": [
    {
     "data": {
      "text/html": [
       "<div>\n",
       "<style scoped>\n",
       "    .dataframe tbody tr th:only-of-type {\n",
       "        vertical-align: middle;\n",
       "    }\n",
       "\n",
       "    .dataframe tbody tr th {\n",
       "        vertical-align: top;\n",
       "    }\n",
       "\n",
       "    .dataframe thead th {\n",
       "        text-align: right;\n",
       "    }\n",
       "</style>\n",
       "<table border=\"1\" class=\"dataframe\">\n",
       "  <thead>\n",
       "    <tr style=\"text-align: right;\">\n",
       "      <th></th>\n",
       "      <th>annotation_level_3</th>\n",
       "      <th>annotation_level_4</th>\n",
       "      <th>annotation_level_2</th>\n",
       "      <th>annotation_level_1</th>\n",
       "    </tr>\n",
       "  </thead>\n",
       "  <tbody>\n",
       "    <tr>\n",
       "      <th>PJ017_0</th>\n",
       "      <td>MES-like</td>\n",
       "      <td>MES-like hypoxia independent</td>\n",
       "      <td>Differentiated-like</td>\n",
       "      <td>Neoplastic</td>\n",
       "    </tr>\n",
       "    <tr>\n",
       "      <th>PJ017_1</th>\n",
       "      <td>OPC-like</td>\n",
       "      <td>OPC-like</td>\n",
       "      <td>Stem-like</td>\n",
       "      <td>Neoplastic</td>\n",
       "    </tr>\n",
       "    <tr>\n",
       "      <th>PJ017_2</th>\n",
       "      <td>TAM-BDM</td>\n",
       "      <td>TAM-BDM hypoxia/MES</td>\n",
       "      <td>Myeloid</td>\n",
       "      <td>Non-neoplastic</td>\n",
       "    </tr>\n",
       "    <tr>\n",
       "      <th>PJ017_3</th>\n",
       "      <td>MES-like</td>\n",
       "      <td>MES-like hypoxia independent</td>\n",
       "      <td>Differentiated-like</td>\n",
       "      <td>Neoplastic</td>\n",
       "    </tr>\n",
       "    <tr>\n",
       "      <th>PJ017_4</th>\n",
       "      <td>AC-like</td>\n",
       "      <td>AC-like</td>\n",
       "      <td>Differentiated-like</td>\n",
       "      <td>Neoplastic</td>\n",
       "    </tr>\n",
       "    <tr>\n",
       "      <th>...</th>\n",
       "      <td>...</td>\n",
       "      <td>...</td>\n",
       "      <td>...</td>\n",
       "      <td>...</td>\n",
       "    </tr>\n",
       "    <tr>\n",
       "      <th>E100_GEX_TTTGTCACATGCAATC-1</th>\n",
       "      <td>CD4/CD8</td>\n",
       "      <td>Stress sig</td>\n",
       "      <td>Lymphoid</td>\n",
       "      <td>Non-neoplastic</td>\n",
       "    </tr>\n",
       "    <tr>\n",
       "      <th>E100_GEX_TTTGTCAGTAGAGCTG-1</th>\n",
       "      <td>CD4/CD8</td>\n",
       "      <td>CD8 EM</td>\n",
       "      <td>Lymphoid</td>\n",
       "      <td>Non-neoplastic</td>\n",
       "    </tr>\n",
       "    <tr>\n",
       "      <th>E100_GEX_TTTGTCAGTATCGCAT-1</th>\n",
       "      <td>CD4/CD8</td>\n",
       "      <td>Stress sig</td>\n",
       "      <td>Lymphoid</td>\n",
       "      <td>Non-neoplastic</td>\n",
       "    </tr>\n",
       "    <tr>\n",
       "      <th>E100_GEX_TTTGTCATCTGTCTCG-1</th>\n",
       "      <td>CD4/CD8</td>\n",
       "      <td>CD8 EM</td>\n",
       "      <td>Lymphoid</td>\n",
       "      <td>Non-neoplastic</td>\n",
       "    </tr>\n",
       "    <tr>\n",
       "      <th>E100_GEX_TTTGTCATCTTTACGT-1</th>\n",
       "      <td>CD4/CD8</td>\n",
       "      <td>CD8 cytotoxic</td>\n",
       "      <td>Lymphoid</td>\n",
       "      <td>Non-neoplastic</td>\n",
       "    </tr>\n",
       "  </tbody>\n",
       "</table>\n",
       "<p>338564 rows × 4 columns</p>\n",
       "</div>"
      ],
      "text/plain": [
       "                            annotation_level_3            annotation_level_4  \\\n",
       "PJ017_0                               MES-like  MES-like hypoxia independent   \n",
       "PJ017_1                               OPC-like                      OPC-like   \n",
       "PJ017_2                                TAM-BDM           TAM-BDM hypoxia/MES   \n",
       "PJ017_3                               MES-like  MES-like hypoxia independent   \n",
       "PJ017_4                                AC-like                       AC-like   \n",
       "...                                        ...                           ...   \n",
       "E100_GEX_TTTGTCACATGCAATC-1            CD4/CD8                    Stress sig   \n",
       "E100_GEX_TTTGTCAGTAGAGCTG-1            CD4/CD8                        CD8 EM   \n",
       "E100_GEX_TTTGTCAGTATCGCAT-1            CD4/CD8                    Stress sig   \n",
       "E100_GEX_TTTGTCATCTGTCTCG-1            CD4/CD8                        CD8 EM   \n",
       "E100_GEX_TTTGTCATCTTTACGT-1            CD4/CD8                 CD8 cytotoxic   \n",
       "\n",
       "                              annotation_level_2 annotation_level_1  \n",
       "PJ017_0                      Differentiated-like         Neoplastic  \n",
       "PJ017_1                                Stem-like         Neoplastic  \n",
       "PJ017_2                                  Myeloid     Non-neoplastic  \n",
       "PJ017_3                      Differentiated-like         Neoplastic  \n",
       "PJ017_4                      Differentiated-like         Neoplastic  \n",
       "...                                          ...                ...  \n",
       "E100_GEX_TTTGTCACATGCAATC-1             Lymphoid     Non-neoplastic  \n",
       "E100_GEX_TTTGTCAGTAGAGCTG-1             Lymphoid     Non-neoplastic  \n",
       "E100_GEX_TTTGTCAGTATCGCAT-1             Lymphoid     Non-neoplastic  \n",
       "E100_GEX_TTTGTCATCTGTCTCG-1             Lymphoid     Non-neoplastic  \n",
       "E100_GEX_TTTGTCATCTTTACGT-1             Lymphoid     Non-neoplastic  \n",
       "\n",
       "[338564 rows x 4 columns]"
      ]
     },
     "execution_count": 16,
     "metadata": {},
     "output_type": "execute_result"
    }
   ],
   "source": [
    "metadata = pd.read_csv('data/final_annotation.csv', index_col=0)\n",
    "metadata"
   ]
  },
  {
   "cell_type": "code",
   "execution_count": null,
   "metadata": {},
   "outputs": [],
   "source": [
    "source_adata.obs['CellID'] = metadata['annotation_level_3'].values"
   ]
  },
  {
   "cell_type": "code",
   "execution_count": null,
   "metadata": {},
   "outputs": [
    {
     "name": "stderr",
     "output_type": "stream",
     "text": [
      "... storing 'author' as categorical\n",
      "... storing 'patient' as categorical\n",
      "... storing 'method' as categorical\n",
      "... storing 'CellID' as categorical\n",
      "... storing 'feature_types' as categorical\n",
      "... storing 'genome' as categorical\n",
      "/hpc/pmc_stunnenberg/cruiz/miniconda3/envs/scarches/lib/python3.7/site-packages/pandas/core/indexing.py:670: SettingWithCopyWarning: \n",
      "A value is trying to be set on a copy of a slice from a DataFrame\n",
      "\n",
      "See the caveats in the documentation: https://pandas.pydata.org/pandas-docs/stable/user_guide/indexing.html#returning-a-view-versus-a-copy\n",
      "  iloc._setitem_with_indexer(indexer, value)\n"
     ]
    }
   ],
   "source": [
    "sc.pp.normalize_total(source_adata)\n",
    "sc.pp.log1p(source_adata)\n",
    "source_adata.raw = source_adata # keep full dimension safe\n",
    "sc.pp.highly_variable_genes(\n",
    "    source_adata,\n",
    "    n_top_genes=5000,\n",
    "    batch_key=\"author\",\n",
    "    layer=\"counts\",\n",
    "    subset=True)"
   ]
  },
  {
   "cell_type": "markdown",
   "metadata": {},
   "source": [
    "### Set relevant anndata.obs labels and training length"
   ]
  },
  {
   "cell_type": "code",
   "execution_count": null,
   "metadata": {},
   "outputs": [],
   "source": [
    "condition_key = 'author'\n",
    "cell_type_key = 'CellID'\n",
    "\n",
    "vae_epochs = 500\n",
    "scanvi_epochs = 200\n",
    "surgery_epochs = 500\n",
    "\n",
    "early_stopping_kwargs = {\n",
    "    \"early_stopping_metric\": \"elbo\",\n",
    "    \"save_best_state_metric\": \"elbo\",\n",
    "    \"patience\": 10,\n",
    "    \"threshold\": 0,\n",
    "    \"reduce_lr_on_plateau\": True,\n",
    "    \"lr_patience\": 8,\n",
    "    \"lr_factor\": 0.1,\n",
    "}\n",
    "early_stopping_kwargs_scanvi = {\n",
    "    \"early_stopping_metric\": \"accuracy\",\n",
    "    \"save_best_state_metric\": \"accuracy\",\n",
    "    \"on\": \"full_dataset\",\n",
    "    \"patience\": 10,\n",
    "    \"threshold\": 0.001,\n",
    "    \"reduce_lr_on_plateau\": True,\n",
    "    \"lr_patience\": 8,\n",
    "    \"lr_factor\": 0.1,\n",
    "}\n",
    "early_stopping_kwargs_surgery = {\n",
    "    \"early_stopping_metric\": \"elbo\",\n",
    "    \"save_best_state_metric\": \"elbo\",\n",
    "    \"on\": \"full_dataset\",\n",
    "    \"patience\": 10,\n",
    "    \"threshold\": 0.001,\n",
    "    \"reduce_lr_on_plateau\": True,\n",
    "    \"lr_patience\": 8,\n",
    "    \"lr_factor\": 0.1,\n",
    "}"
   ]
  },
  {
   "cell_type": "markdown",
   "metadata": {},
   "source": [
    "### Create SCANVI model and train it on fully labelled reference dataset"
   ]
  },
  {
   "cell_type": "code",
   "execution_count": null,
   "metadata": {},
   "outputs": [
    {
     "name": "stdout",
     "output_type": "stream",
     "text": [
      "\u001b[34mINFO    \u001b[0m Using batches from adata.obs\u001b[1m[\u001b[0m\u001b[32m\"author\"\u001b[0m\u001b[1m]\u001b[0m                                              \n",
      "\u001b[34mINFO    \u001b[0m Using labels from adata.obs\u001b[1m[\u001b[0m\u001b[32m\"CellID\"\u001b[0m\u001b[1m]\u001b[0m                                               \n",
      "\u001b[34mINFO    \u001b[0m Using data from adata.layers\u001b[1m[\u001b[0m\u001b[32m\"counts\"\u001b[0m\u001b[1m]\u001b[0m                                              \n",
      "\u001b[34mINFO    \u001b[0m Computing library size prior per batch                                              \n",
      "\u001b[34mINFO    \u001b[0m Successfully registered anndata object containing \u001b[1;36m338564\u001b[0m cells, \u001b[1;36m5000\u001b[0m vars, \u001b[1;36m17\u001b[0m       \n",
      "         batches, \u001b[1;36m20\u001b[0m labels, and \u001b[1;36m0\u001b[0m proteins. Also registered \u001b[1;36m0\u001b[0m extra categorical covariates  \n",
      "         and \u001b[1;36m0\u001b[0m extra continuous covariates.                                                  \n",
      "\u001b[34mINFO    \u001b[0m Please do not further modify adata until model is trained.                          \n"
     ]
    }
   ],
   "source": [
    "sca.dataset.setup_anndata(source_adata, layer = 'counts', batch_key=condition_key, labels_key=cell_type_key)"
   ]
  },
  {
   "cell_type": "code",
   "execution_count": null,
   "metadata": {},
   "outputs": [],
   "source": [
    "vae = sca.models.SCANVI(\n",
    "    source_adata,\n",
    "    \"Unknown\",\n",
    "    n_layers=2,\n",
    "    encode_covariates=True,\n",
    "    deeply_inject_covariates=False,\n",
    "    use_layer_norm=\"both\",\n",
    "    use_batch_norm=\"none\",\n",
    "    use_cuda = True # indicate to use gpu!\n",
    ")"
   ]
  },
  {
   "cell_type": "code",
   "execution_count": null,
   "metadata": {},
   "outputs": [
    {
     "name": "stdout",
     "output_type": "stream",
     "text": [
      "Labelled Indices:  338564\n",
      "Unlabelled Indices:  0\n"
     ]
    }
   ],
   "source": [
    "print(\"Labelled Indices: \", len(vae._labeled_indices))\n",
    "print(\"Unlabelled Indices: \", len(vae._unlabeled_indices))"
   ]
  },
  {
   "cell_type": "code",
   "execution_count": null,
   "metadata": {},
   "outputs": [
    {
     "name": "stdout",
     "output_type": "stream",
     "text": [
      "\u001b[34mINFO    \u001b[0m Training Unsupervised Trainer for \u001b[1;36m500\u001b[0m epochs.                                       \n",
      "\u001b[34mINFO    \u001b[0m Training SemiSupervised Trainer for \u001b[1;36m200\u001b[0m epochs.                                     \n",
      "\u001b[34mINFO    \u001b[0m KL warmup for \u001b[1;36m400\u001b[0m epochs                                                            \n",
      "Training...:  39%|███▉      | 196/500 [1:53:45<3:05:11, 36.55s/it]\u001b[34mINFO    \u001b[0m Reducing LR on epoch \u001b[1;36m196\u001b[0m.                                                           \n",
      "Training...:  56%|█████▌    | 281/500 [2:42:43<1:59:42, 32.80s/it]\u001b[34mINFO    \u001b[0m Reducing LR on epoch \u001b[1;36m281\u001b[0m.                                                           \n",
      "Training...:  68%|██████▊   | 341/500 [3:17:34<1:37:53, 36.94s/it]\u001b[34mINFO    \u001b[0m Reducing LR on epoch \u001b[1;36m341\u001b[0m.                                                           \n",
      "Training...:  69%|██████▊   | 343/500 [3:18:49<1:37:06, 37.11s/it]\u001b[34mINFO    \u001b[0m                                                                                     \n",
      "         Stopping early: no improvement of more than \u001b[1;36m0\u001b[0m nats in \u001b[1;36m10\u001b[0m epochs                     \n",
      "\u001b[34mINFO    \u001b[0m If the early stopping criterion is too strong, please instantiate it with different \n",
      "         parameters in the train method.                                                     \n",
      "Training...:  69%|██████▊   | 343/500 [3:19:30<1:31:19, 34.90s/it]\n",
      "\u001b[34mINFO    \u001b[0m Training is still in warming up phase. If your applications rely on the posterior   \n",
      "         quality, consider training for more epochs or reducing the kl warmup.               \n",
      "\u001b[34mINFO    \u001b[0m Training time:  \u001b[1;36m7290\u001b[0m s. \u001b[35m/\u001b[0m \u001b[1;36m500\u001b[0m epochs                                                \n",
      "\u001b[34mINFO    \u001b[0m KL warmup phase exceeds overall training phaseIf your applications rely on the      \n",
      "         posterior quality, consider training for more epochs or reducing the kl warmup.     \n",
      "\u001b[34mINFO    \u001b[0m KL warmup for \u001b[1;36m400\u001b[0m epochs                                                            \n",
      "Training...:  19%|█▉        | 38/200 [1:29:38<6:21:00, 141.11s/it]\u001b[34mINFO    \u001b[0m Reducing LR on epoch \u001b[1;36m38\u001b[0m.                                                            \n",
      "Training...:  20%|██        | 40/200 [1:34:30<6:25:15, 144.47s/it]\u001b[34mINFO    \u001b[0m                                                                                     \n",
      "         Stopping early: no improvement of more than \u001b[1;36m0.001\u001b[0m nats in \u001b[1;36m10\u001b[0m epochs                 \n",
      "\u001b[34mINFO    \u001b[0m If the early stopping criterion is too strong, please instantiate it with different \n",
      "         parameters in the train method.                                                     \n",
      "Training...:  20%|██        | 40/200 [1:36:44<6:26:56, 145.10s/it]\n",
      "\u001b[34mINFO    \u001b[0m Training is still in warming up phase. If your applications rely on the posterior   \n",
      "         quality, consider training for more epochs or reducing the kl warmup.               \n",
      "\u001b[34mINFO    \u001b[0m Training time:  \u001b[1;36m2876\u001b[0m s. \u001b[35m/\u001b[0m \u001b[1;36m200\u001b[0m epochs                                                \n"
     ]
    }
   ],
   "source": [
    "vae.train(\n",
    "    n_epochs_unsupervised=vae_epochs,\n",
    "    n_epochs_semisupervised=scanvi_epochs,\n",
    "    unsupervised_trainer_kwargs=dict(early_stopping_kwargs=early_stopping_kwargs),\n",
    "    semisupervised_trainer_kwargs=dict(metrics_to_monitor=[\"elbo\", \"accuracy\"],\n",
    "                                       early_stopping_kwargs=early_stopping_kwargs_scanvi),\n",
    "    frequency=1\n",
    ")"
   ]
  },
  {
   "cell_type": "code",
   "execution_count": null,
   "metadata": {},
   "outputs": [],
   "source": [
    "ref_path = 'scarches_models/zenodo_model/'\n",
    "vae.save(ref_path, overwrite=True)"
   ]
  },
  {
   "cell_type": "code",
   "execution_count": null,
   "metadata": {},
   "outputs": [
    {
     "name": "stderr",
     "output_type": "stream",
     "text": [
      "... storing 'feature_types' as categorical\n",
      "... storing 'genome' as categorical\n"
     ]
    }
   ],
   "source": [
    "source_adata.write_h5ad('scarches_models/zenodo_model/scarches_GBmap_core.h5ad')"
   ]
  }
 ],
 "metadata": {
  "kernelspec": {
   "display_name": "Python 3 (ipykernel)",
   "language": "python",
   "name": "python3"
  },
  "language_info": {
   "codemirror_mode": {
    "name": "ipython",
    "version": 3
   },
   "file_extension": ".py",
   "mimetype": "text/x-python",
   "name": "python",
   "nbconvert_exporter": "python",
   "pygments_lexer": "ipython3",
   "version": "3.7.12"
  }
 },
 "nbformat": 4,
 "nbformat_minor": 4
}
