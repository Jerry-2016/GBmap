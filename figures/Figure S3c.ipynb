{
 "cells": [
  {
   "cell_type": "markdown",
   "id": "9c0931b9-852d-4195-9264-e566b39fbd22",
   "metadata": {},
   "source": [
    "R environment"
   ]
  },
  {
   "cell_type": "code",
   "execution_count": null,
   "id": "9e0c4ec4-b994-470e-b427-c293a93cb778",
   "metadata": {
    "scrolled": true,
    "tags": []
   },
   "outputs": [
    {
     "name": "stderr",
     "output_type": "stream",
     "text": [
      "Warning message:\n",
      "“Strategy 'multiprocess' is deprecated in future (>= 1.20.0). Instead, explicitly specify either 'multisession' or 'multicore'. In the current R session, 'multiprocess' equals 'multicore'.”\n"
     ]
    }
   ],
   "source": [
    "suppressPackageStartupMessages({\n",
    "    library(infercnv)\n",
    "})"
   ]
  },
  {
   "cell_type": "code",
   "execution_count": null,
   "id": "a1576a9e-d0af-4d6e-9274-af33daba7ee8",
   "metadata": {},
   "outputs": [],
   "source": [
    "infercnv_obj <- readRDS('data/Ruiz2021_infercnv.rds')"
   ]
  },
  {
   "cell_type": "code",
   "execution_count": null,
   "id": "22559253-477b-4f3e-9247-44a7a36334e6",
   "metadata": {},
   "outputs": [
    {
     "name": "stdout",
     "output_type": "stream",
     "text": [
      "INFO [2021-07-28 00:12:20] Colors for breaks:  #00008B,#24249B,#4848AB,#6D6DBC,#9191CC,#B6B6DD,#DADAEE,#FFFFFF,#EEDADA,#DDB6B6,#CC9191,#BC6D6D,#AB4848,#9B2424,#8B0000\n",
      "INFO [2021-07-28 00:12:20] Quantiles of plotted data range: 0.889412907385263,1.00048690629582,1.00048690629582,1.00048690629582,1.11714561229341\n",
      "INFO [2021-07-28 00:12:43] plot_cnv_observations:Writing observation data to figures//infercnv_noraster.observations.txt\n",
      "INFO [2021-07-28 00:14:56] plot_cnv_references:Start\n",
      "INFO [2021-07-28 00:14:56] Reference data size: Cells= 21301 Genes= 8538\n",
      "INFO [2021-07-28 05:52:36] plot_cnv_references:Number reference groups= 9\n",
      "INFO [2021-07-28 05:52:40] plot_cnv_references:Plotting heatmap.\n",
      "INFO [2021-07-28 05:57:04] Colors for breaks:  #00008B,#24249B,#4848AB,#6D6DBC,#9191CC,#B6B6DD,#DADAEE,#FFFFFF,#EEDADA,#DDB6B6,#CC9191,#BC6D6D,#AB4848,#9B2424,#8B0000\n",
      "INFO [2021-07-28 05:57:04] Quantiles of plotted data range: 0.889412907385263,1.00048690629582,1.00048690629582,1.00048690629582,1.11714561229341\n",
      "INFO [2021-07-28 05:57:23] plot_cnv_references:Writing reference data to figures//infercnv_noraster.references.txt\n"
     ]
    },
    {
     "data": {
      "text/html": [
       "<dl>\n",
       "\t<dt>$cluster_by_groups</dt>\n",
       "\t\t<dd>FALSE</dd>\n",
       "\t<dt>$k_obs_groups</dt>\n",
       "\t\t<dd>3</dd>\n",
       "\t<dt>$contig_cex</dt>\n",
       "\t\t<dd>1</dd>\n",
       "\t<dt>$x.center</dt>\n",
       "\t\t<dd>1.00327925983933</dd>\n",
       "\t<dt>$x.range</dt>\n",
       "\t\t<dd><style>\n",
       ".list-inline {list-style: none; margin:0; padding: 0}\n",
       ".list-inline>li {display: inline-block}\n",
       ".list-inline>li:not(:last-child)::after {content: \"\\00b7\"; padding: 0 .5ex}\n",
       "</style>\n",
       "<ol class=list-inline><li>0.889412907385263</li><li>1.11714561229341</li></ol>\n",
       "</dd>\n",
       "\t<dt>$hclust_method</dt>\n",
       "\t\t<dd>'ward.D'</dd>\n",
       "\t<dt>$color_safe_pal</dt>\n",
       "\t\t<dd>FALSE</dd>\n",
       "\t<dt>$output_format</dt>\n",
       "\t\t<dd>'pdf'</dd>\n",
       "\t<dt>$png_res</dt>\n",
       "\t\t<dd>300</dd>\n",
       "\t<dt>$dynamic_resize</dt>\n",
       "\t\t<dd>0</dd>\n",
       "</dl>\n"
      ],
      "text/latex": [
       "\\begin{description}\n",
       "\\item[\\$cluster\\_by\\_groups] FALSE\n",
       "\\item[\\$k\\_obs\\_groups] 3\n",
       "\\item[\\$contig\\_cex] 1\n",
       "\\item[\\$x.center] 1.00327925983933\n",
       "\\item[\\$x.range] \\begin{enumerate*}\n",
       "\\item 0.889412907385263\n",
       "\\item 1.11714561229341\n",
       "\\end{enumerate*}\n",
       "\n",
       "\\item[\\$hclust\\_method] 'ward.D'\n",
       "\\item[\\$color\\_safe\\_pal] FALSE\n",
       "\\item[\\$output\\_format] 'pdf'\n",
       "\\item[\\$png\\_res] 300\n",
       "\\item[\\$dynamic\\_resize] 0\n",
       "\\end{description}\n"
      ],
      "text/markdown": [
       "$cluster_by_groups\n",
       ":   FALSE\n",
       "$k_obs_groups\n",
       ":   3\n",
       "$contig_cex\n",
       ":   1\n",
       "$x.center\n",
       ":   1.00327925983933\n",
       "$x.range\n",
       ":   1. 0.889412907385263\n",
       "2. 1.11714561229341\n",
       "\n",
       "\n",
       "\n",
       "$hclust_method\n",
       ":   'ward.D'\n",
       "$color_safe_pal\n",
       ":   FALSE\n",
       "$output_format\n",
       ":   'pdf'\n",
       "$png_res\n",
       ":   300\n",
       "$dynamic_resize\n",
       ":   0\n",
       "\n",
       "\n"
      ],
      "text/plain": [
       "$cluster_by_groups\n",
       "[1] FALSE\n",
       "\n",
       "$k_obs_groups\n",
       "[1] 3\n",
       "\n",
       "$contig_cex\n",
       "[1] 1\n",
       "\n",
       "$x.center\n",
       "[1] 1.003279\n",
       "\n",
       "$x.range\n",
       "[1] 0.8894129 1.1171456\n",
       "\n",
       "$hclust_method\n",
       "[1] \"ward.D\"\n",
       "\n",
       "$color_safe_pal\n",
       "[1] FALSE\n",
       "\n",
       "$output_format\n",
       "[1] \"pdf\"\n",
       "\n",
       "$png_res\n",
       "[1] 300\n",
       "\n",
       "$dynamic_resize\n",
       "[1] 0\n"
      ]
     },
     "metadata": {},
     "output_type": "display_data"
    }
   ],
   "source": [
    "plot_cnv(\n",
    "  infercnv_obj,\n",
    "  out_dir = \"figures/\",\n",
    "  title = \"inferCNV\",\n",
    "  obs_title = \"Observations (Cells)\",\n",
    "  ref_title = \"References (Cells)\",\n",
    "  cluster_by_groups = FALSE,\n",
    "  cluster_references = TRUE,\n",
    "  plot_chr_scale = FALSE,\n",
    "  chr_lengths = NULL,\n",
    "  contig_cex = 1,\n",
    "  x.center = mean(infercnv_obj@expr.data),\n",
    "  x.range = \"auto\",\n",
    "  hclust_method = \"ward.D\",\n",
    "  custom_color_pal = NULL,\n",
    "  color_safe_pal = FALSE,\n",
    "  output_filename = \"infercnv_noraster\",\n",
    "  output_format = \"pdf\",\n",
    "  dynamic_resize = 0,\n",
    "  ref_contig = NULL,\n",
    "  write_expr_matrix = FALSE,\n",
    "  useRaster = TRUE\n",
    ")"
   ]
  },
  {
   "cell_type": "markdown",
   "id": "e7aee834-2be3-4d6c-abbf-de8dac9df490",
   "metadata": {},
   "source": [
    "Plot was arranged in Illustrator "
   ]
  }
 ],
 "metadata": {
  "kernelspec": {
   "display_name": "R",
   "language": "R",
   "name": "ir"
  },
  "language_info": {
   "codemirror_mode": "r",
   "file_extension": ".r",
   "mimetype": "text/x-r-source",
   "name": "R",
   "pygments_lexer": "r",
   "version": "4.0.3"
  }
 },
 "nbformat": 4,
 "nbformat_minor": 5
}
