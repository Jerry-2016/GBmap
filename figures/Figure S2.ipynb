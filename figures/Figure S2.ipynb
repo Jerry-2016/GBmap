{
 "cells": [
  {
   "cell_type": "markdown",
   "id": "339f7ad7-a72e-4ce4-a698-69a5ea5a2a85",
   "metadata": {},
   "source": [
    "Heatmaps displaying the gene modules for each territory can be found at the end of the 08(_x_)_ gene_module_detection_hotspot _(_territory_)_GBmap.ipynb notebooks"
   ]
  },
  {
   "cell_type": "markdown",
   "id": "8732999a-fbf4-4f12-99bc-93c73332b56c",
   "metadata": {},
   "source": [
    "UMAP plots for each territory and its final annotation can be found at the 09(_x_)_ cell_state_annotation _(_territory_)_core_GBmap.ipynb notebooks"
   ]
  },
  {
   "cell_type": "markdown",
   "id": "f7edd416-ae56-44e7-a9e6-51362f812cd1",
   "metadata": {},
   "source": [
    "Final figure was arranged in Illustrator"
   ]
  }
 ],
 "metadata": {
  "kernelspec": {
   "display_name": "",
   "name": ""
  },
  "language_info": {
   "name": ""
  }
 },
 "nbformat": 4,
 "nbformat_minor": 5
}
